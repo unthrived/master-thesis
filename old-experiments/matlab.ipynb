{
 "cells": [
  {
   "cell_type": "code",
   "execution_count": 1,
   "metadata": {},
   "outputs": [],
   "source": [
    "import numpy as np\n",
    "from scipy.io import loadmat"
   ]
  },
  {
   "cell_type": "code",
   "execution_count": 3,
   "metadata": {},
   "outputs": [
    {
     "ename": "NotImplementedError",
     "evalue": "Please use HDF reader for matlab v7.3 files",
     "output_type": "error",
     "traceback": [
      "\u001b[0;31m---------------------------------------------------------------------------\u001b[0m",
      "\u001b[0;31mNotImplementedError\u001b[0m                       Traceback (most recent call last)",
      "Cell \u001b[0;32mIn[3], line 2\u001b[0m\n\u001b[1;32m      1\u001b[0m path \u001b[39m=\u001b[39m \u001b[39m'\u001b[39m\u001b[39mdecoding-toolbox_matlab/data/\u001b[39m\u001b[39m'\u001b[39m\n\u001b[0;32m----> 2\u001b[0m data \u001b[39m=\u001b[39m loadmat(path\u001b[39m+\u001b[39;49m\u001b[39m'\u001b[39;49m\u001b[39mtestdata_orientation.mat\u001b[39;49m\u001b[39m'\u001b[39;49m)\n",
      "File \u001b[0;32m~/opt/anaconda3/envs/mne/lib/python3.10/site-packages/scipy/io/matlab/_mio.py:225\u001b[0m, in \u001b[0;36mloadmat\u001b[0;34m(file_name, mdict, appendmat, **kwargs)\u001b[0m\n\u001b[1;32m    223\u001b[0m variable_names \u001b[39m=\u001b[39m kwargs\u001b[39m.\u001b[39mpop(\u001b[39m'\u001b[39m\u001b[39mvariable_names\u001b[39m\u001b[39m'\u001b[39m, \u001b[39mNone\u001b[39;00m)\n\u001b[1;32m    224\u001b[0m \u001b[39mwith\u001b[39;00m _open_file_context(file_name, appendmat) \u001b[39mas\u001b[39;00m f:\n\u001b[0;32m--> 225\u001b[0m     MR, _ \u001b[39m=\u001b[39m mat_reader_factory(f, \u001b[39m*\u001b[39;49m\u001b[39m*\u001b[39;49mkwargs)\n\u001b[1;32m    226\u001b[0m     matfile_dict \u001b[39m=\u001b[39m MR\u001b[39m.\u001b[39mget_variables(variable_names)\n\u001b[1;32m    228\u001b[0m \u001b[39mif\u001b[39;00m mdict \u001b[39mis\u001b[39;00m \u001b[39mnot\u001b[39;00m \u001b[39mNone\u001b[39;00m:\n",
      "File \u001b[0;32m~/opt/anaconda3/envs/mne/lib/python3.10/site-packages/scipy/io/matlab/_mio.py:80\u001b[0m, in \u001b[0;36mmat_reader_factory\u001b[0;34m(file_name, appendmat, **kwargs)\u001b[0m\n\u001b[1;32m     78\u001b[0m     \u001b[39mreturn\u001b[39;00m MatFile5Reader(byte_stream, \u001b[39m*\u001b[39m\u001b[39m*\u001b[39mkwargs), file_opened\n\u001b[1;32m     79\u001b[0m \u001b[39melif\u001b[39;00m mjv \u001b[39m==\u001b[39m \u001b[39m2\u001b[39m:\n\u001b[0;32m---> 80\u001b[0m     \u001b[39mraise\u001b[39;00m \u001b[39mNotImplementedError\u001b[39;00m(\u001b[39m'\u001b[39m\u001b[39mPlease use HDF reader for matlab v7.3 files\u001b[39m\u001b[39m'\u001b[39m)\n\u001b[1;32m     81\u001b[0m \u001b[39melse\u001b[39;00m:\n\u001b[1;32m     82\u001b[0m     \u001b[39mraise\u001b[39;00m \u001b[39mTypeError\u001b[39;00m(\u001b[39m'\u001b[39m\u001b[39mDid not recognize version \u001b[39m\u001b[39m%s\u001b[39;00m\u001b[39m'\u001b[39m \u001b[39m%\u001b[39m mjv)\n",
      "\u001b[0;31mNotImplementedError\u001b[0m: Please use HDF reader for matlab v7.3 files"
     ]
    }
   ],
   "source": [
    "path = 'decoding-toolbox_matlab/data/'\n",
    "data = loadmat(path+'testdata_orientation.mat')"
   ]
  },
  {
   "cell_type": "code",
   "execution_count": 5,
   "metadata": {},
   "outputs": [
    {
     "name": "stdout",
     "output_type": "stream",
     "text": [
      "Collecting mat73\n",
      "  Downloading mat73-0.60-py3-none-any.whl (19 kB)\n",
      "Collecting h5py\n",
      "  Downloading h5py-3.8.0-cp310-cp310-macosx_10_9_x86_64.whl (3.2 MB)\n",
      "\u001b[2K     \u001b[90m━━━━━━━━━━━━━━━━━━━━━━━━━━━━━━━━━━━━━━━━\u001b[0m \u001b[32m3.2/3.2 MB\u001b[0m \u001b[31m12.0 MB/s\u001b[0m eta \u001b[36m0:00:00\u001b[0ma \u001b[36m0:00:01\u001b[0m\n",
      "\u001b[?25hRequirement already satisfied: numpy in /Users/junjieji/opt/anaconda3/envs/mne/lib/python3.10/site-packages (from mat73) (1.24.3)\n",
      "Installing collected packages: h5py, mat73\n",
      "Successfully installed h5py-3.8.0 mat73-0.60\n"
     ]
    }
   ],
   "source": [
    "!pip install mat73 "
   ]
  },
  {
   "cell_type": "code",
   "execution_count": 7,
   "metadata": {},
   "outputs": [],
   "source": [
    "import mat73\n",
    "data = mat73.loadmat(path+'testdata_orientation.mat')"
   ]
  },
  {
   "cell_type": "code",
   "execution_count": 17,
   "metadata": {},
   "outputs": [
    {
     "data": {
      "text/plain": [
       "dict_keys(['X', 'Y', 'label', 'time'])"
      ]
     },
     "execution_count": 17,
     "metadata": {},
     "output_type": "execute_result"
    }
   ],
   "source": [
    "type(data)\n",
    "data.keys()"
   ]
  },
  {
   "cell_type": "code",
   "execution_count": 20,
   "metadata": {},
   "outputs": [],
   "source": [
    "data['label']\n",
    "time = data['time']"
   ]
  },
  {
   "cell_type": "code",
   "execution_count": 16,
   "metadata": {},
   "outputs": [],
   "source": [
    "X = data['X']\n",
    "y = data['Y']"
   ]
  },
  {
   "cell_type": "code",
   "execution_count": 29,
   "metadata": {},
   "outputs": [
    {
     "ename": "IndexError",
     "evalue": "tuple index out of range",
     "output_type": "error",
     "traceback": [
      "\u001b[0;31m---------------------------------------------------------------------------\u001b[0m",
      "\u001b[0;31mIndexError\u001b[0m                                Traceback (most recent call last)",
      "Cell \u001b[0;32mIn[29], line 4\u001b[0m\n\u001b[1;32m      2\u001b[0m cfg \u001b[39m=\u001b[39m []\n\u001b[1;32m      3\u001b[0m \u001b[39m# cfg.nFold = 2 \u001b[39;00m\n\u001b[0;32m----> 4\u001b[0m decoder \u001b[39m=\u001b[39m train_encoder(X, y, cfg)\n",
      "File \u001b[0;32m~/Desktop/master-thesis/DecToolbox.py:102\u001b[0m, in \u001b[0;36mtrain_encoder\u001b[0;34m(X, Y, cfg)\u001b[0m\n\u001b[1;32m    100\u001b[0m Y \u001b[39m=\u001b[39m Y\u001b[39m.\u001b[39mT\n\u001b[1;32m    101\u001b[0m X \u001b[39m=\u001b[39m X\u001b[39m.\u001b[39mT\n\u001b[0;32m--> 102\u001b[0m numC \u001b[39m=\u001b[39m X\u001b[39m.\u001b[39;49mshape[\u001b[39m1\u001b[39;49m]\n\u001b[1;32m    103\u001b[0m numF \u001b[39m=\u001b[39m Y\u001b[39m.\u001b[39mshape[\u001b[39m1\u001b[39m]\n\u001b[1;32m    104\u001b[0m decoder \u001b[39m=\u001b[39m \u001b[39mdict\u001b[39m()\n",
      "\u001b[0;31mIndexError\u001b[0m: tuple index out of range"
     ]
    }
   ],
   "source": [
    "from DecToolbox import train_encoder, test_encoder\n",
    "cfg = []\n",
    "# cfg.nFold = 2 \n",
    "decoder = train_encoder(X, y, cfg)"
   ]
  },
  {
   "cell_type": "code",
   "execution_count": null,
   "metadata": {},
   "outputs": [],
   "source": []
  }
 ],
 "metadata": {
  "kernelspec": {
   "display_name": "mne",
   "language": "python",
   "name": "python3"
  },
  "language_info": {
   "codemirror_mode": {
    "name": "ipython",
    "version": 3
   },
   "file_extension": ".py",
   "mimetype": "text/x-python",
   "name": "python",
   "nbconvert_exporter": "python",
   "pygments_lexer": "ipython3",
   "version": "3.10.11"
  },
  "orig_nbformat": 4
 },
 "nbformat": 4,
 "nbformat_minor": 2
}
