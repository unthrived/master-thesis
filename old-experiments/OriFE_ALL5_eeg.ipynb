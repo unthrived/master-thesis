{
 "cells": [
  {
   "attachments": {},
   "cell_type": "markdown",
   "id": "c19c0239",
   "metadata": {},
   "source": [
    "__Forward encoding model based on Pim Mostert Decoding toolbox__"
   ]
  },
  {
   "cell_type": "code",
   "execution_count": 2,
   "id": "66196b97",
   "metadata": {},
   "outputs": [
    {
     "name": "stdout",
     "output_type": "stream",
     "text": [
      "/Users/junjieji/Desktop/master-thesis\n"
     ]
    }
   ],
   "source": [
    "!pwd"
   ]
  },
  {
   "attachments": {},
   "cell_type": "markdown",
   "id": "99028332",
   "metadata": {},
   "source": [
    "# Init"
   ]
  },
  {
   "cell_type": "code",
   "execution_count": 3,
   "id": "caf2024a-a3d1-4443-bd51-316a254d607f",
   "metadata": {},
   "outputs": [],
   "source": [
    "# %matplotlib qt\n",
    "from scipy.io import loadmat\n",
    "import numpy as np\n",
    "import pandas as pd\n",
    "import mat73\n",
    "import mne\n",
    "import os\n",
    "\n",
    "import inspect #path_fun = inspect.getfile(StratifiedKFold)\n",
    "import matplotlib.pyplot as plt\n",
    "import DecToolbox as dt\n",
    "#print(sys.path)\n",
    "\n",
    "import sys\n",
    "path_utils = '/decoding_toolbox_py/helper_funcs' \n",
    "sys.path.append(path_utils)\n",
    "# !pip install mat73"
   ]
  },
  {
   "attachments": {},
   "cell_type": "markdown",
   "id": "801a0115",
   "metadata": {},
   "source": [
    "Decoding modules"
   ]
  },
  {
   "cell_type": "code",
   "execution_count": 4,
   "id": "c770be54",
   "metadata": {},
   "outputs": [],
   "source": [
    "''' VARIABLES '''\n",
    "\n",
    "useEGG = True\n",
    "\n",
    "# No time dimension (We only select one point as example)\n",
    "sel_t = 120\n",
    "\n",
    "numC = 8 # how many channels to use\n",
    "\n",
    "if numC == 8:\n",
    "    x_labels = np.array([  0. ,  22.5,  45. ,  67.5,  90. , 112.5, 135. , 157.5])\n",
    "elif numC == 4:\n",
    "    x_labels = np.array([0., 45., 90., 135.])\n",
    "\n",
    "cfg_stim = dict()\n",
    "cfg_stim['kappa'] = 4\n",
    "cfg_stim['NumC'] = numC\n",
    "cfg_stim['Tuning'] = 'vonmises'#'halfRectCos'\n",
    "cfg_stim['offset'] = 0\n",
    "\n",
    "cfg_train = dict()\n",
    "cfg_train['gamma'] = 0.01\n",
    "cfg_train['demean'] = True\n",
    "cfg_train['returnPattern'] = True\n",
    "\n",
    "cfg_test = dict()\n",
    "cfg_test['demean'] = 'traindata'\n"
   ]
  },
  {
   "attachments": {},
   "cell_type": "markdown",
   "id": "9f0f5209-8015-49bd-b6df-ecf3a1247651",
   "metadata": {},
   "source": [
    "Loading & preparing orientation data"
   ]
  },
  {
   "cell_type": "code",
   "execution_count": 5,
   "id": "c9c035db-ba98-4c6a-a62e-e963ce32e8d0",
   "metadata": {},
   "outputs": [],
   "source": [
    "path = 'decoding-toolbox_matlab/data/testdata_orientation.mat' \n",
    "ori_data= mat73.loadmat(path)"
   ]
  },
  {
   "cell_type": "code",
   "execution_count": 6,
   "id": "2a743ac5",
   "metadata": {},
   "outputs": [
    {
     "name": "stdout",
     "output_type": "stream",
     "text": [
      "NOTE: pick_channels() is a legacy function. New code should use inst.pick(...).\n",
      "Identifying common channels ...\n"
     ]
    },
    {
     "name": "stderr",
     "output_type": "stream",
     "text": [
      "/var/folders/x2/l6kq7w2s48bbjcgczm1ll_fm0000gn/T/ipykernel_82719/3438439036.py:18: RuntimeWarning: Only a single dataset was passed to mne.grand_average().\n",
      "  gvaverage = mne.grand_average(epochs[:])\n"
     ]
    }
   ],
   "source": [
    "EGG = True\n",
    "\n",
    "subjs_list = [# 's01', \n",
    "              's02'\n",
    "              #, 's03' ,'s04','s05','s07','s08','s09','s10','s11','s12','s13','s14', 's15', 's16','s17','s18','s19','s20','s21','s22','s23','s24','s25','s26','s27' \n",
    "                ]\n",
    "if EGG:\n",
    "    \n",
    "    path = 'Cond_CJ_EEG'\n",
    "\n",
    "    epochs = []\n",
    "    for isubj, subject_id in enumerate(subjs_list):\n",
    "        preproc_path = os.path.join(path, subject_id);\n",
    "        epoch = mne.read_epochs(preproc_path + '/main_epo.fif',verbose=False)\n",
    "        epochs.append(epoch.average());\n",
    "        # print(isubj)\n",
    "\n",
    "    gvaverage = mne.grand_average(epochs[:])\n",
    "    all_epochs = []\n",
    "    all_rawdata = [None] * np.size(subjs_list)\n",
    "    for isubj, subject_id in enumerate(subjs_list):\n",
    "        preproc_path = os.path.join(path, subject_id);\n",
    "        epoch = mne.read_epochs(preproc_path + '/main_epo.fif',verbose=False)\n",
    "        subj_data = {'epoch_dat' : epoch.get_data(), 'metadata' :  epoch.metadata}\n",
    "        all_rawdata[isubj] =  subj_data\n",
    "        all_epochs.append(epoch);\n",
    "        epoch.metadata\n",
    "    all_st_epochs = []\n",
    "    all_st_rawdata = [None] * np.size(subjs_list)\n",
    "    for isubj, subject_id in enumerate(subjs_list):\n",
    "        preproc_path = os.path.join(path, subject_id);\n",
    "        epoch = mne.read_epochs(preproc_path + '/mainstim_epo.fif',verbose=False)\n",
    "        subj_data = {'epoch_dat' : epoch.get_data(), 'metadata' :  epoch.metadata}\n",
    "        all_st_rawdata[isubj] =  subj_data\n",
    "        all_st_epochs.append(epoch);\n",
    "        epoch.metadata\n",
    "\n"
   ]
  },
  {
   "cell_type": "code",
   "execution_count": 7,
   "id": "c8ed4a31-37bf-41e0-9c11-81fda649ca6c",
   "metadata": {},
   "outputs": [
    {
     "name": "stdout",
     "output_type": "stream",
     "text": [
      "Y (273, 211, 760) X (760,) time (211,)\n",
      "YY (32, 201, 1396) XX (1396,) tt (201,)\n"
     ]
    }
   ],
   "source": [
    "ival = 0\n",
    "'''Matlab'''\n",
    "Y = ori_data['Y']\n",
    "X = ori_data['X']\n",
    "time = ori_data['time']\n",
    "label = ori_data['label'] # Label of the features\n",
    "print('Y', Y.shape,'X', X.shape,'time', time.shape)\n",
    "'''EEG'''\n",
    "tt = all_st_epochs[ival].times\n",
    "ll= all_st_epochs[ival].ch_names\n",
    "YY = all_st_rawdata[ival]['epoch_dat']\n",
    "YY = np.einsum('kji->jik', YY)\n",
    "XX = np.array(all_st_rawdata[ival]['metadata'].orient)\n",
    "print('YY', YY.shape,'XX', XX.shape,'tt', tt.shape)\n",
    "if numC == 8:\n",
    "    binned_XX = np.digitize(XX, bins = np.array([  0, 22.5, 45, 67.5, 90, 112.5, 135, 157.5 ]))-1 # bins collapsing degrees by similarity \n",
    "    binned_XX = binned_XX.astype(float)\n",
    "else: \n",
    "    binned_XX = np.digitize(XX, bins = np.array([  0, 45, 90, 135 ]))-1\n"
   ]
  },
  {
   "cell_type": "code",
   "execution_count": 8,
   "id": "ccb759e5",
   "metadata": {},
   "outputs": [
    {
     "name": "stdout",
     "output_type": "stream",
     "text": [
      "[124.67561622  35.06501706 155.55804138 ...  92.36079658   7.16197244\n",
      "   3.78152145]\n",
      "[5. 1. 6. ... 4. 0. 0.]\n"
     ]
    }
   ],
   "source": [
    "print(XX)\n",
    "print(binned_XX)"
   ]
  },
  {
   "cell_type": "code",
   "execution_count": 9,
   "id": "a29c0e10",
   "metadata": {},
   "outputs": [
    {
     "name": "stdout",
     "output_type": "stream",
     "text": [
      "Y (32, 201, 1396) X (1396,) time (201,)\n"
     ]
    }
   ],
   "source": [
    "''' If False it's gonna use the matlab data instead of the EGG\n",
    "'''\n",
    "if useEGG:\n",
    "    X, Y, time, label = binned_XX, YY, tt, ll\n",
    "print('Y', Y.shape,'X', X.shape,'time', time.shape)"
   ]
  },
  {
   "cell_type": "code",
   "execution_count": 10,
   "id": "144582dd",
   "metadata": {},
   "outputs": [
    {
     "name": "stdout",
     "output_type": "stream",
     "text": [
      "-1.9705441375530378e-05 1.8494417875456327e-05\n",
      "-1.9705441375530378e-05 1.8494417875456327e-05\n"
     ]
    }
   ],
   "source": [
    "print(min(Y[0,0,:]), max(Y[0,0,:]))\n",
    "print(min(YY[0,0,:]), max(YY[0,0,:]))"
   ]
  },
  {
   "cell_type": "code",
   "execution_count": 11,
   "id": "2f225854",
   "metadata": {},
   "outputs": [
    {
     "data": {
      "image/png": "[encoded data removed]",
      "text/plain": [
       "<Figure size 1200x1200 with 4 Axes>"
      ]
     },
     "metadata": {},
     "output_type": "display_data"
    }
   ],
   "source": [
    "# Create subplots side by side\n",
    "fig, axs = plt.subplots(2, 2, figsize=(12, 12))\n",
    "\n",
    "data = 3\n",
    "\n",
    "# Plot Y[0,:,0] in the first subplot\n",
    "axs[0, 0].plot(Y[0,:,0])\n",
    "axs[0, 0].set_xlabel('Index')\n",
    "axs[0, 0].set_ylabel('Value')\n",
    "axs[0, 0].set_title('Plot of Y[0,:,0]')\n",
    "\n",
    "# Plot YY[0,:,0] in the second subplot\n",
    "axs[0, 1].plot(YY[0,:,0])\n",
    "axs[0, 1].set_xlabel('Index')\n",
    "axs[0, 1].set_ylabel('Value')\n",
    "axs[0, 1].set_title('Plot of YY[0,:,0]')\n",
    "\n",
    "# Plot Y[0,:,1] in the third subplot\n",
    "axs[1, 0].plot(Y[0,:,data])\n",
    "axs[1, 0].set_xlabel('Index')\n",
    "axs[1, 0].set_ylabel('Value')\n",
    "axs[1, 0].set_title('Plot of Y[0,:,1]')\n",
    "\n",
    "# Plot YY[0,:,1] in the fourth subplot\n",
    "axs[1, 1].plot(YY[0,:,data])\n",
    "axs[1, 1].set_xlabel('Index')\n",
    "axs[1, 1].set_ylabel('Value')\n",
    "axs[1, 1].set_title('Plot of YY[0,:,1]')\n",
    "\n",
    "# Adjust the spacing between subplots\n",
    "plt.tight_layout()\n",
    "\n",
    "# Display the plot\n",
    "plt.show()"
   ]
  },
  {
   "cell_type": "code",
   "execution_count": 12,
   "id": "0a89e2dc",
   "metadata": {},
   "outputs": [
    {
     "name": "stdout",
     "output_type": "stream",
     "text": [
      "(32,)\n",
      "['Fp1', 'F3', 'F7', 'FT9', 'FC5', 'FC1', 'C3', 'T7', 'LM', 'CP5', 'CP1', 'Pz', 'P3', 'P7', 'O1', 'Oz', 'O2', 'P4', 'P8', 'RM', 'CP6', 'CP2', 'Cz', 'C4', 'T8', 'Eye', 'FC6', 'FC2', 'F4', 'F8', 'Fp2', 'Fz']\n"
     ]
    }
   ],
   "source": [
    "print(np.shape(label))\n",
    "print(label)"
   ]
  },
  {
   "attachments": {},
   "cell_type": "markdown",
   "id": "95ec0bb7",
   "metadata": {},
   "source": [
    "the binned_phi's from ori data are from 0 to 7"
   ]
  },
  {
   "cell_type": "code",
   "execution_count": 13,
   "id": "b3932267-b1bc-415d-95ef-f7e26b88c269",
   "metadata": {},
   "outputs": [
    {
     "name": "stdout",
     "output_type": "stream",
     "text": [
      "[112.5  22.5 135.  ...  90.    0.    0. ]\n",
      "[5 1 6 ... 4 0 0]\n"
     ]
    }
   ],
   "source": [
    "\n",
    "phi = X * (180/numC);   # Presented orientation in degrees\n",
    "print(phi)\n",
    "if numC == 8:\n",
    "    binned_phi = np.digitize(phi, bins = np.array([  0, 22.5, 45, 67.5, 90, 112.5, 135, 157.5 ]) )-1 # bins collapsing degrees by similarity\n",
    "else:\n",
    "    binned_phi = np.digitize(phi, bins = np.array([  0, 45, 90,  135 ]) )-1\n",
    "print(binned_phi)\n",
    "numF = Y.shape[0];\n",
    "numT = Y.shape[1];\n",
    "numN = Y.shape[2];"
   ]
  },
  {
   "attachments": {},
   "cell_type": "markdown",
   "id": "7a3393d5-1532-4133-b93d-ed5a5d825c8f",
   "metadata": {},
   "source": [
    "Creating and saving dat"
   ]
  },
  {
   "cell_type": "code",
   "execution_count": 14,
   "id": "03087be7",
   "metadata": {},
   "outputs": [
    {
     "name": "stdout",
     "output_type": "stream",
     "text": [
      "(1396,)\n",
      "[0 1 2 3 4 5 6 7]\n"
     ]
    }
   ],
   "source": [
    "G = binned_phi.copy() # binning/discritizing orientation dimension to assign a balanced number of stimuli to different dat\n",
    "# binned_phi = (G-1)*(180/8)\n",
    "# G = (G-1)*(180/4)\n",
    "print(G.shape)\n",
    "CONDS = np.unique(G);\n",
    "nConds = CONDS.size\n",
    "print(CONDS)\n",
    "nfold = 2\n",
    "# FoldsIdx = dt.CreateFolds(binned_phi, Y, nfold)\n",
    "FoldsIdx = dt.CreateFolds(G, Y, nfold)"
   ]
  },
  {
   "cell_type": "code",
   "execution_count": 15,
   "id": "9f3cd23a",
   "metadata": {},
   "outputs": [],
   "source": [
    "dat = dict()\n",
    "dat['X_train'] = G[ FoldsIdx[0]['train_index']]\n",
    "dat['Y_train'] = np.squeeze(Y[:,sel_t, FoldsIdx[0]['train_index']])\n",
    "dat['phi_train'] = phi[ FoldsIdx[0]['train_index']]\n",
    "# dat['new_train'] = binned_phi[ FoldsIdx[0]['train_index']]\n",
    "\n",
    "dat['X_test'] = G[ FoldsIdx[0]['test_index']]\n",
    "dat['Y_test'] = np.squeeze(Y[:,sel_t, FoldsIdx[0]['test_index']])\n",
    "dat['phi_test'] = phi[ FoldsIdx[0]['test_index']]"
   ]
  },
  {
   "cell_type": "code",
   "execution_count": 16,
   "id": "1e34a463",
   "metadata": {},
   "outputs": [
    {
     "name": "stdout",
     "output_type": "stream",
     "text": [
      "[  0.   22.5  45.   67.5  90.  112.5 135.  157.5]\n",
      "(8, 698) (8, 698)\n"
     ]
    },
    {
     "data": {
      "text/plain": [
       "<matplotlib.image.AxesImage at 0x7f7f486f26b0>"
      ]
     },
     "execution_count": 16,
     "metadata": {},
     "output_type": "execute_result"
    },
    {
     "data": {
      "image/png": "[encoded data removed]",
      "text/plain": [
       "<Figure size 300x300 with 1 Axes>"
      ]
     },
     "metadata": {},
     "output_type": "display_data"
    }
   ],
   "source": [
    "print(np.unique(dat['phi_train']))\n",
    "design, sortedesign = dt.stim_features(dat['phi_train'], cfg_stim)\n",
    "# design, sortedesign = dt.stim_features(dat['new_train'], cfg)\n",
    "# design, sortedesign = dt.stim_features(binned_phi, cfg)\n",
    "print(np.shape(design), np.shape(sortedesign))\n",
    "\n",
    "fig, ax = plt.subplots(1, 1, figsize=(3, 3))\n",
    "plt.imshow(sortedesign,aspect='auto'\n",
    "           # ,interpolation = 'none'\n",
    "           )"
   ]
  },
  {
   "attachments": {},
   "cell_type": "markdown",
   "id": "56109b01",
   "metadata": {},
   "source": [
    "# Part 1"
   ]
  },
  {
   "attachments": {},
   "cell_type": "markdown",
   "id": "baeb1875",
   "metadata": {},
   "source": [
    "Training encoding model"
   ]
  },
  {
   "cell_type": "code",
   "execution_count": 17,
   "id": "2dc12dbc",
   "metadata": {},
   "outputs": [
    {
     "name": "stdout",
     "output_type": "stream",
     "text": [
      "(8, 698) (32, 698)\n",
      "()\n"
     ]
    }
   ],
   "source": [
    "print(np.shape(design), np.shape(dat['Y_train']))\n",
    "\n",
    "decoder = dt.train_encoder(design, dat['Y_train'], cfg_train)\n",
    "\n",
    "print(np.shape(decoder))"
   ]
  },
  {
   "attachments": {},
   "cell_type": "markdown",
   "id": "12b3406d",
   "metadata": {},
   "source": [
    "Testing the encoding model"
   ]
  },
  {
   "cell_type": "code",
   "execution_count": 18,
   "id": "85b5df80",
   "metadata": {},
   "outputs": [
    {
     "name": "stdout",
     "output_type": "stream",
     "text": [
      "() (32, 698)\n",
      "(8, 698)\n"
     ]
    }
   ],
   "source": [
    "print(np.shape(decoder), np.shape(dat['Y_test']))\n",
    "\n",
    "Xhat = dt.test_encoder( decoder, dat['Y_test'], cfg_test)\n",
    "\n",
    "print(np.shape(Xhat))"
   ]
  },
  {
   "attachments": {},
   "cell_type": "markdown",
   "id": "d4fc6350",
   "metadata": {},
   "source": [
    "__Preparing data for plotting results__"
   ]
  },
  {
   "cell_type": "code",
   "execution_count": 19,
   "id": "131c5654",
   "metadata": {},
   "outputs": [
    {
     "name": "stdout",
     "output_type": "stream",
     "text": [
      "(8, 698)\n"
     ]
    }
   ],
   "source": [
    "print(Xhat.shape)"
   ]
  },
  {
   "cell_type": "code",
   "execution_count": 20,
   "id": "d1557c91",
   "metadata": {},
   "outputs": [
    {
     "data": {
      "text/plain": [
       "array([5, 1, 6, 5, 4, 3, 5, 1, 6, 4, 3, 5, 1, 6, 5, 4, 3, 7, 0, 0, 0, 2,\n",
       "       2, 7, 0, 0, 0, 2, 2, 4, 4, 4, 6, 6, 0, 6, 6, 3, 6, 7, 0, 6, 6, 3,\n",
       "       6, 7, 4, 2, 2, 3, 2, 4, 6, 5, 0, 3, 2, 4, 6, 5, 0, 3, 2, 4, 6, 5,\n",
       "       0, 3, 7, 2, 0, 0, 5, 5, 7, 2, 0, 0, 5, 1, 3, 6, 4, 4, 1, 5, 6, 1,\n",
       "       7, 2, 5, 6, 0, 1, 7, 2, 5, 6, 0, 1, 7, 2, 1, 0, 6, 6, 7, 3, 0, 6,\n",
       "       6, 7, 3, 0, 6, 6, 7, 3, 5, 4, 6, 5, 6, 2, 1, 0, 2, 1, 2, 6, 3, 5,\n",
       "       6, 3, 3, 7, 3, 5, 6, 3, 3, 7, 7, 1, 2, 7, 3, 7, 0, 6, 3, 6, 7, 0,\n",
       "       6, 6, 0, 7, 0, 1, 1, 2, 2, 4, 6, 1, 2, 2, 4, 6, 5, 5, 6, 2, 1, 6,\n",
       "       2, 4, 6, 5, 1, 6, 2, 4, 6, 5, 1, 6, 2, 4, 6, 5, 2, 7, 2, 5, 4, 7,\n",
       "       2, 7, 5, 4, 3, 6, 3, 6, 1, 0, 4, 1, 7, 7, 0, 4, 0, 1, 7, 7, 0, 4,\n",
       "       0, 1, 7, 1, 5, 4, 5, 5, 1, 5, 5, 5, 4, 5, 3, 3, 5, 4, 0, 0, 3, 7,\n",
       "       1, 0, 4, 4, 7, 0, 3, 3, 2, 2, 0, 3, 3, 7, 2, 6, 4, 7, 7, 3, 6, 5,\n",
       "       1, 2, 1, 2, 7, 1, 2, 7, 5, 1, 2, 2, 7, 5, 6, 5, 6, 2, 6, 6, 5, 6,\n",
       "       2, 1, 2, 2, 1, 2, 6, 3, 2, 4, 1, 7, 3, 2, 4, 3, 1, 7, 3, 2, 4, 3,\n",
       "       6, 2, 4, 3, 6, 1, 4, 0, 0, 3, 3, 0, 7, 7, 4, 2, 6, 4, 1, 2, 5, 2,\n",
       "       6, 4, 1, 2, 5, 6, 4, 5, 3, 0, 1, 4, 2, 3, 3, 1, 7, 5, 4, 3, 4, 5,\n",
       "       4, 3, 6, 7, 7, 5, 3, 4, 7, 7, 5, 0, 3, 4, 7, 7, 5, 0, 3, 4, 5, 0,\n",
       "       5, 2, 5, 5, 5, 0, 5, 2, 5, 5, 4, 1, 6, 1, 1, 7, 3, 3, 3, 3, 7, 7,\n",
       "       3, 3, 3, 3, 7, 3, 7, 7, 7, 3, 4, 0, 4, 0, 1, 3, 4, 0, 4, 0, 1, 3,\n",
       "       4, 0, 4, 0, 1, 3, 6, 5, 1, 4, 5, 6, 6, 5, 1, 4, 5, 6, 4, 5, 7, 2,\n",
       "       4, 7, 3, 0, 4, 4, 0, 4, 2, 4, 4, 4, 0, 4, 2, 0, 0, 0, 4, 6, 1, 5,\n",
       "       2, 5, 2, 2, 1, 5, 2, 5, 2, 2, 1, 5, 2, 5, 2, 2, 2, 7, 1, 5, 5, 6,\n",
       "       2, 7, 1, 5, 5, 6, 2, 7, 1, 5, 5, 6, 4, 5, 6, 1, 5, 5, 4, 5, 6, 1,\n",
       "       5, 5, 0, 1, 2, 5, 1, 1, 3, 5, 2, 6, 6, 2, 3, 5, 2, 6, 6, 2, 3, 5,\n",
       "       2, 6, 6, 2, 0, 1, 1, 2, 5, 2, 0, 1, 1, 2, 5, 2, 4, 5, 5, 6, 1, 6,\n",
       "       6, 2, 5, 1, 5, 2, 2, 5, 1, 5, 2, 2, 5, 1, 5, 2, 1, 1, 2, 1, 1, 2,\n",
       "       2, 5, 2, 2, 5, 4, 5, 7, 1, 5, 4, 5, 7, 1, 2, 1, 1, 1, 1, 1, 4, 0,\n",
       "       4, 0, 4, 0, 0, 4, 3, 4, 0, 0, 4, 3, 4, 0, 4, 0, 7, 0, 4, 0, 7, 4,\n",
       "       7, 0, 7, 4, 7, 4, 3, 0, 3, 4, 4, 4, 3, 4, 3, 4, 3, 4, 3, 4, 7, 0,\n",
       "       7, 0, 3, 3, 3, 4, 4, 4, 7, 4, 7, 3, 4, 7, 7, 4, 7, 3, 4, 7, 7, 4,\n",
       "       7, 3, 4, 7, 3, 4, 7, 4, 0, 4, 3, 7, 0, 0, 7, 3, 0, 0, 7, 3, 0, 0,\n",
       "       3, 7, 3, 7, 3, 3, 7, 3, 7, 3, 7, 7, 3, 3, 3, 3])"
      ]
     },
     "execution_count": 20,
     "metadata": {},
     "output_type": "execute_result"
    }
   ],
   "source": [
    "dat['X_test']"
   ]
  },
  {
   "cell_type": "code",
   "execution_count": 21,
   "id": "dfe8b38b",
   "metadata": {},
   "outputs": [],
   "source": [
    "m = np.zeros((numC,numC))\n",
    "for ic in range(numC):\n",
    "   m[:,ic] =  np.mean( Xhat[:, np.where(dat['X_test'] == (ic))[0]], axis = 1)\n"
   ]
  },
  {
   "cell_type": "code",
   "execution_count": 22,
   "id": "73790bc5",
   "metadata": {},
   "outputs": [
    {
     "data": {
      "image/png": "[encoded data removed]",
      "text/plain": [
       "<Figure size 640x480 with 1 Axes>"
      ]
     },
     "metadata": {},
     "output_type": "display_data"
    }
   ],
   "source": [
    "import matplotlib.pyplot as plt\n",
    "import numpy as np\n",
    "# Plot the line chart\n",
    "plt.plot(x_labels, m)\n",
    "plt.legend(x_labels, loc=3, prop={'size': 6})\n",
    "\n",
    "# Show the plot\n",
    "plt.show()\n"
   ]
  },
  {
   "cell_type": "code",
   "execution_count": 23,
   "id": "1bff9e0d",
   "metadata": {},
   "outputs": [
    {
     "ename": "NameError",
     "evalue": "name 'stophere' is not defined",
     "output_type": "error",
     "traceback": [
      "\u001b[0;31m---------------------------------------------------------------------------\u001b[0m",
      "\u001b[0;31mNameError\u001b[0m                                 Traceback (most recent call last)",
      "Cell \u001b[0;32mIn[23], line 1\u001b[0m\n\u001b[0;32m----> 1\u001b[0m stophere\n",
      "\u001b[0;31mNameError\u001b[0m: name 'stophere' is not defined"
     ]
    }
   ],
   "source": [
    "stophere"
   ]
  },
  {
   "attachments": {},
   "cell_type": "markdown",
   "id": "0552f8b6",
   "metadata": {},
   "source": [
    "# For all sel_t for EGG datasset"
   ]
  },
  {
   "cell_type": "code",
   "execution_count": null,
   "id": "510c2a74",
   "metadata": {},
   "outputs": [],
   "source": [
    "numT"
   ]
  },
  {
   "cell_type": "code",
   "execution_count": null,
   "id": "28ec09a4",
   "metadata": {},
   "outputs": [],
   "source": [
    "import matplotlib.pyplot as plt\n",
    "\n",
    "fig, axs = plt.subplots(14, 15, figsize=(15, 28), sharex=True, sharey=True)\n",
    "\n",
    "for sel_t in range(200):\n",
    "    dat['X_train'] = G[FoldsIdx[0]['train_index']]\n",
    "    dat['Y_train'] = np.squeeze(Y[:, sel_t, FoldsIdx[0]['train_index']])\n",
    "    dat['phi_train'] = phi[FoldsIdx[0]['train_index']]\n",
    "    dat['new_train'] = binned_phi[FoldsIdx[0]['train_index']]\n",
    "    dat['X_test'] = G[FoldsIdx[0]['test_index']]\n",
    "    dat['Y_test'] = np.squeeze(Y[:, sel_t, FoldsIdx[0]['test_index']])\n",
    "    dat['phi_test'] = phi[FoldsIdx[0]['test_index']]\n",
    "    design, sortedesign = dt.stim_features(dat['phi_train'], cfg_stim)\n",
    "    decoder = dt.train_encoder(design, dat['Y_train'], cfg_train)\n",
    "    Xhat = dt.test_encoder(decoder, dat['Y_test'], cfg_test)\n",
    "    m = np.zeros((numC, numC))\n",
    "    for ic in range(numC):\n",
    "        m[:, ic] = np.mean(Xhat[:, np.where(dat['X_test'] == (ic + 1))[0]], axis=1)\n",
    "    row = sel_t // 15\n",
    "    col = sel_t % 15\n",
    "    axs[row, col].plot(x_labels, m)\n",
    "    # axs[row, col].legend(x_labels, loc=3, prop={'size': 6})\n",
    "    axs[row, col].set_title(f'sel_t = {sel_t}')\n",
    "plt.tight_layout()\n",
    "plt.show()\n",
    "\n"
   ]
  },
  {
   "cell_type": "code",
   "execution_count": null,
   "id": "781f7779",
   "metadata": {},
   "outputs": [],
   "source": [
    "import matplotlib.pyplot as plt\n",
    "import numpy as np\n",
    "\n",
    "fig, ax = plt.subplots(figsize=(10, 6))\n",
    "\n",
    "mean_data = np.zeros((numC, len(x_labels)))\n",
    "for sel_t in range(200):\n",
    "    dat['X_train'] = G[FoldsIdx[0]['train_index']]\n",
    "    dat['Y_train'] = np.squeeze(Y[:, sel_t, FoldsIdx[0]['train_index']])\n",
    "    dat['phi_train'] = phi[FoldsIdx[0]['train_index']]\n",
    "    dat['new_train'] = binned_phi[FoldsIdx[0]['train_index']]\n",
    "    dat['X_test'] = G[FoldsIdx[0]['test_index']]\n",
    "    dat['Y_test'] = np.squeeze(Y[:, sel_t, FoldsIdx[0]['test_index']])\n",
    "    dat['phi_test'] = phi[FoldsIdx[0]['test_index']]\n",
    "    design, sortedesign = dt.stim_features(dat['phi_train'], cfg_stim)\n",
    "    decoder = dt.train_encoder(design, dat['Y_train'], cfg_train)\n",
    "    Xhat = dt.test_encoder(decoder, dat['Y_test'], cfg_test)\n",
    "    m = np.zeros((numC, numC))\n",
    "    for ic in range(numC):\n",
    "        m[:, ic] = np.mean(Xhat[:, np.where(dat['X_test'] == (ic + 1))[0]], axis=1)\n",
    "    mean_data += m\n",
    "\n",
    "mean_data /= 200  # Calculate the average over all iterations\n",
    "\n",
    "for i in range(numC):\n",
    "    ax.plot(x_labels, mean_data[i])\n",
    "\n",
    "ax.legend(loc='best')\n",
    "ax.set_xlabel('X Labels')\n",
    "ax.set_ylabel('Mean')\n",
    "ax.set_title('Mean of the Data')\n",
    "\n",
    "plt.tight_layout()\n",
    "plt.show()\n"
   ]
  },
  {
   "attachments": {},
   "cell_type": "markdown",
   "id": "940fe71e",
   "metadata": {},
   "source": [
    "Re-alligning predictions for trials with identical orientation"
   ]
  },
  {
   "cell_type": "code",
   "execution_count": null,
   "id": "4c254369",
   "metadata": {},
   "outputs": [],
   "source": [
    "Xhat_centered = 0*Xhat.copy()\n",
    "for ic in range(numC): # here trials that match similar label orientation are shifted together x positions (np.roll)\n",
    "    Xhat_centered[:,np.where(dat['X_test'] == (ic+1))] = np.roll(Xhat[:,np.where(dat['X_test'] == (ic+1))], -ic, axis = 0)"
   ]
  },
  {
   "cell_type": "code",
   "execution_count": null,
   "id": "33c1e3e1",
   "metadata": {},
   "outputs": [],
   "source": [
    "m_centered = np.zeros((numC,numC))\n",
    "for ic in range(numC):\n",
    "   m_centered[:,ic] =  np.mean( Xhat_centered[:, np.where(dat['X_test'] == (ic+1))[0]], axis = 1)"
   ]
  },
  {
   "cell_type": "code",
   "execution_count": null,
   "id": "f1da7551",
   "metadata": {},
   "outputs": [],
   "source": [
    "print(m_centered.shape)"
   ]
  },
  {
   "cell_type": "code",
   "execution_count": null,
   "id": "b5a77198",
   "metadata": {},
   "outputs": [],
   "source": [
    "Xhat_centeredmean = np.mean(Xhat_centered, axis = 1)\n",
    "Xhat_centeredsem = np.std(m_centered, axis = 1)/Xhat.shape[1]\n",
    "Xhat_shiftedmean = np.roll(Xhat_centeredmean, 3, axis = 0)\n",
    "Xhat_shiftedsem = np.roll(Xhat_centeredsem, 3, axis = 0)\n",
    "x_centeredlabels = np.roll(x_labels,  3, axis = 0)"
   ]
  },
  {
   "cell_type": "code",
   "execution_count": null,
   "id": "3011b964",
   "metadata": {},
   "outputs": [],
   "source": [
    "# Kernel to back project channel outputs to orientation space\n",
    "kernel = np.exp(1j * (np.linspace(0, numC-1,numC)*(2*np.pi/numC)))\n",
    "Z = kernel @ Xhat\n",
    "\n",
    "theta = np.mod(np.angle(Z), 2*np.pi) * (180/np.pi) / 2    # Decoded orientation (retain the module of the complex number)\n",
    "\n",
    "r = np.mean(np.exp(1j * (theta - dat['phi_test']) * (np.pi/180)*2)) # correlation between decoded and presented orientation\n",
    "r = np.abs(r) * np.cos(np.angle(r))\n",
    "r"
   ]
  },
  {
   "attachments": {},
   "cell_type": "markdown",
   "id": "36caf6e9",
   "metadata": {},
   "source": [
    "Getting mean orientation values for each stimulus bin"
   ]
  },
  {
   "cell_type": "code",
   "execution_count": null,
   "id": "affe99e0",
   "metadata": {},
   "outputs": [],
   "source": [
    "mtheta = np.zeros(numC)\n",
    "for ic in range(numC):\n",
    "    mtheta[ic] = np.mod(np.angle(np.mean(np.exp(1j * theta[np.where(dat['X_test'] == (ic+1))[0]] * (np.pi/180)*2))), 2*np.pi) * (180/np.pi) / 2"
   ]
  },
  {
   "attachments": {},
   "cell_type": "markdown",
   "id": "6af6cbcc",
   "metadata": {},
   "source": [
    "# Plotting results"
   ]
  },
  {
   "cell_type": "code",
   "execution_count": null,
   "id": "c53a5d16",
   "metadata": {},
   "outputs": [],
   "source": [
    "print(m.shape)"
   ]
  },
  {
   "cell_type": "code",
   "execution_count": null,
   "id": "4c919008",
   "metadata": {},
   "outputs": [],
   "source": [
    "print(Xhat[0].shape)"
   ]
  },
  {
   "cell_type": "code",
   "execution_count": null,
   "id": "10349880",
   "metadata": {},
   "outputs": [],
   "source": [
    "plt.plot(x_labels, Xhat)\n",
    "plt.legend(x_labels, loc=3, prop={'size': 6})\n"
   ]
  },
  {
   "cell_type": "code",
   "execution_count": null,
   "id": "fb52d74a",
   "metadata": {},
   "outputs": [],
   "source": [
    "fig, ax = plt.subplots(1,3,figsize=(14,4))\n",
    "# ax[0].plot(x_labels, m_centered)\n",
    "ax[0].plot(x_labels, m)\n",
    "\n",
    "ax[0].set_xticks(x_labels)\n",
    "ax[0].set_xticklabels(x_labels.astype(str))\n",
    "ax[0].legend(x_labels, loc=3, prop={'size': 6})\n",
    "\n",
    "\n",
    "ax[1].plot(x_labels, Xhat_shiftedmean)\n",
    "ax[1].fill_between(x_labels, Xhat_shiftedmean-Xhat_shiftedsem, Xhat_shiftedmean+Xhat_shiftedsem)\n",
    "ax[1].scatter(x_labels, Xhat_shiftedmean, color = 'red')\n",
    "ax[1].set_xticks(x_labels)\n",
    "ax[1].set_xticklabels(x_centeredlabels.astype(str))\n",
    "\n",
    "\n",
    "ax[2].scatter(x_labels, mtheta, color = 'red')\n",
    "ax[2].scatter(dat['phi_test'], theta, s = 1)\n",
    "ax[2].set_xticks(x_labels)\n",
    "ax[2].set_xticklabels(x_labels.astype(str))\n"
   ]
  },
  {
   "attachments": {},
   "cell_type": "markdown",
   "id": "0019c8d0",
   "metadata": {},
   "source": [
    "np.mean(np.exp(1j * (theta - dat['phi_test']) * (np.pi/180)*2))"
   ]
  },
  {
   "cell_type": "code",
   "execution_count": null,
   "id": "61e6616a",
   "metadata": {},
   "outputs": [],
   "source": [
    "print(crossval)"
   ]
  },
  {
   "attachments": {},
   "cell_type": "markdown",
   "id": "886caf90",
   "metadata": {},
   "source": [
    "__Preparing crossvalidation procedure__"
   ]
  },
  {
   "cell_type": "code",
   "execution_count": null,
   "id": "1972d8ce",
   "metadata": {},
   "outputs": [],
   "source": [
    "import DecToolbox as dt\n",
    "from importlib import reload  # Python 3.4+\n",
    "reload(dt)"
   ]
  },
  {
   "cell_type": "code",
   "execution_count": null,
   "id": "0c86f245",
   "metadata": {},
   "outputs": [],
   "source": [
    "print(G.shape)"
   ]
  },
  {
   "cell_type": "code",
   "execution_count": null,
   "id": "801db0cb",
   "metadata": {},
   "outputs": [],
   "source": [
    "G = binned_phi.copy() # binning/discritizing orientation dimension to assign a balanced number of stimuli to different dat\n",
    "CONDS = np.unique(G)\n",
    "nConds = CONDS.size\n",
    "nfold = 4\n",
    "FoldsIdx = dt.CreateFolds(G, Y, nfold)"
   ]
  },
  {
   "cell_type": "code",
   "execution_count": null,
   "id": "e9df4fe8",
   "metadata": {},
   "outputs": [],
   "source": [
    "numC = 8 # how many channels to use\n",
    "\n",
    "cfg = dict()\n",
    "cfg['kappa'] = kappa\n",
    "cfg['NumC'] = numC\n",
    "cfg['Tuning'] = 'vonmises'#'halfRectCos'\n",
    "cfg['offset'] = 0\n",
    "\n",
    "design, sortedesign = dt.stim_features(phi, cfg)\n",
    "\n",
    "fig, ax = plt.subplots(1, 1, figsize=(3, 3))\n",
    "plt.imshow(sortedesign,aspect='auto',interpolation = 'none')"
   ]
  },
  {
   "cell_type": "code",
   "execution_count": null,
   "id": "ae41af47",
   "metadata": {},
   "outputs": [],
   "source": [
    "from DecToolbox import CV_encoder\n",
    "cfg = dict()\n",
    "cfg['cfgE'] = {'gamma': 0.01, 'demean' : True, 'returnPattern' : True}\n",
    "cfg['cfgD'] = {'demean' : 'traindata'}\n",
    "Xhat = CV_encoder(design, Y, sel_t, cfg, FoldsIdx)"
   ]
  },
  {
   "cell_type": "code",
   "execution_count": null,
   "id": "878724a1",
   "metadata": {},
   "outputs": [],
   "source": [
    "m = np.zeros((numC,numC))\n",
    "for ic in range(numC):\n",
    "   m[:,ic] =  np.mean( Xhat[:, G == (ic+1)], axis = 1)"
   ]
  },
  {
   "attachments": {},
   "cell_type": "markdown",
   "id": "fba9f744",
   "metadata": {},
   "source": [
    "Re-alligning predictions for trials with identical orientation"
   ]
  },
  {
   "cell_type": "code",
   "execution_count": null,
   "id": "3d34de59",
   "metadata": {},
   "outputs": [],
   "source": [
    "Xhat_centered = 0*Xhat.copy()\n",
    "m_centered = np.zeros((numC,numC))\n",
    "for ic in range(numC): # here trials that match similar label orientation are shifted together x positions (np.roll)\n",
    "    Xhat_centered[:, G == (ic+1)] = np.roll(Xhat[:,G == (ic+1)], -ic, axis = 0)\n",
    "    m_centered[:,ic] =  np.mean( Xhat_centered[:,  G == (ic+1)], axis = 1)"
   ]
  },
  {
   "cell_type": "code",
   "execution_count": null,
   "id": "5b15e82a",
   "metadata": {},
   "outputs": [],
   "source": [
    "x_labels = np.array([  0. ,  22.5,  45. ,  67.5,  90. , 112.5, 135. , 157.5])\n",
    "Xhat_centeredmean = np.mean(Xhat_centered, axis = 1)\n",
    "Xhat_centeredsem = np.std(m_centered, axis = 1)/Xhat.shape[1]\n",
    "Xhat_shiftedmean = np.roll(Xhat_centeredmean, 3, axis = 0)\n",
    "Xhat_shiftedsem = np.roll(Xhat_centeredsem, 3, axis = 0)\n",
    "x_centeredlabels = np.roll(x_labels,  3, axis = 0)"
   ]
  },
  {
   "cell_type": "code",
   "execution_count": null,
   "id": "0c444b74",
   "metadata": {},
   "outputs": [],
   "source": [
    "# Kernel to back project channel outputs to orientation space\n",
    "kernel = np.exp(1j * (np.linspace(0, numC-1,numC)*(2*np.pi/numC)))\n",
    "Z = kernel @ Xhat\n",
    "\n",
    "theta = np.mod(np.angle(Z), 2*np.pi) * (180/np.pi) / 2    # Decoded orientation (retain the module of the complex number)\n",
    "\n",
    "r = np.mean(np.exp(1j * (theta - phi) * (np.pi/180)*2)) # correlation between decoded and presented orientation\n",
    "r = np.abs(r) * np.cos(np.angle(r))\n",
    "r"
   ]
  },
  {
   "attachments": {},
   "cell_type": "markdown",
   "id": "2b1c0ab8",
   "metadata": {},
   "source": [
    "Getting mean orientation values for each stimulus bin"
   ]
  },
  {
   "cell_type": "code",
   "execution_count": null,
   "id": "e48161b2",
   "metadata": {},
   "outputs": [],
   "source": [
    "mtheta = np.zeros(numC)\n",
    "for ic in range(numC):\n",
    "    mtheta[ic] = np.mod(np.angle(np.mean(np.exp(1j * theta[G == (ic+1)] * (np.pi/180)*2))), 2*np.pi) * (180/np.pi) / 2"
   ]
  },
  {
   "cell_type": "code",
   "execution_count": null,
   "id": "f8ca6821",
   "metadata": {},
   "outputs": [],
   "source": [
    "fig, ax = plt.subplots(1,3,figsize=(14,4))\n",
    "ax[0].plot(x_labels, m)\n",
    "ax[0].set_xticks(x_labels)\n",
    "ax[0].set_xticklabels(x_labels.astype(str))\n",
    "ax[0].legend(x_labels, loc=3, prop={'size': 6})\n",
    "\n",
    "\n",
    "ax[1].plot(x_labels, Xhat_shiftedmean)\n",
    "ax[1].fill_between(x_labels, Xhat_shiftedmean-Xhat_shiftedsem, Xhat_shiftedmean+Xhat_shiftedsem)\n",
    "ax[1].scatter(x_labels, Xhat_shiftedmean, color = 'red')\n",
    "ax[1].set_xticks(x_labels)\n",
    "ax[1].set_xticklabels(x_centeredlabels.astype(str))\n",
    "\n",
    "\n",
    "ax[2].scatter(x_labels, mtheta, color = 'red')\n",
    "ax[2].scatter(phi, theta, s = 1)\n",
    "ax[2].set_xticks(x_labels)\n",
    "ax[2].set_xticklabels(x_labels.astype(str))\n"
   ]
  },
  {
   "attachments": {},
   "cell_type": "markdown",
   "id": "56d8d636",
   "metadata": {},
   "source": [
    "# Part 2"
   ]
  },
  {
   "cell_type": "code",
   "execution_count": null,
   "id": "06754768",
   "metadata": {},
   "outputs": [],
   "source": [
    "part2 = False\n",
    "\n",
    "if not part2: \n",
    "    print(br)\n"
   ]
  },
  {
   "attachments": {},
   "cell_type": "markdown",
   "id": "4517ddc7",
   "metadata": {},
   "source": [
    "__Temporal dimension decoding__"
   ]
  },
  {
   "cell_type": "code",
   "execution_count": null,
   "id": "c66208f1-26ce-4c01-a664-5f324f2901ab",
   "metadata": {},
   "outputs": [],
   "source": [
    "G = binned_phi.copy() # binning/discritizing orientation dimension to assign a balanced number of stimuli to different dat\n",
    "print(G)\n",
    "CONDS = np.unique(G)\n",
    "nConds = CONDS.size\n",
    "nfold = 4\n",
    "FoldsIdx = dt.CreateFolds(G, Y, nfold)"
   ]
  },
  {
   "cell_type": "code",
   "execution_count": null,
   "id": "c2f46d6a-75c9-432a-b5c5-4ec6ced2708b",
   "metadata": {},
   "outputs": [],
   "source": [
    "numC = 8 # how many channels to use\n",
    "\n",
    "# print(phi)\n",
    "cfg = dict()\n",
    "cfg['kappa'] = 4\n",
    "cfg['NumC'] = numC\n",
    "cfg['Tuning'] = 'vonmises'#'halfRectCos'\n",
    "cfg['offset'] = 0\n",
    "\n",
    "design, sortedesign = dt.stim_features(phi, cfg)\n",
    "\n",
    "fig, ax = plt.subplots(1, 1, figsize=(3, 3))\n",
    "plt.imshow(sortedesign,aspect='auto',interpolation = 'none')"
   ]
  },
  {
   "cell_type": "code",
   "execution_count": null,
   "id": "3078ef3d",
   "metadata": {},
   "outputs": [],
   "source": [
    "numT = Y.shape[1]\n",
    "Xhat = np.zeros([numC,numN, numT])\n",
    "# for it in range(numT):\n",
    "for it in range(120, 200):\n",
    "    print(it)\n",
    "    cfg = dict()\n",
    "    cfg['cfgE'] = {'gamma': 0.01, 'demean' : True, 'returnPattern' : True}\n",
    "    cfg['cfgD'] = {'demean' : 'traindata'}\n",
    "    Xhat[:,:,it] = dt.CV_encoder(design, Y, it, cfg, FoldsIdx)\n",
    "    "
   ]
  },
  {
   "cell_type": "code",
   "execution_count": null,
   "id": "fb682c5f",
   "metadata": {},
   "outputs": [],
   "source": [
    "m = np.zeros((numC,numC, numT))\n",
    "for ic in range(numC):\n",
    "   m[:,ic] =  np.mean( Xhat[:, G == (ic+1),:], axis = 1)"
   ]
  },
  {
   "attachments": {},
   "cell_type": "markdown",
   "id": "83218d35",
   "metadata": {},
   "source": [
    "Re-alligning predictions for trials with identical orientation"
   ]
  },
  {
   "cell_type": "code",
   "execution_count": null,
   "id": "72c68f90",
   "metadata": {},
   "outputs": [],
   "source": [
    "Xhat_centered = 0*Xhat.copy()\n",
    "m_centered = np.zeros((numC,numC, numT))\n",
    "for ic in range(numC): # here trials that match similar label orientation are shifted together x positions (np.roll)\n",
    "    Xhat_centered[:, G == (ic+1),:] = np.roll(Xhat[:,G == (ic+1),:], -ic, axis = 0)\n",
    "    m_centered[:,ic, : ] =  np.mean( Xhat_centered[:,  G == (ic+1), :], axis = 1)"
   ]
  },
  {
   "cell_type": "code",
   "execution_count": null,
   "id": "4a4e2e53",
   "metadata": {},
   "outputs": [],
   "source": [
    "print(m_centered.shape)"
   ]
  },
  {
   "cell_type": "code",
   "execution_count": null,
   "id": "e5fd9794",
   "metadata": {},
   "outputs": [],
   "source": [
    "x_labels = np.array([  0. ,  22.5,  45. ,  67.5,  90. , 112.5, 135. , 157.5])\n",
    "Xhat_centeredmean = np.mean(Xhat_centered, axis = 1)\n",
    "Xhat_centeredsem = np.std(m_centered, axis = 1)/Xhat.shape[1]\n",
    "Xhat_shiftedmean = np.roll(Xhat_centeredmean, 3, axis = 0)\n",
    "Xhat_shiftedsem = np.roll(Xhat_centeredsem, 3, axis = 0)\n",
    "x_centeredlabels = np.roll(x_labels,  3, axis = 0)"
   ]
  },
  {
   "cell_type": "code",
   "execution_count": null,
   "id": "61b0e13a",
   "metadata": {},
   "outputs": [],
   "source": [
    "fig, ax = plt.subplots(1, 1, figsize=(6, 3))\n",
    "plt.imshow(Xhat_shiftedmean,aspect='auto',vmin = -1e-28, vmax = 1e-28, interpolation = 'gaussian',extent=[time[0],time[-1],x_centeredlabels[0], x_centeredlabels[-1]])\n",
    "plt.colorbar()\n",
    "#ax.set_xtickslabels(time)\n",
    "#ax.set_Yticklabels(x_centeredlabels.astype(str))\n"
   ]
  },
  {
   "attachments": {},
   "cell_type": "markdown",
   "id": "c92fd46e",
   "metadata": {},
   "source": [
    "__Crossmodal temporal generalization decoding__"
   ]
  },
  {
   "cell_type": "code",
   "execution_count": null,
   "id": "85ee7c06-51fa-4fe0-bd22-6a207cbf5a82",
   "metadata": {},
   "outputs": [],
   "source": [
    "import time as tic\n"
   ]
  },
  {
   "cell_type": "code",
   "execution_count": null,
   "id": "345d6e98",
   "metadata": {},
   "outputs": [],
   "source": [
    "start = tic.time()\n",
    "numT = Y.shape[1]\n",
    "Xhat = np.zeros([numC,numN, numT, numT])\n",
    "print('numT', numT)\n",
    "#for it in range(numT):\n",
    "for it in range(numT):\n",
    "\n",
    "    cfg = dict()\n",
    "    cfg['cfgE'] = {'gamma': 0.01, 'demean' : True, 'returnPattern' : True}\n",
    "    cfg['cfgD'] = {'demean' : 'traindata'}\n",
    "    Xhat[:,:,it, :] = dt.CV_TG_encoder(design, Y, it, cfg, FoldsIdx)\n",
    "end = tic.time()"
   ]
  },
  {
   "cell_type": "code",
   "execution_count": null,
   "id": "1952029f-5e47-4b17-aec9-9643869c5796",
   "metadata": {},
   "outputs": [],
   "source": [
    "(end-start)/60"
   ]
  },
  {
   "cell_type": "code",
   "execution_count": null,
   "id": "78a74b6f",
   "metadata": {},
   "outputs": [],
   "source": [
    "m = np.zeros((numC,numC, numT, numT))\n",
    "for ic in range(numC):\n",
    "   m[:,ic, :, :] =  np.mean( Xhat[:, G == (ic+1),:,:], axis = 1)\n",
    "\n",
    "print(m.shape)"
   ]
  },
  {
   "cell_type": "code",
   "execution_count": null,
   "id": "871cef3d",
   "metadata": {},
   "outputs": [],
   "source": [
    "mean = np.zeros((numC,numC))\n",
    "\n",
    "for i in range (numT):\n",
    "    mean = mean + m[:,:,i,i]\n",
    "\n",
    "mean = mean / numT\n",
    "mean.shape"
   ]
  },
  {
   "cell_type": "code",
   "execution_count": null,
   "id": "43f2f5f5",
   "metadata": {},
   "outputs": [],
   "source": [
    "plt.plot(x_labels, mean)\n",
    "plt.legend(x_labels, loc=3, prop={'size': 6})"
   ]
  },
  {
   "attachments": {},
   "cell_type": "markdown",
   "id": "5c568cf3",
   "metadata": {},
   "source": [
    "Re-alligning predictions for trials with identical orientation"
   ]
  },
  {
   "cell_type": "code",
   "execution_count": null,
   "id": "5a5da45b",
   "metadata": {},
   "outputs": [],
   "source": [
    "Xhat_centered = 0*Xhat.copy()\n",
    "m_centered = np.zeros((numC,numC, numT, numT))\n",
    "for ic in range(numC): # here trials that match similar label orientation are shifted together x positions (np.roll)\n",
    "    Xhat_centered[:, G == (ic+1),:, :] = np.roll(Xhat[:,G == (ic+1),:, :], -ic, axis = 0)\n",
    "    m_centered[:,ic, : , : ] =  np.mean( Xhat_centered[:,  G == (ic+1), :, :], axis = 1)\n"
   ]
  },
  {
   "attachments": {},
   "cell_type": "markdown",
   "id": "4a5a10c9",
   "metadata": {},
   "source": [
    "Plotting diagonal values"
   ]
  },
  {
   "cell_type": "code",
   "execution_count": null,
   "id": "a72e552c-448a-4ffa-b705-28154e04cbd7",
   "metadata": {},
   "outputs": [],
   "source": [
    "diagonal_vals =  m_centered[:,:,range(numT),range(numT)]\n",
    "fig, ax = plt.subplots(1, 1, figsize=(6, 3))\n",
    "plt.imshow(np.mean(diagonal_vals, axis = 1),aspect='auto',vmin = -1e-28, vmax = 1e-28, interpolation = 'gaussian',extent=[time[0],time[-1],x_centeredlabels[0], x_centeredlabels[-1]])\n",
    "plt.colorbar()\n"
   ]
  },
  {
   "attachments": {},
   "cell_type": "markdown",
   "id": "8c692482",
   "metadata": {},
   "source": [
    "Correlation between actual and predicted orientation values"
   ]
  },
  {
   "cell_type": "code",
   "execution_count": null,
   "id": "99cb0b40",
   "metadata": {},
   "outputs": [],
   "source": [
    "r = np.zeros((numT, numT))\n",
    "\n",
    "for it1 in range(numT):\n",
    "    for it2 in range(numT):\n",
    "        # Kernel to back project channel outputs to orientation space\n",
    "        kernel = np.exp(1j * (np.linspace(0, numC-1,numC)*(2*np.pi/numC)))\n",
    "        Z = kernel @ Xhat[:,:, it1, it2]\n",
    "\n",
    "        theta = np.mod(np.angle(Z), 2*np.pi) * (180/np.pi) / 2    # Decoded orientation (retain the module of the complex number)\n",
    "\n",
    "        rs = np.mean(np.exp(1j * (theta - phi) * (np.pi/180)*2)) # correlation between decoded and presented orientation\n",
    "        r[it1, it2] = np.abs(rs) * np.cos(np.angle(rs))\n",
    "        r"
   ]
  },
  {
   "cell_type": "code",
   "execution_count": null,
   "id": "fc2b7ba0-3716-424e-ae43-3754d7b5047a",
   "metadata": {},
   "outputs": [],
   "source": [
    "time_labels = [0, 0.2, 0.4, 0.6]"
   ]
  },
  {
   "cell_type": "code",
   "execution_count": null,
   "id": "c1569cf7",
   "metadata": {},
   "outputs": [],
   "source": [
    "fig, ax = plt.subplots(1, 1, figsize=(4, 4))\n",
    "plt.imshow(r, aspect= 1, interpolation = None, vmin = -0.25, vmax = 0.25, origin = 'lower',extent=[time[0],time[-1],time[0],time[-1]])\n",
    "plt.colorbar()\n",
    "#ax.set_xticklabels(time_labels)\n",
    "#ax.set_yticklabels(time_labels)"
   ]
  },
  {
   "cell_type": "code",
   "execution_count": null,
   "id": "dcc6fdda",
   "metadata": {},
   "outputs": [],
   "source": [
    "def CV_encoder(design, Y, sel_t, cfg, FoldsIdx):\n",
    "\n",
    "    numC = design.shape[0]\n",
    "    numN = Y.shape[2]\n",
    "\n",
    "    Xhat = np.zeros([numC,numN])\n",
    "    Xhat_centered = 0*Xhat.copy()\n",
    "\n",
    "    nfold = np.size(FoldsIdx)\n",
    "\n",
    "    for ifold in range(nfold):\n",
    "        # Output matrix\n",
    "        dat = dict()\n",
    "        dat['Y_train'] = np.squeeze(Y[:,sel_t, FoldsIdx[ifold]['train_index']])\n",
    "        idesign = design[:,FoldsIdx[ifold]['train_index']]\n",
    "        dat['Y_test'] = np.squeeze(Y[:,sel_t, FoldsIdx[ifold]['test_index']])\n",
    "\n",
    "        if 'cfgE' not in cfg:\n",
    "            cfgE = {'gamma': 0.01, 'demean' : True, 'returnPattern' : True}\n",
    "        else:\n",
    "            cfgE = cfg['cfgE']\n",
    "\n",
    "        decoder = dt.train_encoder(idesign, dat['Y_train'], cfgE)\n",
    "\n",
    "        if 'cfgD' not in cfg:\n",
    "            cfgD = {'demean' : 'traindata'}\n",
    "        else:\n",
    "            cfgD = cfg['cfgD']\n",
    "\n",
    "\n",
    "        Xhat[:,FoldsIdx[ifold]['test_index']] = dt.test_encoder( decoder, dat['Y_test'], cfgD) \n",
    "    \n",
    "    return Xhat"
   ]
  },
  {
   "attachments": {},
   "cell_type": "markdown",
   "id": "5c879a88",
   "metadata": {},
   "source": [
    "Getting mean orientation values for each stimulus bin"
   ]
  },
  {
   "attachments": {},
   "cell_type": "markdown",
   "id": "d9192c16",
   "metadata": {},
   "source": [
    "# Plotting results"
   ]
  },
  {
   "cell_type": "code",
   "execution_count": null,
   "id": "d0e4dddc",
   "metadata": {},
   "outputs": [],
   "source": [
    "# Creating dat containing test and train indexes\n",
    "nfold = 2\n",
    "\n",
    "from sklearn.model_selection import StratifiedKFold\n",
    "skf = StratifiedKFold(n_splits=nfold,shuffle=False)\n",
    "CrossValIdx = [None] * nfold\n",
    "i = 0\n",
    "for train_index, test_index  in  skf.split(X = np.zeros(numN), y = X):\n",
    "    #print(\"TRAIN:\", train_index, \"TEST:\", test_index)\n",
    "    X_train, X_test = X[train_index], X[test_index]\n",
    "    CrossValIdx[i] = { 'train_index': train_index, 'test_index': test_index}\n",
    "    i += 1\n",
    "\n",
    "X_train = G[ CrossValIdx[0]['train_index']][:,np.newaxis]\n",
    "Y_train = np.squeeze(Y[:,sel_t, CrossValIdx[0]['train_index']]).shape\n",
    "phi_train = phi[ CrossValIdx[0]['train_index']][:,np.newaxis]\n",
    "X_test = G[ CrossValIdx[0]['test_index']][:,np.newaxis]\n",
    "Y_test = np.squeeze(Y[:,sel_t, CrossValIdx[0]['test_index']]).shape\n",
    "phi_test = phi[ CrossValIdx[0]['test_index']][:,np.newaxis]"
   ]
  },
  {
   "cell_type": "code",
   "execution_count": null,
   "id": "72461ca7",
   "metadata": {},
   "outputs": [],
   "source": [
    "\n",
    "X_train = G[ CrossValIdx[0]['train_index']][:,np.newaxis]\n",
    "Y_train = np.squeeze(Y[:,sel_t, CrossValIdx[0]['train_index']]).shape\n",
    "phi_train = phi[ CrossValIdx[0]['train_index']][:,np.newaxis]\n",
    "X_test = G[ CrossValIdx[0]['test_index']][:,np.newaxis]\n",
    "Y_test = np.squeeze(Y[:,sel_t, CrossValIdx[0]['test_index']]).shape\n",
    "phi_test = phi[ CrossValIdx[0]['test_index']][:,np.newaxis]"
   ]
  },
  {
   "cell_type": "code",
   "execution_count": null,
   "id": "593fc5a5",
   "metadata": {},
   "outputs": [],
   "source": [
    "# G[dat[0].astype(int)]"
   ]
  },
  {
   "cell_type": "code",
   "execution_count": null,
   "id": "4e67ee9e",
   "metadata": {},
   "outputs": [],
   "source": [
    "dat = [np.array([])]*nfold\n",
    "\n",
    "for iCond in range(nConds):\n",
    "    # Find indexes\n",
    "    indx = np.where(G == CONDS[iCond])[0]\n",
    "    n_indx = indx.size \n",
    "    # Shuffle indexes\n",
    "    indx = np.random.permutation(indx)\n",
    "    # Distribute across dat\n",
    "    nelemxfold = np.floor(indx.size/nfold)\n",
    "    groupNumber = np.repeat(np.arange(0,nfold), nelemxfold)\n",
    "\n",
    "    for iFold in range(nfold):\n",
    "        dat[iFold] = np.append(dat[iFold], indx[np.where(groupNumber == iFold)])\n",
    "\n",
    " "
   ]
  },
  {
   "cell_type": "code",
   "execution_count": null,
   "id": "ee21c55c",
   "metadata": {},
   "outputs": [],
   "source": [
    "indx[np.where(groupNumber == iFold)]"
   ]
  }
 ],
 "metadata": {
  "kernelspec": {
   "display_name": "Python 3 (ipykernel)",
   "language": "python",
   "name": "python3"
  },
  "language_info": {
   "codemirror_mode": {
    "name": "ipython",
    "version": 3
   },
   "file_extension": ".py",
   "mimetype": "text/x-python",
   "name": "python",
   "nbconvert_exporter": "python",
   "pygments_lexer": "ipython3",
   "version": "3.10.11"
  },
  "vscode": {
   "interpreter": {
    "hash": "78277f196899d30b09f8eb84b1d60d6cc910a2e198812045736ce186b763ced0"
   }
  }
 },
 "nbformat": 4,
 "nbformat_minor": 5
}
