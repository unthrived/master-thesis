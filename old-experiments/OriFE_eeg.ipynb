{
 "cells": [
  {
   "cell_type": "code",
   "execution_count": 1,
   "metadata": {},
   "outputs": [
    {
     "data": {
      "text/plain": [
       "'1.4.0'"
      ]
     },
     "execution_count": 1,
     "metadata": {},
     "output_type": "execute_result"
    }
   ],
   "source": [
    "import os, glob, platform\n",
    "import numpy as np\n",
    "import numpy.matlib\n",
    "import pickle\n",
    "import pandas as pd\n",
    "import pathlib\n",
    "import matplotlib\n",
    "import matplotlib.pyplot as plt\n",
    "\n",
    "import mne\n",
    "mne.__version__"
   ]
  },
  {
   "cell_type": "code",
   "execution_count": 7,
   "metadata": {},
   "outputs": [],
   "source": [
    "import sys\n",
    "path_utils = 'decoding_toolbox_py/helper_funcs' \n",
    "sys.path.append(path_utils)\n",
    "import DecToolbox as dt\n"
   ]
  },
  {
   "cell_type": "code",
   "execution_count": 10,
   "metadata": {},
   "outputs": [],
   "source": [
    "subjs_list = ['s01'\n",
    "              #, 's02', 's03','s04','s05','s07','s08','s09','s10','s11','s12','s13','s14', 's15', 's16','s17','s18','s19','s20','s21','s22','s23','s24','s25','s26','s27' \n",
    "            ]\n",
    "path = 'Cond_CJ_EEG'"
   ]
  },
  {
   "cell_type": "code",
   "execution_count": 11,
   "metadata": {},
   "outputs": [
    {
     "name": "stdout",
     "output_type": "stream",
     "text": [
      "NOTE: pick_channels() is a legacy function. New code should use inst.pick(...).\n",
      "Identifying common channels ...\n"
     ]
    },
    {
     "name": "stderr",
     "output_type": "stream",
     "text": [
      "/var/folders/x2/l6kq7w2s48bbjcgczm1ll_fm0000gn/T/ipykernel_17464/4267958821.py:8: RuntimeWarning: Only a single dataset was passed to mne.grand_average().\n",
      "  gvaverage = mne.grand_average(epochs[:])\n"
     ]
    }
   ],
   "source": [
    "epochs = []\n",
    "for isubj, subject_id in enumerate(subjs_list):\n",
    "    preproc_path = os.path.join(path, subject_id);\n",
    "    epoch = mne.read_epochs(preproc_path + '/main_epo.fif',verbose=False)\n",
    "    epochs.append(epoch.average());\n",
    "    # print(isubj)\n",
    "\n",
    "gvaverage = mne.grand_average(epochs[:])"
   ]
  },
  {
   "cell_type": "code",
   "execution_count": 12,
   "metadata": {},
   "outputs": [],
   "source": [
    "all_st_epochs = []\n",
    "all_st_rawdata = [None] * np.size(subjs_list)\n",
    "for isubj, subject_id in enumerate(subjs_list):\n",
    "    preproc_path = os.path.join(path, subject_id);\n",
    "    epoch = mne.read_epochs(preproc_path + '/mainstim_epo.fif',verbose=False)\n",
    "    subj_data = {'epoch_dat' : epoch.get_data(), 'metadata' :  epoch.metadata}\n",
    "    all_st_rawdata[isubj] =  subj_data\n",
    "    all_st_epochs.append(epoch);\n",
    "    epoch.metadata"
   ]
  },
  {
   "cell_type": "code",
   "execution_count": 18,
   "metadata": {},
   "outputs": [
    {
     "name": "stdout",
     "output_type": "stream",
     "text": [
      "0\n"
     ]
    }
   ],
   "source": [
    "nSubj = np.size(subjs_list)\n",
    "\n",
    "dec_subj = [None] * nSubj\n",
    "G = [None] * nSubj\n",
    "\n",
    "for ival, isubj in enumerate(subjs_list):\n",
    "    print(ival)\n",
    "    time = all_st_epochs[ival].times\n",
    "    label = all_st_epochs[ival].ch_names\n",
    "    Y = all_st_rawdata[ival]['epoch_dat']\n",
    "    Y = np.einsum('kji->jik', Y)\n",
    "    X = np.array(all_st_rawdata[ival]['metadata'].orient)\n",
    "    phi = X\n",
    "    #binned_phi = np.digitize(phi, bins = np.array([  0, 22.5, 45, 67.5, 90, 112.5, 135, 157.5 ]) ) # bins collapsing degrees by similarity\n",
    "    binned_phi = np.digitize(phi, bins = np.array([  0, 45, 90, 135 ]) ) # bins collapsing degrees by similarity\n",
    "\n",
    "    numF = Y.shape[0];\n",
    "    numT = Y.shape[1];\n",
    "    numN = Y.shape[2];\n",
    "    numC = 8 # how many channels to use\n",
    "    G[ival] = binned_phi.copy() # binning/discritizing orientation dimension to assign a balanced number of stimuli to different dat\n",
    "    binned_phi = (G[ival]-1)*(180/4)\n",
    "    \n",
    "    CONDS = np.unique(G[ival])\n",
    "    nConds = CONDS.size\n",
    "    nfold = 4\n",
    "    FoldsIdx = dt.CreateFolds(G[ival], Y, nfold)\n",
    "    #numC = 8 # how many channels to use\n",
    "\n",
    "    cfg = dict()\n",
    "    cfg['kappa'] = 2\n",
    "    cfg['NumC'] = numC\n",
    "    cfg['Tuning'] = 'vonmises'#'halfRectCos'\n",
    "    cfg['offset'] = 0\n",
    "\n",
    "    design, sortedesign = dt.stim_features(binned_phi, cfg)\n",
    "    \n",
    "    \n",
    "    # Xhat = np.zeros([numC,numN, numT])\n",
    "    # for it in range(numT):\n",
    "    #     cfg = dict()\n",
    "    #     cfg['cfgE'] = {'gamma': 0.01, 'demean' : True, 'returnPattern' : True}\n",
    "    #     cfg['cfgD'] = {'demean' : 'traindata'}\n",
    "    #     Xhat[:,:,it] = dt.CV_encoder(design, Y, it, cfg, FoldsIdx)\n",
    "    # \n",
    "    # dec_subj[ival] = Xhat   "
   ]
  },
  {
   "cell_type": "code",
   "execution_count": 19,
   "metadata": {},
   "outputs": [
    {
     "data": {
      "text/plain": [
       "<matplotlib.image.AxesImage at 0x7fdd895890c0>"
      ]
     },
     "execution_count": 19,
     "metadata": {},
     "output_type": "execute_result"
    },
    {
     "data": {
      "image/png": "[encoded data removed]",
      "text/plain": [
       "<Figure size 640x480 with 1 Axes>"
      ]
     },
     "metadata": {},
     "output_type": "display_data"
    }
   ],
   "source": [
    "plt.imshow(sortedesign, aspect = 'auto')"
   ]
  },
  {
   "cell_type": "code",
   "execution_count": 23,
   "metadata": {},
   "outputs": [
    {
     "name": "stdout",
     "output_type": "stream",
     "text": [
      "(8, 1563) (201, 1563)\n"
     ]
    }
   ],
   "source": [
    "print(np.shape(design), np.shape(Y[0]))"
   ]
  },
  {
   "cell_type": "code",
   "execution_count": 24,
   "metadata": {},
   "outputs": [
    {
     "name": "stdout",
     "output_type": "stream",
     "text": [
      "()\n"
     ]
    }
   ],
   "source": [
    "cfg = dict()\n",
    "cfg['gamma'] = 0.01\n",
    "cfg['demean'] = True\n",
    "cfg['returnPattern'] = True\n",
    "\n",
    "# print(np.shape(design), np.shape(dat['Y_train']), np.shape(cfg))\n",
    "\n",
    "# decoder = dt.train_encoder(design, dat['Y_train'], cfg)\n",
    "\n",
    "decoder = dt.train_encoder(design, Y[0], cfg)\n",
    "\n",
    "print(np.shape(decoder))"
   ]
  },
  {
   "cell_type": "code",
   "execution_count": 25,
   "metadata": {},
   "outputs": [
    {
     "name": "stdout",
     "output_type": "stream",
     "text": [
      "(1563,)\n"
     ]
    }
   ],
   "source": [
    "print(np.shape(X))"
   ]
  },
  {
   "cell_type": "code",
   "execution_count": null,
   "metadata": {},
   "outputs": [],
   "source": [
    "cfg = dict()\n",
    "cfg['demean'] = 'traindata'\n",
    "\n",
    "Xhat = dt.test_encoder( decoder, da'], cfg)\n"
   ]
  }
 ],
 "metadata": {
  "kernelspec": {
   "display_name": "mne",
   "language": "python",
   "name": "python3"
  },
  "language_info": {
   "codemirror_mode": {
    "name": "ipython",
    "version": 3
   },
   "file_extension": ".py",
   "mimetype": "text/x-python",
   "name": "python",
   "nbconvert_exporter": "python",
   "pygments_lexer": "ipython3",
   "version": "3.10.11"
  },
  "orig_nbformat": 4
 },
 "nbformat": 4,
 "nbformat_minor": 2
}
