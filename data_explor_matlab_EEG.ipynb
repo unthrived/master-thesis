{
 "cells": [
  {
   "cell_type": "code",
   "execution_count": 1,
   "metadata": {},
   "outputs": [],
   "source": [
    "# %matplotlib qt\n",
    "from scipy.io import loadmat\n",
    "import numpy as np\n",
    "import pandas as pd\n",
    "import mat73\n",
    "import mne\n",
    "import os\n",
    "\n",
    "import inspect #path_fun = inspect.getfile(StratifiedKFold)\n",
    "import matplotlib.pyplot as plt\n",
    "import DecToolbox as dt\n",
    "#print(sys.path)\n",
    "\n",
    "import sys\n",
    "path_utils = '/decoding_toolbox_py/helper_funcs' \n",
    "sys.path.append(path_utils)\n",
    "# !pip install mat73"
   ]
  },
  {
   "cell_type": "code",
   "execution_count": 2,
   "metadata": {},
   "outputs": [],
   "source": [
    "'''\n",
    "GLOBAL VARIABLES\n",
    "'''\n",
    "\n",
    "read_EGG = True\n",
    "\n",
    "ival = 0"
   ]
  },
  {
   "cell_type": "code",
   "execution_count": 17,
   "metadata": {},
   "outputs": [
    {
     "name": "stdout",
     "output_type": "stream",
     "text": [
      "NOTE: pick_channels() is a legacy function. New code should use inst.pick(...).\n",
      "NOTE: pick_channels() is a legacy function. New code should use inst.pick(...).\n",
      "Identifying common channels ...\n"
     ]
    }
   ],
   "source": [
    "if read_EGG:\n",
    "    subjs_list = ['s01', 's02'\n",
    "              #, 's03' ,'s04','s05','s07','s08','s09','s10','s11','s12','s13','s14', 's15', 's16','s17','s18','s19','s20','s21','s22','s23','s24','s25','s26','s27' \n",
    "                ]\n",
    "    path = 'Cond_CJ_EEG'\n",
    "\n",
    "    epochs = []\n",
    "    for isubj, subject_id in enumerate(subjs_list):\n",
    "        preproc_path = os.path.join(path, subject_id);\n",
    "        epoch = mne.read_epochs(preproc_path + '/main_epo.fif',verbose=False)\n",
    "        epochs.append(epoch.average());\n",
    "        # print(isubj)\n",
    "\n",
    "    gvaverage = mne.grand_average(epochs[:])\n",
    "    all_epochs = []\n",
    "    all_rawdata = [None] * np.size(subjs_list)\n",
    "    for isubj, subject_id in enumerate(subjs_list):\n",
    "        preproc_path = os.path.join(path, subject_id);\n",
    "        epoch = mne.read_epochs(preproc_path + '/main_epo.fif',verbose=False)\n",
    "        subj_data = {'epoch_dat' : epoch.get_data(), 'metadata' :  epoch.metadata}\n",
    "        all_rawdata[isubj] =  subj_data\n",
    "        all_epochs.append(epoch);\n",
    "        epoch.metadata\n",
    "        \n",
    "    all_st_epochs = []\n",
    "    all_st_rawdata = [None] * np.size(subjs_list)\n",
    "    for isubj, subject_id in enumerate(subjs_list):\n",
    "        preproc_path = os.path.join(path, subject_id);\n",
    "        epoch = mne.read_epochs(preproc_path + '/mainstim_epo.fif',verbose=False)\n",
    "        subj_data = {'epoch_dat' : epoch.get_data(), 'metadata' :  epoch.metadata}\n",
    "        all_st_rawdata[isubj] =  subj_data\n",
    "        all_st_epochs.append(epoch);\n",
    "        epoch.metadata\n",
    "\n",
    "    tt = all_st_epochs[ival].times\n",
    "    ll= all_st_epochs[ival].ch_names\n",
    "    YY = all_st_rawdata[ival]['epoch_dat']\n",
    "    YY = np.einsum('kji->jik', YY)\n",
    "    XX = np.array(all_st_rawdata[ival]['metadata'].orient)\n",
    "    binned_XX = (np.digitize(XX, bins = np.array([  0, 22.5, 45., 67.5, 90, 112.5, 135, 157.5 ]) ) -1).astype(float)# bins collapsing degrees by similarity \n"
   ]
  },
  {
   "cell_type": "code",
   "execution_count": 18,
   "metadata": {},
   "outputs": [
    {
     "name": "stdout",
     "output_type": "stream",
     "text": [
      "(32, 201, 1563)\n",
      "(1563,)\n"
     ]
    }
   ],
   "source": [
    "print(YY.shape)\n",
    "print(XX.shape)"
   ]
  },
  {
   "cell_type": "code",
   "execution_count": 19,
   "metadata": {},
   "outputs": [],
   "source": [
    "path = 'decoding-toolbox_matlab/data/testdata_orientation.mat' \n",
    "ori_data= mat73.loadmat(path)"
   ]
  },
  {
   "cell_type": "code",
   "execution_count": 20,
   "metadata": {},
   "outputs": [
    {
     "name": "stdout",
     "output_type": "stream",
     "text": [
      "Y (273, 211, 760) X (760,) time (211,)\n"
     ]
    }
   ],
   "source": [
    "'''Matlab'''\n",
    "Y = ori_data['Y']\n",
    "X = ori_data['X']\n",
    "time = ori_data['time']\n",
    "label = ori_data['label'] # Label of the features\n",
    "print('Y', Y.shape,'X', X.shape,'time', time.shape)"
   ]
  },
  {
   "cell_type": "code",
   "execution_count": 21,
   "metadata": {},
   "outputs": [
    {
     "data": {
      "text/plain": [
       "array([0., 1., 2., 3., 4., 5., 6., 7.])"
      ]
     },
     "execution_count": 21,
     "metadata": {},
     "output_type": "execute_result"
    }
   ],
   "source": [
    "np.unique(binned_XX)\n"
   ]
  },
  {
   "cell_type": "code",
   "execution_count": 22,
   "metadata": {},
   "outputs": [
    {
     "data": {
      "text/plain": [
       "array([0., 1., 2., 3., 4., 5., 6., 7.])"
      ]
     },
     "execution_count": 22,
     "metadata": {},
     "output_type": "execute_result"
    }
   ],
   "source": [
    "np.unique(X)"
   ]
  },
  {
   "cell_type": "code",
   "execution_count": null,
   "metadata": {},
   "outputs": [],
   "source": []
  }
 ],
 "metadata": {
  "kernelspec": {
   "display_name": "mne",
   "language": "python",
   "name": "python3"
  },
  "language_info": {
   "codemirror_mode": {
    "name": "ipython",
    "version": 3
   },
   "file_extension": ".py",
   "mimetype": "text/x-python",
   "name": "python",
   "nbconvert_exporter": "python",
   "pygments_lexer": "ipython3",
   "version": "3.10.11"
  },
  "orig_nbformat": 4
 },
 "nbformat": 4,
 "nbformat_minor": 2
}
