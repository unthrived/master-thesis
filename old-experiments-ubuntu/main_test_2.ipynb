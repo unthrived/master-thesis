{
 "cells": [
  {
   "cell_type": "code",
   "execution_count": 1,
   "metadata": {},
   "outputs": [],
   "source": [
    "import os, glob, platform\n",
    "import numpy as np\n",
    "import numpy.matlib\n",
    "import pickle\n",
    "import pandas as pd\n",
    "import pathlib\n",
    "import matplotlib\n",
    "import matplotlib.pyplot as plt\n",
    "import mne\n",
    "mne.__version__\n",
    "from mne.viz import plot_alignment, snapshot_brain_montage\n",
    "import shutil\n",
    "from mne.datasets import eegbci\n",
    "from sklearn.model_selection import train_test_split\n",
    "\n",
    "# from mne_bids import write_raw_bids, BIDSPath, print_dir_tree, make_dataset_description\n",
    "# from mne_bids.stats import count_events\n",
    "import sys\n"
   ]
  },
  {
   "cell_type": "code",
   "execution_count": 2,
   "metadata": {},
   "outputs": [],
   "source": [
    "path_utils = '/decoding_toolbox_py/helper_funcs' \n",
    "sys.path.append(path_utils)"
   ]
  },
  {
   "cell_type": "code",
   "execution_count": 3,
   "metadata": {},
   "outputs": [
    {
     "name": "stdout",
     "output_type": "stream",
     "text": [
      "['s01', 's02']\n"
     ]
    }
   ],
   "source": [
    "''' VARIABLES '''\n",
    "\n",
    "dataset = 'eeg'\n",
    "\n",
    "amount_of_subjects = 2 # Change the range so the process is faster\n",
    "if amount_of_subjects > 26: amount_of_subjects = 26\n",
    "subjs_list = ['s{:02d}'.format(i) for i in range(1, amount_of_subjects+1) if i != 6 ] \n",
    "print(subjs_list)\n",
    "nSubj = len(subjs_list)\n",
    "\n",
    "numC = 8\n",
    "\n",
    "angles = [i * 180./numC for i in range(numC)]\n",
    "\n",
    "x_labels = np.array(angles)\n",
    "\n",
    "resample = True # speeds up the procees but showing worse results overall\n",
    "if resample: resample_frequency = 20 # in Hz, original freq is 500Hz\n",
    "\n",
    "cfg_stim = dict()\n",
    "cfg_stim['kappa'] = 4\n",
    "cfg_stim['NumC'] = numC\n",
    "cfg_stim['Tuning'] = 'vonmises'\n",
    "# cfg_stim['Tuning'] = 'halfRectCos'\n",
    "cfg_stim['offset'] = 0\n",
    "\n",
    "cfg_train = dict()\n",
    "cfg_train['gamma'] = 0.1\n",
    "cfg_train['demean'] = True\n",
    "cfg_train['returnPattern'] = True\n",
    "\n",
    "cfg_test = dict()\n",
    "cfg_test['demean'] = 'traindata'"
   ]
  },
  {
   "cell_type": "code",
   "execution_count": 4,
   "metadata": {},
   "outputs": [],
   "source": [
    "'''EEG Dataset'''\n",
    "def read_data(\n",
    "        number_of_repetition=3,\n",
    "        resample=False,\n",
    "        subjs_list = subjs_list,\n",
    "        task = 'stim'\n",
    "        ):\n",
    "    path = 'Cond_CJ_EEG'\n",
    "\n",
    "    epochs = []\n",
    "    all_epochs = []\n",
    "    all_rawdata = []\n",
    "    all_st_epochs = []\n",
    "    all_st_rawdata = []\n",
    "    for subject_id in subjs_list:\n",
    "        preproc_path = os.path.join(path, subject_id)\n",
    "\n",
    "        if task == 'main':\n",
    "            epoch = mne.read_epochs(os.path.join(preproc_path, 'main_epo.fif'), verbose=False)\n",
    "            epochs.append(epoch.average())\n",
    "            all_epochs.append(epoch)\n",
    "            all_rawdata.append({'epoch_dat': epoch.get_data(), 'metadata': epoch.metadata})\n",
    "            \n",
    "        if task == 'stim':\n",
    "        \n",
    "            st_epoch = mne.read_epochs(os.path.join(preproc_path, 'mainstim_epo.fif'), verbose=False)\n",
    "            # print(st_epoch.info['sfreq'])\n",
    "            if resample: \n",
    "                print('Frequency before:', st_epoch.info['sfreq'])\n",
    "                st_epoch = st_epoch.resample(resample_frequency)\n",
    "                print('Frequency after:' ,st_epoch.info['sfreq'])\n",
    "                \n",
    "            all_st_epochs.append(st_epoch)\n",
    "            all_st_rawdata.append(\n",
    "                {\n",
    "                'epoch_dat': st_epoch.get_data()[st_epoch.metadata['nrep'] == number_of_repetition,:,:] ,\n",
    "                'metadata': st_epoch.metadata[st_epoch.metadata['nrep'] == number_of_repetition]\n",
    "                }\n",
    "                )\n",
    "    if task == 'main':\n",
    "        return all_rawdata\n",
    "    else:\n",
    "        return all_st_rawdata\n"
   ]
  },
  {
   "cell_type": "code",
   "execution_count": 5,
   "metadata": {},
   "outputs": [
    {
     "name": "stdout",
     "output_type": "stream",
     "text": [
      "NOTE: pick_channels() is a legacy function. New code should use inst.pick(...).\n",
      "NOTE: pick_channels() is a legacy function. New code should use inst.pick(...).\n"
     ]
    }
   ],
   "source": [
    "all_rawdata = read_data (task = 'main')"
   ]
  },
  {
   "cell_type": "code",
   "execution_count": 6,
   "metadata": {},
   "outputs": [
    {
     "data": {
      "text/plain": [
       "Index(['index', 'subj', 'nblock', 'ntrial', 'nrep', 'trial_type', 'cond-1',\n",
       "       'cond', 'rDV', 'DV', 'resp', 'deci-2', 'deci-1', 'deci', 'corr-1',\n",
       "       'r_map', 'correct', 'confi', 'RT', 'd1', 'conf_lvl', 'correct-1', 'd2',\n",
       "       'd3', 'd4', 'd5', 'd6', 'o1', 'o2', 'o3', 'o4', 'o5', 'o6', 'confi-1',\n",
       "       'conf_lvl-1'],\n",
       "      dtype='object')"
      ]
     },
     "execution_count": 6,
     "metadata": {},
     "output_type": "execute_result"
    }
   ],
   "source": [
    "all_rawdata[0]['metadata'].columns"
   ]
  },
  {
   "cell_type": "code",
   "execution_count": 57,
   "metadata": {},
   "outputs": [
    {
     "name": "stdout",
     "output_type": "stream",
     "text": [
      "[[[0.76667744 0.64466872 0.17268001 0.3703947  0.31607555]\n",
      "  [0.82125675 0.87009374 0.48973327 0.05711375 0.87082003]]\n",
      "\n",
      " [[0.45332208 0.22615084 0.05847094 0.07080563 0.36377101]\n",
      "  [0.186528   0.00463693 0.33529402 0.78936992 0.41939425]]\n",
      "\n",
      " [[0.92074345 0.0731833  0.49209385 0.94387508 0.52089158]\n",
      "  [0.21512982 0.89986887 0.55144138 0.36536059 0.2365453 ]]]\n",
      "(3, 10)\n"
     ]
    },
    {
     "data": {
      "text/plain": [
       "array([[0.76667744, 0.64466872, 0.17268001, 0.3703947 , 0.31607555,\n",
       "        0.82125675, 0.87009374, 0.48973327, 0.05711375, 0.87082003],\n",
       "       [0.45332208, 0.22615084, 0.05847094, 0.07080563, 0.36377101,\n",
       "        0.186528  , 0.00463693, 0.33529402, 0.78936992, 0.41939425],\n",
       "       [0.92074345, 0.0731833 , 0.49209385, 0.94387508, 0.52089158,\n",
       "        0.21512982, 0.89986887, 0.55144138, 0.36536059, 0.2365453 ]])"
      ]
     },
     "execution_count": 57,
     "metadata": {},
     "output_type": "execute_result"
    }
   ],
   "source": [
    "\n",
    "A = np.random.random((3,2,5))\n",
    "print(A)\n",
    "A = A.reshape((3,-1))\n",
    "print(A.shape)\n",
    "A"
   ]
  },
  {
   "cell_type": "code",
   "execution_count": 56,
   "metadata": {},
   "outputs": [
    {
     "name": "stdout",
     "output_type": "stream",
     "text": [
      "(250, 32, 2876)\n",
      "(250, 92032) (250,)\n",
      "(250, 92033) (250,)\n"
     ]
    }
   ],
   "source": [
    "\n",
    "nSubj = 1\n",
    "add_repetitions = True\n",
    "add_labels = True\n",
    "X = np.vstack([all_rawdata[i]['epoch_dat'] for i in range(nSubj)])\n",
    "print(X.shape)\n",
    "X = X.reshape((X.shape[0], -1))\n",
    "y = np.concatenate([all_rawdata[i]['metadata']['deci'] for i in range(nSubj)])\n",
    "print(X.shape, y.shape)\n",
    "if add_repetitions:\n",
    "    for i in range (nSubj):\n",
    "        nrep = np.array(all_rawdata[i]['metadata']['nrep'])\n",
    "        nrep = nrep.reshape(-1,1)\n",
    "        X = np.hstack((X, nrep))\n",
    "if add_labels:\n",
    "    pass\n",
    "\n",
    "print(X.shape, y.shape)"
   ]
  },
  {
   "cell_type": "code",
   "execution_count": 46,
   "metadata": {},
   "outputs": [
    {
     "name": "stdout",
     "output_type": "stream",
     "text": [
      "(250, 92032) (250,)\n",
      "(250, 92033)\n"
     ]
    }
   ],
   "source": [
    "X = all_rawdata[0]['epoch_dat']\n",
    "X = X.reshape((250, -1))\n",
    "y = all_rawdata[0]['metadata']['deci']\n",
    "nrep = np.array(all_rawdata[0]['metadata']['nrep'])\n",
    "print(X.shape, nrep.shape)\n",
    "nrep = nrep.reshape(-1, 1)\n",
    "X = np.hstack((X, nrep))\n",
    "# X = all_rawdata[0]['epoch_dat']\n",
    "# y = all_rawdata[0]['metadata']['deci']\n",
    "# for i in range(1, nSubj):\n",
    "#     X = np.concatenate((X, all_rawdata[i]['epoch_dat']))\n",
    "#     y = np.concatenate((y, all_rawdata[i]['metadata']['deci'] ))\n",
    "# print(X.shape, y.shape)\n",
    "# X = X.reshape(6205,-1)\n",
    "# print(X.shape)\n",
    "print(X.shape)"
   ]
  },
  {
   "cell_type": "code",
   "execution_count": 47,
   "metadata": {},
   "outputs": [
    {
     "name": "stdout",
     "output_type": "stream",
     "text": [
      "(200, 92033) (200,)\n",
      "Accuracy on test set: 0.7\n"
     ]
    }
   ],
   "source": [
    "from sklearn.svm import SVC\n",
    "# from pyrcn.echo_state_network import ESNClassifier\n",
    "from sklearn.model_selection import train_test_split, cross_val_score\n",
    "from sklearn.ensemble import RandomForestClassifier,AdaBoostClassifier,GradientBoostingClassifier\n",
    "from sklearn.metrics import accuracy_score\n",
    "from catboost import CatBoostClassifier\n",
    "from xgboost import XGBClassifier\n",
    "from sklearn.linear_model import LogisticRegression\n",
    "from sklearn.svm import SVC\n",
    "\n",
    "X_train, X_test, y_train, y_test = train_test_split(X, y, test_size=0.2, random_state=0)\n",
    "print(X_train.shape, y_train.shape)\n",
    "\n",
    "clf = AdaBoostClassifier()\n",
    "\n",
    "clf = GradientBoostingClassifier()\n",
    "\n",
    "clf = LogisticRegression()\n",
    "\n",
    "clf = SVC()\n",
    "clf = CatBoostClassifier()\n",
    "\n",
    "clf = LogisticRegression()\n",
    "\n",
    "clf.fit(X_train, y_train)\n",
    "\n",
    "y_pred = clf.predict(X_test)\n",
    "\n",
    "accuracy = accuracy_score(y_test, y_pred)\n",
    "print(\"Accuracy on test set:\", accuracy)\n",
    "\n"
   ]
  },
  {
   "attachments": {},
   "cell_type": "markdown",
   "metadata": {},
   "source": [
    "RF all subjects 80-20 = 0.556809024979855\n",
    "\n",
    "RF, Logistic, SVC = 1 sub 0.66\n",
    "\n",
    "XGB 1 sub 0.62\n",
    "\n",
    "XGB 26 0.5495568090249798\n",
    "\n",
    "Ada 0.6\n",
    "\n",
    "GB 0.62\n",
    "\n",
    "0.66\n"
   ]
  },
  {
   "cell_type": "code",
   "execution_count": null,
   "metadata": {},
   "outputs": [],
   "source": []
  },
  {
   "cell_type": "code",
   "execution_count": null,
   "metadata": {},
   "outputs": [],
   "source": []
  },
  {
   "attachments": {},
   "cell_type": "markdown",
   "metadata": {},
   "source": []
  }
 ],
 "metadata": {
  "kernelspec": {
   "display_name": "mne",
   "language": "python",
   "name": "python3"
  },
  "language_info": {
   "codemirror_mode": {
    "name": "ipython",
    "version": 3
   },
   "file_extension": ".py",
   "mimetype": "text/x-python",
   "name": "python",
   "nbconvert_exporter": "python",
   "pygments_lexer": "ipython3",
   "version": "3.10.11"
  },
  "orig_nbformat": 4
 },
 "nbformat": 4,
 "nbformat_minor": 2
}
