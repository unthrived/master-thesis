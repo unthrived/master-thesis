{
 "cells": [
  {
   "attachments": {},
   "cell_type": "markdown",
   "id": "c19c0239",
   "metadata": {},
   "source": [
    "__Forward encoding model based on Pim Mostert Decoding toolbox__\n",
    "\n",
    "Alexis Pérez Bellido (2022)"
   ]
  },
  {
   "cell_type": "code",
   "execution_count": 1,
   "id": "0ce59d2e",
   "metadata": {},
   "outputs": [
    {
     "name": "stdout",
     "output_type": "stream",
     "text": [
      "/Users/junjieji/Desktop/master-thesis/decoding_toolbox_py\n"
     ]
    }
   ],
   "source": [
    "!pwd"
   ]
  },
  {
   "cell_type": "code",
   "execution_count": 2,
   "id": "caf2024a-a3d1-4443-bd51-316a254d607f",
   "metadata": {},
   "outputs": [],
   "source": [
    "import sys\n",
    "path_utils = 'helper_funcs' \n",
    "sys.path.append(path_utils)"
   ]
  },
  {
   "cell_type": "code",
   "execution_count": 3,
   "id": "97c42405-a66e-42d1-a0d6-354c90df5e0e",
   "metadata": {},
   "outputs": [],
   "source": [
    "# %matplotlib qt\n",
    "from scipy.io import loadmat\n",
    "import numpy as np\n",
    "import pandas as pd\n",
    "import mat73\n",
    "\n",
    "import inspect #path_fun = inspect.getfile(StratifiedKFold)\n",
    "import matplotlib.pyplot as plt\n",
    "import DecToolbox as dt\n",
    "#print(sys.path)"
   ]
  },
  {
   "attachments": {},
   "cell_type": "markdown",
   "id": "801a0115",
   "metadata": {},
   "source": [
    "Decoding modules"
   ]
  },
  {
   "cell_type": "code",
   "execution_count": 4,
   "id": "02532f87-cab1-489c-94f7-c24fc5e2fa87",
   "metadata": {},
   "outputs": [],
   "source": [
    "path = '../decoding-toolbox_matlab/data/'\n",
    "path_ori_data = path + 'testdata_orientation.mat'"
   ]
  },
  {
   "attachments": {},
   "cell_type": "markdown",
   "id": "9f0f5209-8015-49bd-b6df-ecf3a1247651",
   "metadata": {},
   "source": [
    "Loading & preparing orientation data"
   ]
  },
  {
   "cell_type": "code",
   "execution_count": 5,
   "id": "c9c035db-ba98-4c6a-a62e-e963ce32e8d0",
   "metadata": {},
   "outputs": [],
   "source": [
    "ori_data = mat73.loadmat(path_ori_data)"
   ]
  },
  {
   "cell_type": "code",
   "execution_count": 6,
   "id": "c8ed4a31-37bf-41e0-9c11-81fda649ca6c",
   "metadata": {},
   "outputs": [],
   "source": [
    "Y = ori_data['Y']\n",
    "X = ori_data['X']\n",
    "time = ori_data['time']\n",
    "label = ori_data['label']"
   ]
  },
  {
   "cell_type": "code",
   "execution_count": 7,
   "id": "7af5bcd5",
   "metadata": {},
   "outputs": [
    {
     "data": {
      "text/plain": [
       "273"
      ]
     },
     "execution_count": 7,
     "metadata": {},
     "output_type": "execute_result"
    }
   ],
   "source": [
    "len(Y)\n",
    "len(time)\n",
    "len(label)"
   ]
  },
  {
   "cell_type": "code",
   "execution_count": 8,
   "id": "b3932267-b1bc-415d-95ef-f7e26b88c269",
   "metadata": {},
   "outputs": [],
   "source": [
    "phi = X * (180/8);   # Presented orientation in degrees\n",
    "binned_phi = np.digitize(phi, bins = np.array([  0, 22.5, 45, 67.5, 90, 112.5, 135, 157.5 ]) ) # bins collapsing degrees by similarity\n",
    "\n",
    "numF = Y.shape[0];\n",
    "numT = Y.shape[1];\n",
    "numN = Y.shape[2];\n",
    "numC = 8 # how many channels to use"
   ]
  },
  {
   "cell_type": "code",
   "execution_count": 9,
   "id": "69e9a92f-374b-4890-95ab-3a7791b76858",
   "metadata": {},
   "outputs": [],
   "source": [
    "# No time dimension (We only select one point as example)\n",
    "sel_t = np.where(time >=.2)[0][0];"
   ]
  },
  {
   "attachments": {},
   "cell_type": "markdown",
   "id": "7a3393d5-1532-4133-b93d-ed5a5d825c8f",
   "metadata": {},
   "source": [
    "Creating and saving dat"
   ]
  },
  {
   "cell_type": "code",
   "execution_count": 10,
   "id": "03087be7",
   "metadata": {},
   "outputs": [],
   "source": [
    "G = binned_phi.copy() # binning/discritizing orientation dimension to assign a balanced number of stimuli to different dat\n",
    "CONDS = np.unique(G);\n",
    "nConds = CONDS.size\n",
    "nfold = 2\n",
    "FoldsIdx = dt.CreateFolds(G, Y, nfold)"
   ]
  },
  {
   "cell_type": "code",
   "execution_count": 11,
   "id": "9f3cd23a",
   "metadata": {},
   "outputs": [],
   "source": [
    "dat = dict()\n",
    "dat['X_train'] = G[ FoldsIdx[0]['train_index']]\n",
    "dat['Y_train'] = np.squeeze(Y[:,sel_t, FoldsIdx[0]['train_index']])\n",
    "dat['phi_train'] = phi[ FoldsIdx[0]['train_index']]\n",
    "\n",
    "dat['X_test'] = G[ FoldsIdx[0]['test_index']]\n",
    "dat['Y_test'] = np.squeeze(Y[:,sel_t, FoldsIdx[0]['test_index']])\n",
    "dat['phi_test'] = phi[ FoldsIdx[0]['test_index']]"
   ]
  },
  {
   "cell_type": "code",
   "execution_count": 12,
   "id": "1e34a463",
   "metadata": {},
   "outputs": [
    {
     "data": {
      "text/plain": [
       "<matplotlib.image.AxesImage at 0x7fa6084e3250>"
      ]
     },
     "execution_count": 12,
     "metadata": {},
     "output_type": "execute_result"
    },
    {
     "data": {
      "image/png": "[encoded data removed]",
      "text/plain": [
       "<Figure size 300x300 with 1 Axes>"
      ]
     },
     "metadata": {},
     "output_type": "display_data"
    }
   ],
   "source": [
    "\n",
    "\n",
    "cfg = dict()\n",
    "cfg['kappa'] = 4\n",
    "cfg['NumC'] = numC\n",
    "cfg['Tuning'] = 'vonmises'#'halfRectCos'\n",
    "cfg['offset'] = 0\n",
    "\n",
    "design, sortedesign = dt.stim_features(dat['phi_train'], cfg)\n",
    "\n",
    "fig, ax = plt.subplots(1, 1, figsize=(3, 3))\n",
    "plt.imshow(sortedesign,aspect='auto',interpolation = 'none')"
   ]
  },
  {
   "attachments": {},
   "cell_type": "markdown",
   "id": "cf93193b",
   "metadata": {},
   "source": [
    "# for comparing this script and the matlab one\n",
    "import scipy\n",
    "path_folds_data = '/Users/alex/Library/CloudStorage/OneDrive-UniversitatdeBarcelona/Projects/Condcision/Group_level_analyses/Beh_analyses/EEG_condcision_CJ/folds.mat'\n",
    "\n",
    "mat = scipy.io.loadmat(path_folds_data)"
   ]
  },
  {
   "attachments": {},
   "cell_type": "markdown",
   "id": "0066793f",
   "metadata": {},
   "source": [
    "idx_Train = mat['folds'][0][0].T\n",
    "idx_Test =mat['folds'][1][0][0].T"
   ]
  },
  {
   "attachments": {},
   "cell_type": "markdown",
   "id": "8b02b113",
   "metadata": {},
   "source": [
    "#Folds_ori = Folds.copy()\n",
    "dat = {}\n",
    "dat['X_train'] = G[idx_Train-1] # -1 to correct for matlab to python indexes\n",
    "dat['X_test'] = G[idx_Test-1]\n",
    "dat['Y_train'] = np.squeeze(Y[:,sel_t, idx_Train-1])\n",
    "dat['Y_test'] = np.squeeze(Y[:,sel_t, idx_Test-1])\n",
    "dat['phi_train'] = phi[idx_Train-1]\n",
    "dat['phi_test'] = phi[idx_Test-1]"
   ]
  },
  {
   "attachments": {},
   "cell_type": "markdown",
   "id": "b3c95c7a",
   "metadata": {},
   "source": [
    "Create design matrix"
   ]
  },
  {
   "attachments": {},
   "cell_type": "markdown",
   "id": "c6bbd8c5",
   "metadata": {},
   "source": [
    "numC = 8 # how many channels to use\n",
    "\n",
    "cfg = dict()\n",
    "cfg['kappa'] = 4\n",
    "cfg['NumC'] = numC\n",
    "cfg['Tuning'] = 'vonmises'#'halfRectCos'\n",
    "cfg['offset'] = 0\n",
    "\n",
    "design, sortedesign = dt.stim_features(dat['phi_train'], cfg)\n",
    "\n",
    "fig, ax = plt.subplots(1, 1, figsize=(3, 3))\n",
    "plt.imshow(sortedesign,aspect='auto',interpolation = 'none')"
   ]
  },
  {
   "attachments": {},
   "cell_type": "markdown",
   "id": "baeb1875",
   "metadata": {},
   "source": [
    "Training encoding model"
   ]
  },
  {
   "cell_type": "code",
   "execution_count": 13,
   "id": "2dc12dbc",
   "metadata": {},
   "outputs": [],
   "source": [
    "cfg = dict()\n",
    "cfg['gamma'] = 0.01\n",
    "cfg['demean'] = True\n",
    "cfg['returnPattern'] = True\n",
    "decoder = dt.train_encoder(design, dat['Y_train'], cfg)"
   ]
  },
  {
   "attachments": {},
   "cell_type": "markdown",
   "id": "12b3406d",
   "metadata": {},
   "source": [
    "Testing the encoding model"
   ]
  },
  {
   "cell_type": "code",
   "execution_count": 14,
   "id": "85b5df80",
   "metadata": {},
   "outputs": [],
   "source": [
    "cfg = dict()\n",
    "cfg['demean'] = 'traindata'\n",
    "Xhat = dt.test_encoder( decoder, dat['Y_test'], cfg)"
   ]
  },
  {
   "attachments": {},
   "cell_type": "markdown",
   "id": "d4fc6350",
   "metadata": {},
   "source": [
    "__Preparing data for plotting results__"
   ]
  },
  {
   "cell_type": "code",
   "execution_count": 15,
   "id": "dfe8b38b",
   "metadata": {},
   "outputs": [],
   "source": [
    "m = np.zeros((numC,numC))\n",
    "for ic in range(numC):\n",
    "   m[:,ic] =  np.mean( Xhat[:, np.where(dat['X_test'] == (ic+1))[0]], axis = 1)\n"
   ]
  },
  {
   "attachments": {},
   "cell_type": "markdown",
   "id": "940fe71e",
   "metadata": {},
   "source": [
    "Re-alligning predictions for trials with identical orientation"
   ]
  },
  {
   "cell_type": "code",
   "execution_count": 16,
   "id": "4c254369",
   "metadata": {},
   "outputs": [],
   "source": [
    "Xhat_centered = 0*Xhat.copy()\n",
    "for ic in range(numC): # here trials that match similar label orientation are shifted together x positions (np.roll)\n",
    "    Xhat_centered[:,np.where(dat['X_test'] == (ic+1))] = np.roll(Xhat[:,np.where(dat['X_test'] == (ic+1))], -ic, axis = 0)"
   ]
  },
  {
   "cell_type": "code",
   "execution_count": 17,
   "id": "33c1e3e1",
   "metadata": {},
   "outputs": [],
   "source": [
    "m_centered = np.zeros((numC,numC))\n",
    "for ic in range(numC):\n",
    "   m_centered[:,ic] =  np.mean( Xhat_centered[:, np.where(dat['X_test'] == (ic+1))[0]], axis = 1)"
   ]
  },
  {
   "cell_type": "code",
   "execution_count": 18,
   "id": "b5a77198",
   "metadata": {},
   "outputs": [],
   "source": [
    "x_labels = np.array([  0. ,  22.5,  45. ,  67.5,  90. , 112.5, 135. , 157.5])\n",
    "Xhat_centeredmean = np.mean(Xhat_centered, axis = 1)\n",
    "Xhat_centeredsem = np.std(m_centered, axis = 1)/Xhat.shape[1]\n",
    "Xhat_shiftedmean = np.roll(Xhat_centeredmean, 3, axis = 0)\n",
    "Xhat_shiftedsem = np.roll(Xhat_centeredsem, 3, axis = 0)\n",
    "x_centeredlabels = np.roll(x_labels,  3, axis = 0)"
   ]
  },
  {
   "cell_type": "code",
   "execution_count": 19,
   "id": "3011b964",
   "metadata": {},
   "outputs": [
    {
     "data": {
      "text/plain": [
       "0.28435446698274647"
      ]
     },
     "execution_count": 19,
     "metadata": {},
     "output_type": "execute_result"
    }
   ],
   "source": [
    "# Kernel to back project channel outputs to orientation space\n",
    "kernel = np.exp(1j * (np.linspace(0, numC-1,numC)*(2*np.pi/numC)))\n",
    "Z = kernel @ Xhat\n",
    "\n",
    "theta = np.mod(np.angle(Z), 2*np.pi) * (180/np.pi) / 2    # Decoded orientation (retain the module of the complex number)\n",
    "\n",
    "r = np.mean(np.exp(1j * (theta - dat['phi_test']) * (np.pi/180)*2)) # correlation between decoded and presented orientation\n",
    "r = np.abs(r) * np.cos(np.angle(r))\n",
    "r"
   ]
  },
  {
   "attachments": {},
   "cell_type": "markdown",
   "id": "36caf6e9",
   "metadata": {},
   "source": [
    "Getting mean orientation values for each stimulus bin"
   ]
  },
  {
   "cell_type": "code",
   "execution_count": 20,
   "id": "affe99e0",
   "metadata": {},
   "outputs": [],
   "source": [
    "mtheta = np.zeros(numC)\n",
    "for ic in range(numC):\n",
    "    mtheta[ic] = np.mod(np.angle(np.mean(np.exp(1j * theta[np.where(dat['X_test'] == (ic+1))[0]] * (np.pi/180)*2))), 2*np.pi) * (180/np.pi) / 2"
   ]
  },
  {
   "attachments": {},
   "cell_type": "markdown",
   "id": "6af6cbcc",
   "metadata": {},
   "source": [
    "# Plotting results"
   ]
  },
  {
   "cell_type": "code",
   "execution_count": 21,
   "id": "fb52d74a",
   "metadata": {},
   "outputs": [
    {
     "data": {
      "text/plain": [
       "[Text(0.0, 0, '0.0'),\n",
       " Text(22.5, 0, '22.5'),\n",
       " Text(45.0, 0, '45.0'),\n",
       " Text(67.5, 0, '67.5'),\n",
       " Text(90.0, 0, '90.0'),\n",
       " Text(112.5, 0, '112.5'),\n",
       " Text(135.0, 0, '135.0'),\n",
       " Text(157.5, 0, '157.5')]"
      ]
     },
     "execution_count": 21,
     "metadata": {},
     "output_type": "execute_result"
    },
    {
     "data": {
      "image/png": "[encoded data removed]",
      "text/plain": [
       "<Figure size 1400x400 with 3 Axes>"
      ]
     },
     "metadata": {},
     "output_type": "display_data"
    }
   ],
   "source": [
    "fig, ax = plt.subplots(1,3,figsize=(14,4))\n",
    "ax[0].plot(x_labels, m)\n",
    "ax[0].plot(x_labels, m)\n",
    "ax[0].set_xticks(x_labels)\n",
    "ax[0].set_xticklabels(x_labels.astype(str))\n",
    "ax[0].legend(x_labels, loc=3, prop={'size': 6})\n",
    "\n",
    "\n",
    "ax[1].plot(x_labels, Xhat_shiftedmean)\n",
    "ax[1].fill_between(x_labels, Xhat_shiftedmean-Xhat_shiftedsem, Xhat_shiftedmean+Xhat_shiftedsem)\n",
    "ax[1].scatter(x_labels, Xhat_shiftedmean, color = 'red')\n",
    "ax[1].set_xticks(x_labels)\n",
    "ax[1].set_xticklabels(x_centeredlabels.astype(str))\n",
    "\n",
    "\n",
    "ax[2].scatter(x_labels, mtheta, color = 'red')\n",
    "ax[2].scatter(dat['phi_test'], theta, s = 1)\n",
    "ax[2].set_xticks(x_labels)\n",
    "ax[2].set_xticklabels(x_labels.astype(str))\n"
   ]
  },
  {
   "attachments": {},
   "cell_type": "markdown",
   "id": "0019c8d0",
   "metadata": {},
   "source": [
    "np.mean(np.exp(1j * (theta - dat['phi_test']) * (np.pi/180)*2))"
   ]
  },
  {
   "attachments": {},
   "cell_type": "markdown",
   "id": "886caf90",
   "metadata": {},
   "source": [
    "__Preparing crossvalidation procedure__"
   ]
  },
  {
   "cell_type": "code",
   "execution_count": 22,
   "id": "1972d8ce",
   "metadata": {},
   "outputs": [
    {
     "data": {
      "text/plain": [
       "<module 'DecToolbox' from '/Users/junjieji/Desktop/master-thesis/decoding_toolbox_py/helper_funcs/DecToolbox.py'>"
      ]
     },
     "execution_count": 22,
     "metadata": {},
     "output_type": "execute_result"
    }
   ],
   "source": [
    "import DecToolbox as dt\n",
    "from importlib import reload  # Python 3.4+\n",
    "reload(dt)"
   ]
  },
  {
   "cell_type": "code",
   "execution_count": 23,
   "id": "801db0cb",
   "metadata": {},
   "outputs": [],
   "source": [
    "G = binned_phi.copy() # binning/discritizing orientation dimension to assign a balanced number of stimuli to different dat\n",
    "CONDS = np.unique(G)\n",
    "nConds = CONDS.size\n",
    "nfold = 4\n",
    "FoldsIdx = dt.CreateFolds(G, Y, nfold)"
   ]
  },
  {
   "cell_type": "code",
   "execution_count": 24,
   "id": "e9df4fe8",
   "metadata": {},
   "outputs": [
    {
     "data": {
      "text/plain": [
       "<matplotlib.image.AxesImage at 0x7fa61b0cf8b0>"
      ]
     },
     "execution_count": 24,
     "metadata": {},
     "output_type": "execute_result"
    },
    {
     "data": {
      "image/png": "[encoded data removed]",
      "text/plain": [
       "<Figure size 300x300 with 1 Axes>"
      ]
     },
     "metadata": {},
     "output_type": "display_data"
    }
   ],
   "source": [
    "numC = 8 # how many channels to use\n",
    "\n",
    "cfg = dict()\n",
    "cfg['kappa'] = 4\n",
    "cfg['NumC'] = numC\n",
    "cfg['Tuning'] = 'vonmises'#'halfRectCos'\n",
    "cfg['offset'] = 0\n",
    "\n",
    "design, sortedesign = dt.stim_features(phi, cfg)\n",
    "\n",
    "fig, ax = plt.subplots(1, 1, figsize=(3, 3))\n",
    "plt.imshow(sortedesign,aspect='auto',interpolation = 'none')"
   ]
  },
  {
   "cell_type": "code",
   "execution_count": 25,
   "id": "ae41af47",
   "metadata": {},
   "outputs": [],
   "source": [
    "from DecToolbox import CV_encoder\n",
    "\n",
    "cfg = dict()\n",
    "cfg['cfgE'] = {'gamma': 0.01, 'demean' : True, 'returnPattern' : True}\n",
    "cfg['cfgD'] = {'demean' : 'traindata'}\n",
    "Xhat = CV_encoder(design, Y, sel_t, cfg, FoldsIdx)"
   ]
  },
  {
   "cell_type": "code",
   "execution_count": 26,
   "id": "878724a1",
   "metadata": {},
   "outputs": [],
   "source": [
    "m = np.zeros((numC,numC))\n",
    "for ic in range(numC):\n",
    "   m[:,ic] =  np.mean( Xhat[:, G == (ic+1)], axis = 1)"
   ]
  },
  {
   "attachments": {},
   "cell_type": "markdown",
   "id": "fba9f744",
   "metadata": {},
   "source": [
    "Re-alligning predictions for trials with identical orientation"
   ]
  },
  {
   "cell_type": "code",
   "execution_count": 27,
   "id": "3d34de59",
   "metadata": {},
   "outputs": [],
   "source": [
    "Xhat_centered = 0*Xhat.copy()\n",
    "m_centered = np.zeros((numC,numC))\n",
    "for ic in range(numC): # here trials that match similar label orientation are shifted together x positions (np.roll)\n",
    "    Xhat_centered[:, G == (ic+1)] = np.roll(Xhat[:,G == (ic+1)], -ic, axis = 0)\n",
    "    m_centered[:,ic] =  np.mean( Xhat_centered[:,  G == (ic+1)], axis = 1)"
   ]
  },
  {
   "cell_type": "code",
   "execution_count": 28,
   "id": "5b15e82a",
   "metadata": {},
   "outputs": [],
   "source": [
    "x_labels = np.array([  0. ,  22.5,  45. ,  67.5,  90. , 112.5, 135. , 157.5])\n",
    "Xhat_centeredmean = np.mean(Xhat_centered, axis = 1)\n",
    "Xhat_centeredsem = np.std(m_centered, axis = 1)/Xhat.shape[1]\n",
    "Xhat_shiftedmean = np.roll(Xhat_centeredmean, 3, axis = 0)\n",
    "Xhat_shiftedsem = np.roll(Xhat_centeredsem, 3, axis = 0)\n",
    "x_centeredlabels = np.roll(x_labels,  3, axis = 0)"
   ]
  },
  {
   "cell_type": "code",
   "execution_count": 29,
   "id": "0c444b74",
   "metadata": {},
   "outputs": [
    {
     "data": {
      "text/plain": [
       "0.322871312231362"
      ]
     },
     "execution_count": 29,
     "metadata": {},
     "output_type": "execute_result"
    }
   ],
   "source": [
    "# Kernel to back project channel outputs to orientation space\n",
    "kernel = np.exp(1j * (np.linspace(0, numC-1,numC)*(2*np.pi/numC)))\n",
    "Z = kernel @ Xhat\n",
    "\n",
    "theta = np.mod(np.angle(Z), 2*np.pi) * (180/np.pi) / 2    # Decoded orientation (retain the module of the complex number)\n",
    "\n",
    "r = np.mean(np.exp(1j * (theta - phi) * (np.pi/180)*2)) # correlation between decoded and presented orientation\n",
    "r = np.abs(r) * np.cos(np.angle(r))\n",
    "r"
   ]
  },
  {
   "attachments": {},
   "cell_type": "markdown",
   "id": "2b1c0ab8",
   "metadata": {},
   "source": [
    "Getting mean orientation values for each stimulus bin"
   ]
  },
  {
   "cell_type": "code",
   "execution_count": 30,
   "id": "e48161b2",
   "metadata": {},
   "outputs": [],
   "source": [
    "mtheta = np.zeros(numC)\n",
    "for ic in range(numC):\n",
    "    mtheta[ic] = np.mod(np.angle(np.mean(np.exp(1j * theta[G == (ic+1)] * (np.pi/180)*2))), 2*np.pi) * (180/np.pi) / 2"
   ]
  },
  {
   "attachments": {},
   "cell_type": "markdown",
   "id": "e6d28f80",
   "metadata": {},
   "source": [
    "# Plotting results"
   ]
  },
  {
   "cell_type": "code",
   "execution_count": 31,
   "id": "f8ca6821",
   "metadata": {},
   "outputs": [
    {
     "data": {
      "text/plain": [
       "[Text(0.0, 0, '0.0'),\n",
       " Text(22.5, 0, '22.5'),\n",
       " Text(45.0, 0, '45.0'),\n",
       " Text(67.5, 0, '67.5'),\n",
       " Text(90.0, 0, '90.0'),\n",
       " Text(112.5, 0, '112.5'),\n",
       " Text(135.0, 0, '135.0'),\n",
       " Text(157.5, 0, '157.5')]"
      ]
     },
     "execution_count": 31,
     "metadata": {},
     "output_type": "execute_result"
    },
    {
     "data": {
      "image/png": "[encoded data removed]",
      "text/plain": [
       "<Figure size 1400x400 with 3 Axes>"
      ]
     },
     "metadata": {},
     "output_type": "display_data"
    }
   ],
   "source": [
    "fig, ax = plt.subplots(1,3,figsize=(14,4))\n",
    "ax[0].plot(x_labels, m)\n",
    "ax[0].plot(x_labels, m)\n",
    "ax[0].set_xticks(x_labels)\n",
    "ax[0].set_xticklabels(x_labels.astype(str))\n",
    "ax[0].legend(x_labels, loc=3, prop={'size': 6})\n",
    "\n",
    "\n",
    "ax[1].plot(x_labels, Xhat_shiftedmean)\n",
    "ax[1].fill_between(x_labels, Xhat_shiftedmean-Xhat_shiftedsem, Xhat_shiftedmean+Xhat_shiftedsem)\n",
    "ax[1].scatter(x_labels, Xhat_shiftedmean, color = 'red')\n",
    "ax[1].set_xticks(x_labels)\n",
    "ax[1].set_xticklabels(x_centeredlabels.astype(str))\n",
    "\n",
    "\n",
    "ax[2].scatter(x_labels, mtheta, color = 'red')\n",
    "ax[2].scatter(phi, theta, s = 1)\n",
    "ax[2].set_xticks(x_labels)\n",
    "ax[2].set_xticklabels(x_labels.astype(str))\n"
   ]
  },
  {
   "attachments": {},
   "cell_type": "markdown",
   "id": "4517ddc7",
   "metadata": {},
   "source": [
    "__Temporal dimension decoding__"
   ]
  },
  {
   "cell_type": "code",
   "execution_count": 32,
   "id": "c66208f1-26ce-4c01-a664-5f324f2901ab",
   "metadata": {},
   "outputs": [],
   "source": [
    "G = binned_phi.copy() # binning/discritizing orientation dimension to assign a balanced number of stimuli to different dat\n",
    "CONDS = np.unique(G)\n",
    "nConds = CONDS.size\n",
    "nfold = 4\n",
    "FoldsIdx = dt.CreateFolds(G, Y, nfold)"
   ]
  },
  {
   "cell_type": "code",
   "execution_count": 33,
   "id": "c2f46d6a-75c9-432a-b5c5-4ec6ced2708b",
   "metadata": {},
   "outputs": [
    {
     "data": {
      "text/plain": [
       "<matplotlib.image.AxesImage at 0x7fa5e864cb20>"
      ]
     },
     "execution_count": 33,
     "metadata": {},
     "output_type": "execute_result"
    },
    {
     "data": {
      "image/png": "[encoded data removed]",
      "text/plain": [
       "<Figure size 300x300 with 1 Axes>"
      ]
     },
     "metadata": {},
     "output_type": "display_data"
    }
   ],
   "source": [
    "numC = 8 # how many channels to use\n",
    "\n",
    "cfg = dict()\n",
    "cfg['kappa'] = 4\n",
    "cfg['NumC'] = numC\n",
    "cfg['Tuning'] = 'vonmises'#'halfRectCos'\n",
    "cfg['offset'] = 0\n",
    "\n",
    "design, sortedesign = dt.stim_features(phi, cfg)\n",
    "\n",
    "fig, ax = plt.subplots(1, 1, figsize=(3, 3))\n",
    "plt.imshow(sortedesign,aspect='auto',interpolation = 'none')"
   ]
  },
  {
   "cell_type": "code",
   "execution_count": 34,
   "id": "3078ef3d",
   "metadata": {},
   "outputs": [
    {
     "ename": "KeyboardInterrupt",
     "evalue": "",
     "output_type": "error",
     "traceback": [
      "\u001b[0;31m---------------------------------------------------------------------------\u001b[0m",
      "\u001b[0;31mKeyboardInterrupt\u001b[0m                         Traceback (most recent call last)",
      "Cell \u001b[0;32mIn[34], line 7\u001b[0m\n\u001b[1;32m      5\u001b[0m cfg[\u001b[39m'\u001b[39m\u001b[39mcfgE\u001b[39m\u001b[39m'\u001b[39m] \u001b[39m=\u001b[39m {\u001b[39m'\u001b[39m\u001b[39mgamma\u001b[39m\u001b[39m'\u001b[39m: \u001b[39m0.01\u001b[39m, \u001b[39m'\u001b[39m\u001b[39mdemean\u001b[39m\u001b[39m'\u001b[39m : \u001b[39mTrue\u001b[39;00m, \u001b[39m'\u001b[39m\u001b[39mreturnPattern\u001b[39m\u001b[39m'\u001b[39m : \u001b[39mTrue\u001b[39;00m}\n\u001b[1;32m      6\u001b[0m cfg[\u001b[39m'\u001b[39m\u001b[39mcfgD\u001b[39m\u001b[39m'\u001b[39m] \u001b[39m=\u001b[39m {\u001b[39m'\u001b[39m\u001b[39mdemean\u001b[39m\u001b[39m'\u001b[39m : \u001b[39m'\u001b[39m\u001b[39mtraindata\u001b[39m\u001b[39m'\u001b[39m}\n\u001b[0;32m----> 7\u001b[0m Xhat[:,:,it] \u001b[39m=\u001b[39m dt\u001b[39m.\u001b[39;49mCV_encoder(design, Y, it, cfg, FoldsIdx)\n",
      "File \u001b[0;32m~/Desktop/master-thesis/decoding_toolbox_py/helper_funcs/DecToolbox.py:216\u001b[0m, in \u001b[0;36mCV_encoder\u001b[0;34m(design, Y, sel_t, cfg, FoldsIdx)\u001b[0m\n\u001b[1;32m    213\u001b[0m \u001b[39melse\u001b[39;00m:\n\u001b[1;32m    214\u001b[0m     cfgE \u001b[39m=\u001b[39m cfg[\u001b[39m'\u001b[39m\u001b[39mcfgE\u001b[39m\u001b[39m'\u001b[39m]\n\u001b[0;32m--> 216\u001b[0m decoder \u001b[39m=\u001b[39m train_encoder(idesign, dat[\u001b[39m'\u001b[39;49m\u001b[39mY_train\u001b[39;49m\u001b[39m'\u001b[39;49m], cfgE)\n\u001b[1;32m    218\u001b[0m \u001b[39mif\u001b[39;00m \u001b[39m'\u001b[39m\u001b[39mcfgD\u001b[39m\u001b[39m'\u001b[39m \u001b[39mnot\u001b[39;00m \u001b[39min\u001b[39;00m cfg:\n\u001b[1;32m    219\u001b[0m     cfgD \u001b[39m=\u001b[39m {\u001b[39m'\u001b[39m\u001b[39mdemean\u001b[39m\u001b[39m'\u001b[39m : \u001b[39m'\u001b[39m\u001b[39mtraindata\u001b[39m\u001b[39m'\u001b[39m}\n",
      "File \u001b[0;32m~/Desktop/master-thesis/decoding_toolbox_py/helper_funcs/DecToolbox.py:132\u001b[0m, in \u001b[0;36mtrain_encoder\u001b[0;34m(X, Y, cfg)\u001b[0m\n\u001b[1;32m    130\u001b[0m     decoder[\u001b[39m'\u001b[39m\u001b[39mpattern\u001b[39m\u001b[39m'\u001b[39m][:, ic] \u001b[39m=\u001b[39m l\n\u001b[1;32m    131\u001b[0m \u001b[39m# Estimate noise (what is not explained by the regressors coefficients)\u001b[39;00m\n\u001b[0;32m--> 132\u001b[0m N \u001b[39m=\u001b[39m Y \u001b[39m-\u001b[39m X[:,[ic]] \u001b[39m*\u001b[39m l\n\u001b[1;32m    133\u001b[0m \u001b[39m# Estimate noise covariance\u001b[39;00m\n\u001b[1;32m    134\u001b[0m S \u001b[39m=\u001b[39m np\u001b[39m.\u001b[39mcov(N,rowvar\u001b[39m=\u001b[39m\u001b[39mFalse\u001b[39;00m)\u001b[39m.\u001b[39mcopy() \u001b[39m# rowvar is necessary to get the correct covariance matrix shape\u001b[39;00m\n",
      "\u001b[0;31mKeyboardInterrupt\u001b[0m: "
     ]
    }
   ],
   "source": [
    "numT = Y.shape[1]\n",
    "Xhat = np.zeros([numC,numN, numT])\n",
    "for it in range(numT):\n",
    "    cfg = dict()\n",
    "    cfg['cfgE'] = {'gamma': 0.01, 'demean' : True, 'returnPattern' : True}\n",
    "    cfg['cfgD'] = {'demean' : 'traindata'}\n",
    "    Xhat[:,:,it] = dt.CV_encoder(design, Y, it, cfg, FoldsIdx)\n",
    "    \n",
    "    "
   ]
  },
  {
   "cell_type": "code",
   "execution_count": null,
   "id": "fb682c5f",
   "metadata": {},
   "outputs": [],
   "source": [
    "m = np.zeros((numC,numC, numT))\n",
    "for ic in range(numC):\n",
    "   m[:,ic] =  np.mean( Xhat[:, G == (ic+1),:], axis = 1)"
   ]
  },
  {
   "attachments": {},
   "cell_type": "markdown",
   "id": "83218d35",
   "metadata": {},
   "source": [
    "Re-alligning predictions for trials with identical orientation"
   ]
  },
  {
   "cell_type": "code",
   "execution_count": null,
   "id": "72c68f90",
   "metadata": {},
   "outputs": [],
   "source": [
    "Xhat_centered = 0*Xhat.copy()\n",
    "m_centered = np.zeros((numC,numC, numT))\n",
    "for ic in range(numC): # here trials that match similar label orientation are shifted together x positions (np.roll)\n",
    "    Xhat_centered[:, G == (ic+1),:] = np.roll(Xhat[:,G == (ic+1),:], -ic, axis = 0)\n",
    "    m_centered[:,ic, : ] =  np.mean( Xhat_centered[:,  G == (ic+1), :], axis = 1)"
   ]
  },
  {
   "cell_type": "code",
   "execution_count": null,
   "id": "e5fd9794",
   "metadata": {},
   "outputs": [],
   "source": [
    "x_labels = np.array([  0. ,  22.5,  45. ,  67.5,  90. , 112.5, 135. , 157.5])\n",
    "Xhat_centeredmean = np.mean(Xhat_centered, axis = 1)\n",
    "Xhat_centeredsem = np.std(m_centered, axis = 1)/Xhat.shape[1]\n",
    "Xhat_shiftedmean = np.roll(Xhat_centeredmean, 3, axis = 0)\n",
    "Xhat_shiftedsem = np.roll(Xhat_centeredsem, 3, axis = 0)\n",
    "x_centeredlabels = np.roll(x_labels,  3, axis = 0)"
   ]
  },
  {
   "cell_type": "code",
   "execution_count": null,
   "id": "61b0e13a",
   "metadata": {},
   "outputs": [],
   "source": [
    "fig, ax = plt.subplots(1, 1, figsize=(6, 3))\n",
    "plt.imshow(Xhat_shiftedmean,aspect='auto',vmin = -1e-28, vmax = 1e-28, interpolation = 'gaussian',extent=[time[0],time[-1],x_centeredlabels[0], x_centeredlabels[-1]])\n",
    "plt.colorbar()\n",
    "# ax.set_xtickslabels(time)\n",
    "# ax.set_Yticklabels(x_centeredlabels.astype(str))\n"
   ]
  },
  {
   "attachments": {},
   "cell_type": "markdown",
   "id": "c92fd46e",
   "metadata": {},
   "source": [
    "__Crossmodal temporal generalization decoding__"
   ]
  },
  {
   "cell_type": "code",
   "execution_count": null,
   "id": "85ee7c06-51fa-4fe0-bd22-6a207cbf5a82",
   "metadata": {},
   "outputs": [],
   "source": [
    "import time as tic\n"
   ]
  },
  {
   "cell_type": "code",
   "execution_count": null,
   "id": "345d6e98",
   "metadata": {},
   "outputs": [],
   "source": [
    "start = tic.time()\n",
    "numT = Y.shape[1]\n",
    "Xhat = np.zeros([numC,numN, numT, numT])\n",
    "for it in range(numT):\n",
    "    cfg = dict()\n",
    "    cfg['cfgE'] = {'gamma': 0.01, 'demean' : True, 'returnPattern' : True}\n",
    "    cfg['cfgD'] = {'demean' : 'traindata'}\n",
    "    Xhat[:,:,it, :] = dt.CV_TG_encoder(design, Y, it, cfg, FoldsIdx)\n",
    "end = tic.time()"
   ]
  },
  {
   "cell_type": "code",
   "execution_count": null,
   "id": "1952029f-5e47-4b17-aec9-9643869c5796",
   "metadata": {},
   "outputs": [],
   "source": [
    "(end-start)/60"
   ]
  },
  {
   "cell_type": "code",
   "execution_count": null,
   "id": "78a74b6f",
   "metadata": {},
   "outputs": [],
   "source": [
    "m = np.zeros((numC,numC, numT, numT))\n",
    "for ic in range(numC):\n",
    "   m[:,ic, :, :] =  np.mean( Xhat[:, G == (ic+1),:,:], axis = 1)"
   ]
  },
  {
   "attachments": {},
   "cell_type": "markdown",
   "id": "5c568cf3",
   "metadata": {},
   "source": [
    "Re-alligning predictions for trials with identical orientation"
   ]
  },
  {
   "cell_type": "code",
   "execution_count": null,
   "id": "5a5da45b",
   "metadata": {},
   "outputs": [],
   "source": [
    "Xhat_centered = 0*Xhat.copy()\n",
    "m_centered = np.zeros((numC,numC, numT, numT))\n",
    "for ic in range(numC): # here trials that match similar label orientation are shifted together x positions (np.roll)\n",
    "    Xhat_centered[:, G == (ic+1),:, :] = np.roll(Xhat[:,G == (ic+1),:, :], -ic, axis = 0)\n",
    "    m_centered[:,ic, : , : ] =  np.mean( Xhat_centered[:,  G == (ic+1), :, :], axis = 1)"
   ]
  },
  {
   "attachments": {},
   "cell_type": "markdown",
   "id": "4a5a10c9",
   "metadata": {},
   "source": [
    "Plotting diagonal values"
   ]
  },
  {
   "cell_type": "code",
   "execution_count": null,
   "id": "a72e552c-448a-4ffa-b705-28154e04cbd7",
   "metadata": {},
   "outputs": [],
   "source": [
    "diagonal_vals =  m_centered[:,:,range(numT),range(numT)]\n",
    "fig, ax = plt.subplots(1, 1, figsize=(6, 3))\n",
    "plt.imshow(np.mean(diagonal_vals, axis = 1),aspect='auto',vmin = -1e-28, vmax = 1e-28, interpolation = 'gaussian',extent=[time[0],time[-1],x_centeredlabels[0], x_centeredlabels[-1]])\n",
    "plt.colorbar()"
   ]
  },
  {
   "attachments": {},
   "cell_type": "markdown",
   "id": "8c692482",
   "metadata": {},
   "source": [
    "Correlation between actual and predicted orientation values"
   ]
  },
  {
   "cell_type": "code",
   "execution_count": null,
   "id": "99cb0b40",
   "metadata": {},
   "outputs": [],
   "source": [
    "r = np.zeros((numT, numT))\n",
    "\n",
    "for it1 in range(numT):\n",
    "    for it2 in range(numT):\n",
    "        # Kernel to back project channel outputs to orientation space\n",
    "        kernel = np.exp(1j * (np.linspace(0, numC-1,numC)*(2*np.pi/numC)))\n",
    "        Z = kernel @ Xhat[:,:, it1, it2]\n",
    "\n",
    "        theta = np.mod(np.angle(Z), 2*np.pi) * (180/np.pi) / 2    # Decoded orientation (retain the module of the complex number)\n",
    "\n",
    "        rs = np.mean(np.exp(1j * (theta - phi) * (np.pi/180)*2)) # correlation between decoded and presented orientation\n",
    "        r[it1, it2] = np.abs(rs) * np.cos(np.angle(rs))\n",
    "        r"
   ]
  },
  {
   "cell_type": "code",
   "execution_count": null,
   "id": "fc2b7ba0-3716-424e-ae43-3754d7b5047a",
   "metadata": {},
   "outputs": [],
   "source": [
    "time_labels = [0, 0.2, 0.4, 0.6]"
   ]
  },
  {
   "cell_type": "code",
   "execution_count": null,
   "id": "c1569cf7",
   "metadata": {},
   "outputs": [],
   "source": [
    "fig, ax = plt.subplots(1, 1, figsize=(4, 4))\n",
    "plt.imshow(r, aspect= 1, interpolation = None, vmin = -0.25, vmax = 0.25, origin = 'lower',extent=[time[0],time[-1],time[0],time[-1]])\n",
    "plt.colorbar()\n",
    "#ax.set_xticklabels(time_labels)\n",
    "#ax.set_yticklabels(time_labels)"
   ]
  },
  {
   "cell_type": "code",
   "execution_count": null,
   "id": "dcc6fdda",
   "metadata": {},
   "outputs": [],
   "source": [
    "def CV_encoder(design, Y, sel_t, cfg, FoldsIdx):\n",
    "\n",
    "    numC = design.shape[0]\n",
    "    numN = Y.shape[2]\n",
    "\n",
    "    Xhat = np.zeros([numC,numN])\n",
    "    Xhat_centered = 0*Xhat.copy()\n",
    "\n",
    "    nfold = np.size(FoldsIdx)\n",
    "\n",
    "    for ifold in range(nfold):\n",
    "        # Output matrix\n",
    "        dat = dict()\n",
    "        dat['Y_train'] = np.squeeze(Y[:,sel_t, FoldsIdx[ifold]['train_index']])\n",
    "        idesign = design[:,FoldsIdx[ifold]['train_index']]\n",
    "        dat['Y_test'] = np.squeeze(Y[:,sel_t, FoldsIdx[ifold]['test_index']])\n",
    "\n",
    "        if 'cfgE' not in cfg:\n",
    "            cfgE = {'gamma': 0.01, 'demean' : True, 'returnPattern' : True}\n",
    "        else:\n",
    "            cfgE = cfg['cfgE']\n",
    "\n",
    "        decoder = dt.train_encoder(idesign, dat['Y_train'], cfgE)\n",
    "\n",
    "        if 'cfgD' not in cfg:\n",
    "            cfgD = {'demean' : 'traindata'}\n",
    "        else:\n",
    "            cfgD = cfg['cfgD']\n",
    "\n",
    "\n",
    "        Xhat[:,FoldsIdx[ifold]['test_index']] = dt.test_encoder( decoder, dat['Y_test'], cfgD) \n",
    "    \n",
    "    return Xhat"
   ]
  },
  {
   "attachments": {},
   "cell_type": "markdown",
   "id": "5c879a88",
   "metadata": {},
   "source": [
    "Getting mean orientation values for each stimulus bin"
   ]
  },
  {
   "attachments": {},
   "cell_type": "markdown",
   "id": "d9192c16",
   "metadata": {},
   "source": [
    "# Plotting results"
   ]
  },
  {
   "cell_type": "code",
   "execution_count": null,
   "id": "d0e4dddc",
   "metadata": {},
   "outputs": [],
   "source": [
    "# Creating dat containing test and train indexes\n",
    "nfold = 2\n",
    "\n",
    "from sklearn.model_selection import StratifiedKFold\n",
    "skf = StratifiedKFold(n_splits=nfold,shuffle=False)\n",
    "CrossValIdx = [None] * nfold\n",
    "i = 0\n",
    "for train_index, test_index  in  skf.split(X = np.zeros(numN), y = X):\n",
    "    #print(\"TRAIN:\", train_index, \"TEST:\", test_index)\n",
    "    X_train, X_test = X[train_index], X[test_index]\n",
    "    CrossValIdx[i] = { 'train_index': train_index, 'test_index': test_index}\n",
    "    i += 1\n",
    "\n",
    "    X_train = G[ CrossValIdx[0]['train_index']][:,np.newaxis]\n",
    "    Y_train = np.squeeze(Y[:,sel_t, CrossValIdx[0]['train_index']]).shape\n",
    "    phi_train = phi[ CrossValIdx[0]['train_index']][:,np.newaxis]\n",
    "\n",
    "    X_test = G[ CrossValIdx[0]['test_index']][:,np.newaxis]\n",
    "    Y_test = np.squeeze(Y[:,sel_t, CrossValIdx[0]['test_index']]).shape\n",
    "    phi_test = phi[ CrossValIdx[0]['test_index']][:,np.newaxis]"
   ]
  },
  {
   "cell_type": "code",
   "execution_count": null,
   "id": "72461ca7",
   "metadata": {},
   "outputs": [],
   "source": [
    "\n",
    "X_train = G[ CrossValIdx[0]['train_index']][:,np.newaxis]\n",
    "Y_train = np.squeeze(Y[:,sel_t, CrossValIdx[0]['train_index']]).shape\n",
    "phi_train = phi[ CrossValIdx[0]['train_index']][:,np.newaxis]\n",
    "X_test = G[ CrossValIdx[0]['test_index']][:,np.newaxis]\n",
    "Y_test = np.squeeze(Y[:,sel_t, CrossValIdx[0]['test_index']]).shape\n",
    "phi_test = phi[ CrossValIdx[0]['test_index']][:,np.newaxis]"
   ]
  },
  {
   "cell_type": "code",
   "execution_count": null,
   "id": "593fc5a5",
   "metadata": {},
   "outputs": [],
   "source": [
    "G[dat[0].astype(int)]"
   ]
  },
  {
   "cell_type": "code",
   "execution_count": null,
   "id": "4e67ee9e",
   "metadata": {},
   "outputs": [],
   "source": [
    "dat = [np.array([])]*nfold\n",
    "\n",
    "for iCond in range(nConds):\n",
    "    # Find indexes\n",
    "    indx = np.where(G == CONDS[iCond])[0]\n",
    "    n_indx = indx.size \n",
    "    # Shuffle indexes\n",
    "    indx = np.random.permutation(indx)\n",
    "    # Distribute across dat\n",
    "    nelemxfold = np.floor(indx.size/nfold)\n",
    "    groupNumber = np.repeat(np.arange(0,nfold), nelemxfold)\n",
    "\n",
    "    for iFold in range(nfold):\n",
    "        dat[iFold] = np.append(dat[iFold], indx[np.where(groupNumber == iFold)])\n",
    "\n",
    " "
   ]
  },
  {
   "cell_type": "code",
   "execution_count": null,
   "id": "ee21c55c",
   "metadata": {},
   "outputs": [],
   "source": [
    "indx[np.where(groupNumber == iFold)]"
   ]
  },
  {
   "cell_type": "code",
   "execution_count": null,
   "id": "c1459da5-2292-4a3b-86bc-c3e759febd68",
   "metadata": {},
   "outputs": [],
   "source": [
    "import mne"
   ]
  },
  {
   "cell_type": "code",
   "execution_count": null,
   "id": "da9591ca",
   "metadata": {},
   "outputs": [],
   "source": [
    "subjects_dir = \"/Applications/freesurfer/7.2.0/subjects/\"\n",
    "# plot the resulting alignment\n",
    "brain = mne.viz.Brain('fsaverage', subjects_dir=subjects_dir, **brain_kwargs)\n",
    "#brain.add_sensors(raw.info, trans=template_trans)\n",
    "brain.show_view(**view_kwargs)"
   ]
  },
  {
   "cell_type": "code",
   "execution_count": null,
   "id": "0955206e",
   "metadata": {},
   "outputs": [],
   "source": [
    "plt.hist(phi)"
   ]
  },
  {
   "cell_type": "code",
   "execution_count": null,
   "id": "7bebee4c",
   "metadata": {},
   "outputs": [],
   "source": [
    "nfold = 2"
   ]
  },
  {
   "cell_type": "code",
   "execution_count": null,
   "id": "81a20fdd-ca44-493f-bbf2-fa09d5ee5a33",
   "metadata": {},
   "outputs": [],
   "source": [
    "12/1.5"
   ]
  },
  {
   "cell_type": "code",
   "execution_count": null,
   "id": "a9215603-99e0-4067-840f-5d24bc67b065",
   "metadata": {},
   "outputs": [],
   "source": [
    "1.5*13"
   ]
  },
  {
   "cell_type": "code",
   "execution_count": null,
   "id": "cef75ad9-c783-4784-a79c-98c0ad6da595",
   "metadata": {},
   "outputs": [],
   "source": [
    "60/1.5"
   ]
  },
  {
   "cell_type": "code",
   "execution_count": null,
   "id": "d303b7ab-d491-4294-ae3d-61a1c43293b4",
   "metadata": {},
   "outputs": [],
   "source": [
    "68/9"
   ]
  },
  {
   "cell_type": "code",
   "execution_count": null,
   "id": "3d89626d-33ab-43e7-8b08-a81621113de2",
   "metadata": {},
   "outputs": [],
   "source": [
    "42/6"
   ]
  },
  {
   "cell_type": "code",
   "execution_count": null,
   "id": "c361519c-4a4a-413f-9ff2-f7b6a921e4f0",
   "metadata": {},
   "outputs": [],
   "source": [
    "180*2/60"
   ]
  },
  {
   "cell_type": "code",
   "execution_count": null,
   "id": "02ee5a13-5866-4706-97a0-bbbff5e489f5",
   "metadata": {},
   "outputs": [],
   "source": [
    "(6*2) + (9*6) + 7"
   ]
  },
  {
   "cell_type": "code",
   "execution_count": null,
   "id": "8415eb8b-12a8-4519-a417-db4e1b76c037",
   "metadata": {},
   "outputs": [],
   "source": [
    "30/6"
   ]
  },
  {
   "cell_type": "code",
   "execution_count": null,
   "id": "051b5b77-c667-4957-a9c9-91f8b383d370",
   "metadata": {},
   "outputs": [],
   "source": [
    "np.asarray(time >=.2).nonzero()"
   ]
  },
  {
   "cell_type": "code",
   "execution_count": null,
   "id": "0e843fc1-7057-493c-a9b7-80ad0d8884e5",
   "metadata": {},
   "outputs": [],
   "source": []
  },
  {
   "cell_type": "code",
   "execution_count": null,
   "id": "aa078b3a",
   "metadata": {},
   "outputs": [],
   "source": []
  }
 ],
 "metadata": {
  "kernelspec": {
   "display_name": "Python 3 (ipykernel)",
   "language": "python",
   "name": "python3"
  },
  "language_info": {
   "codemirror_mode": {
    "name": "ipython",
    "version": 3
   },
   "file_extension": ".py",
   "mimetype": "text/x-python",
   "name": "python",
   "nbconvert_exporter": "python",
   "pygments_lexer": "ipython3",
   "version": "3.10.11"
  },
  "vscode": {
   "interpreter": {
    "hash": "78277f196899d30b09f8eb84b1d60d6cc910a2e198812045736ce186b763ced0"
   }
  }
 },
 "nbformat": 4,
 "nbformat_minor": 5
}
