{
 "cells": [
  {
   "cell_type": "code",
   "execution_count": 1,
   "id": "44959dd2-186c-402b-b9b6-0a33b9bcad47",
   "metadata": {},
   "outputs": [],
   "source": [
    "import sys\n",
    "path_utils = '/Users/alex/Library/CloudStorage/OneDrive-UniversitatdeBarcelona/TOOLBOXES/decoding_toolbox_py/helper_funcs' \n",
    "sys.path.append(path_utils)"
   ]
  },
  {
   "cell_type": "code",
   "execution_count": 2,
   "id": "ccda2783-6332-4073-8b7e-5b9c3908af6e",
   "metadata": {},
   "outputs": [],
   "source": [
    "from scipy.io import loadmat\n",
    "import numpy as np\n",
    "import pandas as pd\n",
    "import mat73\n",
    "\n",
    "import inspect #path_fun = inspect.getfile(StratifiedKFold)\n",
    "import matplotlib.pyplot as plt\n",
    "import DecToolbox as dt\n",
    "#print(sys.path)"
   ]
  },
  {
   "cell_type": "markdown",
   "id": "b87164e1-1a69-486a-b5cd-0741718557cc",
   "metadata": {},
   "source": [
    "Decoding modules"
   ]
  },
  {
   "cell_type": "code",
   "execution_count": 3,
   "id": "b4ffcfde-ced5-425e-a781-317c11d1391a",
   "metadata": {},
   "outputs": [],
   "source": [
    "path = '/Users/alex/Library/CloudStorage/OneDrive-UniversitatdeBarcelona/TOOLBOXES/decoding-toolbox/data/'\n",
    "path_ori_data = path + 'testdata_orientation.mat'"
   ]
  },
  {
   "cell_type": "markdown",
   "id": "7c675828-ed42-4879-b83f-b7329311a2bc",
   "metadata": {},
   "source": [
    "Loading & preparing orientation data"
   ]
  },
  {
   "cell_type": "code",
   "execution_count": 11,
   "id": "3f207fdb-c1d1-4e6c-9799-561bcb347c8b",
   "metadata": {},
   "outputs": [
    {
     "data": {
      "text/plain": [
       "3"
      ]
     },
     "execution_count": 11,
     "metadata": {},
     "output_type": "execute_result"
    }
   ],
   "source": [
    "a"
   ]
  },
  {
   "cell_type": "code",
   "execution_count": 4,
   "id": "2fb91a3b-ce2a-4db3-9676-56674880318c",
   "metadata": {},
   "outputs": [],
   "source": [
    "ori_data = mat73.loadmat(path_ori_data)"
   ]
  },
  {
   "cell_type": "code",
   "execution_count": 133,
   "id": "d403f828-7344-4d23-be7d-0a564aa4d218",
   "metadata": {},
   "outputs": [],
   "source": [
    "import pandas as pd"
   ]
  },
  {
   "cell_type": "code",
   "execution_count": 137,
   "id": "8d64039d-0936-4b83-a5d7-317114b90bde",
   "metadata": {},
   "outputs": [],
   "source": [
    "labels_pd = pd.Series(label)"
   ]
  },
  {
   "cell_type": "code",
   "execution_count": 153,
   "id": "e187422b-a264-494f-96ca-f1a1c6c9b4e9",
   "metadata": {},
   "outputs": [],
   "source": [
    "a = np.squeeze(a)"
   ]
  },
  {
   "cell_type": "code",
   "execution_count": 155,
   "id": "8837720c-534f-48aa-8f4a-833fa32bcbda",
   "metadata": {},
   "outputs": [],
   "source": [
    "a = np.squeeze(np.asarray(label))\n",
    "labels_pd = pd.Series(a)"
   ]
  },
  {
   "cell_type": "code",
   "execution_count": 160,
   "id": "c12bca43-bcef-4bed-af2e-80572fb93510",
   "metadata": {},
   "outputs": [
    {
     "data": {
      "text/plain": [
       "0      MLC12\n",
       "1      MLC13\n",
       "2      MLC14\n",
       "3      MLC15\n",
       "4      MLC16\n",
       "       ...  \n",
       "268    MZF03\n",
       "269    MZO01\n",
       "270    MZO02\n",
       "271    MZO03\n",
       "272    MZP01\n",
       "Length: 273, dtype: object"
      ]
     },
     "execution_count": 160,
     "metadata": {},
     "output_type": "execute_result"
    }
   ],
   "source": [
    "labels_pd"
   ]
  },
  {
   "cell_type": "code",
   "execution_count": 166,
   "id": "7e0c1789-cb4b-4a5c-b1c1-58214a08c4e4",
   "metadata": {
    "collapsed": true,
    "jupyter": {
     "outputs_hidden": true
    },
    "tags": []
   },
   "outputs": [
    {
     "data": {
      "text/plain": [
       "[['MLC12'],\n",
       " ['MLC13'],\n",
       " ['MLC14'],\n",
       " ['MLC15'],\n",
       " ['MLC16'],\n",
       " ['MLC17'],\n",
       " ['MLC21'],\n",
       " ['MLC22'],\n",
       " ['MLC23'],\n",
       " ['MLC24'],\n",
       " ['MLC25'],\n",
       " ['MLC31'],\n",
       " ['MLC32'],\n",
       " ['MLC41'],\n",
       " ['MLC42'],\n",
       " ['MLC51'],\n",
       " ['MLC52'],\n",
       " ['MLC53'],\n",
       " ['MLC54'],\n",
       " ['MLC55'],\n",
       " ['MLC61'],\n",
       " ['MLC62'],\n",
       " ['MLC63'],\n",
       " ['MLF11'],\n",
       " ['MLF12'],\n",
       " ['MLF13'],\n",
       " ['MLF14'],\n",
       " ['MLF21'],\n",
       " ['MLF22'],\n",
       " ['MLF23'],\n",
       " ['MLF24'],\n",
       " ['MLF25'],\n",
       " ['MLF31'],\n",
       " ['MLF32'],\n",
       " ['MLF33'],\n",
       " ['MLF34'],\n",
       " ['MLF35'],\n",
       " ['MLF41'],\n",
       " ['MLF42'],\n",
       " ['MLF43'],\n",
       " ['MLF44'],\n",
       " ['MLF45'],\n",
       " ['MLF46'],\n",
       " ['MLF51'],\n",
       " ['MLF52'],\n",
       " ['MLF53'],\n",
       " ['MLF54'],\n",
       " ['MLF55'],\n",
       " ['MLF56'],\n",
       " ['MLF61'],\n",
       " ['MLF62'],\n",
       " ['MLF63'],\n",
       " ['MLF64'],\n",
       " ['MLF65'],\n",
       " ['MLF66'],\n",
       " ['MLF67'],\n",
       " ['MLO11'],\n",
       " ['MLO12'],\n",
       " ['MLO13'],\n",
       " ['MLO14'],\n",
       " ['MLO21'],\n",
       " ['MLO22'],\n",
       " ['MLO23'],\n",
       " ['MLO24'],\n",
       " ['MLO31'],\n",
       " ['MLO32'],\n",
       " ['MLO33'],\n",
       " ['MLO34'],\n",
       " ['MLO41'],\n",
       " ['MLO42'],\n",
       " ['MLO43'],\n",
       " ['MLO44'],\n",
       " ['MLO51'],\n",
       " ['MLO52'],\n",
       " ['MLO53'],\n",
       " ['MLP11'],\n",
       " ['MLP12'],\n",
       " ['MLP21'],\n",
       " ['MLP22'],\n",
       " ['MLP23'],\n",
       " ['MLP31'],\n",
       " ['MLP32'],\n",
       " ['MLP33'],\n",
       " ['MLP34'],\n",
       " ['MLP35'],\n",
       " ['MLP41'],\n",
       " ['MLP42'],\n",
       " ['MLP43'],\n",
       " ['MLP44'],\n",
       " ['MLP45'],\n",
       " ['MLP51'],\n",
       " ['MLP52'],\n",
       " ['MLP53'],\n",
       " ['MLP54'],\n",
       " ['MLP55'],\n",
       " ['MLP56'],\n",
       " ['MLP57'],\n",
       " ['MLT11'],\n",
       " ['MLT12'],\n",
       " ['MLT13'],\n",
       " ['MLT14'],\n",
       " ['MLT15'],\n",
       " ['MLT16'],\n",
       " ['MLT21'],\n",
       " ['MLT22'],\n",
       " ['MLT23'],\n",
       " ['MLT24'],\n",
       " ['MLT25'],\n",
       " ['MLT26'],\n",
       " ['MLT27'],\n",
       " ['MLT31'],\n",
       " ['MLT32'],\n",
       " ['MLT33'],\n",
       " ['MLT34'],\n",
       " ['MLT35'],\n",
       " ['MLT36'],\n",
       " ['MLT37'],\n",
       " ['MLT41'],\n",
       " ['MLT42'],\n",
       " ['MLT43'],\n",
       " ['MLT44'],\n",
       " ['MLT45'],\n",
       " ['MLT46'],\n",
       " ['MLT47'],\n",
       " ['MLT51'],\n",
       " ['MLT52'],\n",
       " ['MLT53'],\n",
       " ['MLT54'],\n",
       " ['MLT55'],\n",
       " ['MLT56'],\n",
       " ['MLT57'],\n",
       " ['MRC11'],\n",
       " ['MRC12'],\n",
       " ['MRC13'],\n",
       " ['MRC14'],\n",
       " ['MRC15'],\n",
       " ['MRC16'],\n",
       " ['MRC17'],\n",
       " ['MRC21'],\n",
       " ['MRC22'],\n",
       " ['MRC23'],\n",
       " ['MRC24'],\n",
       " ['MRC25'],\n",
       " ['MRC31'],\n",
       " ['MRC32'],\n",
       " ['MRC41'],\n",
       " ['MRC42'],\n",
       " ['MRC51'],\n",
       " ['MRC52'],\n",
       " ['MRC53'],\n",
       " ['MRC54'],\n",
       " ['MRC55'],\n",
       " ['MRC61'],\n",
       " ['MRC62'],\n",
       " ['MRC63'],\n",
       " ['MRF11'],\n",
       " ['MRF12'],\n",
       " ['MRF13'],\n",
       " ['MRF14'],\n",
       " ['MRF21'],\n",
       " ['MRF22'],\n",
       " ['MRF23'],\n",
       " ['MRF24'],\n",
       " ['MRF25'],\n",
       " ['MRF31'],\n",
       " ['MRF32'],\n",
       " ['MRF33'],\n",
       " ['MRF34'],\n",
       " ['MRF35'],\n",
       " ['MRF41'],\n",
       " ['MRF42'],\n",
       " ['MRF43'],\n",
       " ['MRF44'],\n",
       " ['MRF45'],\n",
       " ['MRF46'],\n",
       " ['MRF51'],\n",
       " ['MRF52'],\n",
       " ['MRF53'],\n",
       " ['MRF54'],\n",
       " ['MRF55'],\n",
       " ['MRF56'],\n",
       " ['MRF61'],\n",
       " ['MRF62'],\n",
       " ['MRF63'],\n",
       " ['MRF64'],\n",
       " ['MRF65'],\n",
       " ['MRF67'],\n",
       " ['MRO11'],\n",
       " ['MRO12'],\n",
       " ['MRO13'],\n",
       " ['MRO14'],\n",
       " ['MRO21'],\n",
       " ['MRO22'],\n",
       " ['MRO23'],\n",
       " ['MRO24'],\n",
       " ['MRO31'],\n",
       " ['MRO32'],\n",
       " ['MRO33'],\n",
       " ['MRO34'],\n",
       " ['MRO41'],\n",
       " ['MRO42'],\n",
       " ['MRO43'],\n",
       " ['MRO44'],\n",
       " ['MRO51'],\n",
       " ['MRO52'],\n",
       " ['MRO53'],\n",
       " ['MRP11'],\n",
       " ['MRP12'],\n",
       " ['MRP21'],\n",
       " ['MRP22'],\n",
       " ['MRP23'],\n",
       " ['MRP31'],\n",
       " ['MRP32'],\n",
       " ['MRP33'],\n",
       " ['MRP34'],\n",
       " ['MRP35'],\n",
       " ['MRP41'],\n",
       " ['MRP42'],\n",
       " ['MRP43'],\n",
       " ['MRP44'],\n",
       " ['MRP45'],\n",
       " ['MRP51'],\n",
       " ['MRP52'],\n",
       " ['MRP53'],\n",
       " ['MRP54'],\n",
       " ['MRP55'],\n",
       " ['MRP56'],\n",
       " ['MRP57'],\n",
       " ['MRT11'],\n",
       " ['MRT12'],\n",
       " ['MRT13'],\n",
       " ['MRT14'],\n",
       " ['MRT15'],\n",
       " ['MRT16'],\n",
       " ['MRT21'],\n",
       " ['MRT22'],\n",
       " ['MRT23'],\n",
       " ['MRT24'],\n",
       " ['MRT25'],\n",
       " ['MRT26'],\n",
       " ['MRT27'],\n",
       " ['MRT31'],\n",
       " ['MRT32'],\n",
       " ['MRT33'],\n",
       " ['MRT34'],\n",
       " ['MRT35'],\n",
       " ['MRT36'],\n",
       " ['MRT37'],\n",
       " ['MRT41'],\n",
       " ['MRT42'],\n",
       " ['MRT43'],\n",
       " ['MRT44'],\n",
       " ['MRT45'],\n",
       " ['MRT46'],\n",
       " ['MRT47'],\n",
       " ['MRT51'],\n",
       " ['MRT52'],\n",
       " ['MRT53'],\n",
       " ['MRT54'],\n",
       " ['MRT55'],\n",
       " ['MRT56'],\n",
       " ['MRT57'],\n",
       " ['MZC01'],\n",
       " ['MZC02'],\n",
       " ['MZC03'],\n",
       " ['MZC04'],\n",
       " ['MZF01'],\n",
       " ['MZF02'],\n",
       " ['MZF03'],\n",
       " ['MZO01'],\n",
       " ['MZO02'],\n",
       " ['MZO03'],\n",
       " ['MZP01']]"
      ]
     },
     "execution_count": 166,
     "metadata": {},
     "output_type": "execute_result"
    }
   ],
   "source": [
    "label"
   ]
  },
  {
   "cell_type": "code",
   "execution_count": 179,
   "id": "6852c246-2e71-4696-afda-f8a2a6080d6f",
   "metadata": {},
   "outputs": [
    {
     "data": {
      "text/plain": [
       "0      False\n",
       "1      False\n",
       "2      False\n",
       "3      False\n",
       "4      False\n",
       "       ...  \n",
       "268    False\n",
       "269    False\n",
       "270    False\n",
       "271    False\n",
       "272    False\n",
       "Length: 273, dtype: bool"
      ]
     },
     "execution_count": 179,
     "metadata": {},
     "output_type": "execute_result"
    }
   ],
   "source": []
  },
  {
   "cell_type": "code",
   "execution_count": 181,
   "id": "3d9de663-38f9-4449-8dea-26a6ea21793e",
   "metadata": {},
   "outputs": [
    {
     "data": {
      "text/plain": [
       "56     MLO11\n",
       "57     MLO12\n",
       "58     MLO13\n",
       "59     MLO14\n",
       "60     MLO21\n",
       "61     MLO22\n",
       "62     MLO23\n",
       "63     MLO24\n",
       "64     MLO31\n",
       "65     MLO32\n",
       "66     MLO33\n",
       "67     MLO34\n",
       "68     MLO41\n",
       "69     MLO42\n",
       "70     MLO43\n",
       "71     MLO44\n",
       "72     MLO51\n",
       "73     MLO52\n",
       "74     MLO53\n",
       "187    MRO11\n",
       "188    MRO12\n",
       "189    MRO13\n",
       "190    MRO14\n",
       "191    MRO21\n",
       "192    MRO22\n",
       "193    MRO23\n",
       "194    MRO24\n",
       "195    MRO31\n",
       "196    MRO32\n",
       "197    MRO33\n",
       "198    MRO34\n",
       "199    MRO41\n",
       "200    MRO42\n",
       "201    MRO43\n",
       "202    MRO44\n",
       "203    MRO51\n",
       "204    MRO52\n",
       "205    MRO53\n",
       "dtype: object"
      ]
     },
     "execution_count": 181,
     "metadata": {},
     "output_type": "execute_result"
    }
   ],
   "source": [
    "labels_pd[(labels_pd.str.match(r'(MRO)')==True) | (labels_pd.str.match(r'(MLO)')==True)]"
   ]
  },
  {
   "cell_type": "code",
   "execution_count": 100,
   "id": "0aab0df3-8b83-477d-be22-3cbc7d8d4492",
   "metadata": {},
   "outputs": [],
   "source": [
    "import re\n",
    "\n",
    "r = re.compile('O')\n",
    "labelvmatch = np.vectorize(lambda x:bool(r.match()))"
   ]
  },
  {
   "cell_type": "code",
   "execution_count": 101,
   "id": "231b8a8d-e2d4-440d-aac3-233e78e7f4ad",
   "metadata": {},
   "outputs": [
    {
     "data": {
      "text/plain": [
       "<numpy.vectorize at 0x7fc314ab1d90>"
      ]
     },
     "execution_count": 101,
     "metadata": {},
     "output_type": "execute_result"
    }
   ],
   "source": [
    "labelvmatch"
   ]
  },
  {
   "cell_type": "code",
   "execution_count": 183,
   "id": "923ba014-3bdc-48c4-8d5a-2cd131a7e9ed",
   "metadata": {
    "collapsed": true,
    "jupyter": {
     "outputs_hidden": true
    },
    "tags": []
   },
   "outputs": [
    {
     "data": {
      "text/plain": [
       "array([[[ 8.79038581e-15,  3.04059175e-14, -1.11418536e-13, ...,\n",
       "         -2.70416861e-14, -1.24388368e-13,  9.48552204e-15],\n",
       "        [ 2.68911282e-14,  7.00509928e-14, -1.48600663e-13, ...,\n",
       "         -9.18176507e-14, -1.43679205e-13,  5.78397603e-14],\n",
       "        [ 1.32177914e-14,  5.27920968e-14, -7.34255485e-14, ...,\n",
       "         -7.59823219e-14, -6.61903042e-14,  5.77960031e-14],\n",
       "        ...,\n",
       "        [ 1.92563469e-13,  5.47389735e-14, -7.71682977e-14, ...,\n",
       "         -2.76181360e-14,  2.06114630e-13,  7.93885139e-14],\n",
       "        [ 1.51707295e-13,  6.99719448e-14, -9.74669054e-14, ...,\n",
       "         -6.42652975e-14,  1.94252738e-13,  1.12239755e-13],\n",
       "        [ 5.47457269e-14,  2.24544849e-14, -5.71809359e-14, ...,\n",
       "         -2.03190559e-14,  9.32503597e-14,  4.63354586e-14]],\n",
       "\n",
       "       [[-9.54121985e-14, -4.54029039e-15, -2.10118942e-13, ...,\n",
       "          3.26756210e-15, -3.80911755e-14, -1.25429944e-13],\n",
       "        [-6.81791149e-14,  3.56049460e-14, -2.91286889e-13, ...,\n",
       "         -4.76237408e-14, -3.60418067e-14, -1.08137775e-13],\n",
       "        [-1.17020303e-14,  3.79150277e-14, -1.99003375e-13, ...,\n",
       "         -3.45081845e-14, -2.43481244e-14, -2.72371222e-14],\n",
       "        ...,\n",
       "        [ 2.51723030e-13,  1.37689270e-14, -2.13303314e-13, ...,\n",
       "         -3.55268569e-14,  2.32382421e-13,  3.25566237e-14],\n",
       "        [ 2.53123796e-13,  9.99757606e-15, -2.49470963e-13, ...,\n",
       "         -1.10083074e-14,  2.62819580e-13,  5.80991238e-14],\n",
       "        [ 1.05408577e-13, -2.31021765e-14, -1.60626610e-13, ...,\n",
       "          3.35832629e-14,  1.40326905e-13,  6.76313307e-15]],\n",
       "\n",
       "       [[-1.17349602e-13, -1.85370925e-14, -2.10013688e-13, ...,\n",
       "         -3.47808096e-14, -3.93510751e-14, -8.50396239e-14],\n",
       "        [-1.18777282e-13,  2.41921218e-14, -2.54527712e-13, ...,\n",
       "         -1.01171027e-13, -2.80690369e-14, -7.77757708e-14],\n",
       "        [-5.59702921e-14,  1.11909224e-14, -2.00615161e-13, ...,\n",
       "         -9.08650023e-14,  2.98877074e-14, -2.64569362e-14],\n",
       "        ...,\n",
       "        [ 2.57590168e-13, -9.81683304e-14, -3.82028249e-13, ...,\n",
       "         -2.65372078e-14,  1.83903971e-13,  3.13894543e-14],\n",
       "        [ 2.88385414e-13, -1.30952297e-13, -4.19672928e-13, ...,\n",
       "          1.02317738e-15,  2.17611109e-13,  3.58668629e-14],\n",
       "        [ 1.42676154e-13, -1.21122607e-13, -2.90281851e-13, ...,\n",
       "          3.01012837e-14,  1.31621252e-13,  4.22703160e-15]],\n",
       "\n",
       "       ...,\n",
       "\n",
       "       [[ 2.78957557e-14,  2.26676882e-14,  2.55551372e-14, ...,\n",
       "         -6.23044556e-14, -9.22627293e-14,  3.03798356e-14],\n",
       "        [ 8.87259391e-14,  1.82818413e-14,  2.18016090e-14, ...,\n",
       "         -1.04926506e-13, -7.12201098e-14,  3.73090596e-14],\n",
       "        [ 7.96865484e-14, -8.63086738e-15, -1.50504947e-16, ...,\n",
       "         -6.77390866e-14,  4.98503301e-14,  4.00885329e-14],\n",
       "        ...,\n",
       "        [-6.11891740e-14,  2.46661206e-14, -5.51634206e-14, ...,\n",
       "         -1.01023899e-13, -6.39870244e-14,  1.11232939e-13],\n",
       "        [-8.23301929e-14,  1.55541561e-14, -4.68132343e-14, ...,\n",
       "         -1.29936887e-13, -1.13517559e-13,  1.27565355e-13],\n",
       "        [-6.93711577e-14,  1.77981412e-16, -2.01057110e-14, ...,\n",
       "         -7.28450981e-14, -6.85832085e-14,  8.89208995e-14]],\n",
       "\n",
       "       [[ 9.41072335e-14,  7.83747353e-14,  4.69074661e-14, ...,\n",
       "         -9.71361778e-14, -8.39677597e-14,  4.45570943e-14],\n",
       "        [ 1.32556144e-13,  8.36105084e-14,  2.18793149e-14, ...,\n",
       "         -1.41719428e-13, -9.98731708e-14,  4.31408744e-14],\n",
       "        [ 8.53956825e-14,  1.16703478e-14, -3.27305429e-14, ...,\n",
       "         -7.37698997e-14, -1.45049072e-14,  4.78969864e-14],\n",
       "        ...,\n",
       "        [-1.79761288e-14,  5.28401859e-14, -5.85874610e-14, ...,\n",
       "         -3.00044491e-14, -1.14314237e-13,  9.61800861e-14],\n",
       "        [-6.31293426e-14,  6.35017025e-14, -5.36238889e-14, ...,\n",
       "         -2.80321101e-14, -1.72402424e-13,  1.09138043e-13],\n",
       "        [-4.22016285e-14,  3.22096303e-14, -2.18286124e-14, ...,\n",
       "         -5.30575974e-15, -1.00541789e-13,  9.00833983e-14]],\n",
       "\n",
       "       [[ 4.49823034e-14,  8.33512271e-14,  9.72889228e-14, ...,\n",
       "         -6.19754299e-16, -4.12101805e-14,  9.58272159e-14],\n",
       "        [ 8.21385998e-14,  8.40856203e-14,  9.56984113e-14, ...,\n",
       "         -4.30497519e-14, -8.01023831e-16,  1.03941015e-13],\n",
       "        [ 8.39284564e-14, -4.16779725e-15, -1.00417493e-15, ...,\n",
       "         -5.85193945e-14,  8.64180959e-14,  4.80995367e-14],\n",
       "        ...,\n",
       "        [ 5.88425569e-14,  8.05452715e-14, -4.85545906e-14, ...,\n",
       "          9.24494948e-15, -1.44117623e-13,  4.17425255e-14],\n",
       "        [ 8.29135270e-14,  8.19692010e-14, -4.24814898e-14, ...,\n",
       "          2.26565353e-14, -1.71049805e-13,  4.09475301e-14],\n",
       "        [ 6.21297676e-14,  3.71304756e-14, -2.07444544e-14, ...,\n",
       "          2.64092295e-14, -9.49240149e-14,  3.84424682e-14]]])"
      ]
     },
     "execution_count": 183,
     "metadata": {},
     "output_type": "execute_result"
    }
   ],
   "source": []
  },
  {
   "cell_type": "code",
   "execution_count": 184,
   "id": "f886248f-b58e-4e1d-a838-9e1b254b23a9",
   "metadata": {},
   "outputs": [],
   "source": [
    "Y = ori_data['Y']\n",
    "Y = Y[(labels_pd.str.match(r'(MRO)')==True) | (labels_pd.str.match(r'(MLO)')==True),:,:]\n",
    "X = ori_data['X']\n",
    "time = ori_data['time']\n",
    "label = ori_data['label']"
   ]
  },
  {
   "cell_type": "code",
   "execution_count": 185,
   "id": "f2be42e6-a0c7-466d-86a8-f538093b3b05",
   "metadata": {},
   "outputs": [],
   "source": [
    "phi = X * (180/8);   # Presented orientation in degrees\n",
    "binned_phi = np.digitize(phi, bins = np.array([  0, 22.5, 45, 67.5, 90, 112.5, 135, 157.5 ]) ) # bins collapsing degrees by similarity\n",
    "\n",
    "numF = Y.shape[0];\n",
    "numT = Y.shape[1];\n",
    "numN = Y.shape[2];\n",
    "numC = 8 # how many channels to use"
   ]
  },
  {
   "cell_type": "code",
   "execution_count": 186,
   "id": "e3e6be2f-9869-45aa-9965-ccd19ae59adb",
   "metadata": {},
   "outputs": [],
   "source": [
    "# No time dimension (We only select one point as example)\n",
    "sel_t = np.where(time >=.2)[0][0];"
   ]
  },
  {
   "cell_type": "markdown",
   "id": "ccb341fd-ed62-437a-9f31-94a9498dc65f",
   "metadata": {},
   "source": [
    "Creating and saving dat"
   ]
  },
  {
   "cell_type": "code",
   "execution_count": 187,
   "id": "6bf570ad-28d0-4e77-a81b-aa761ac16b00",
   "metadata": {},
   "outputs": [],
   "source": [
    "G = binned_phi.copy() # binning/discritizing orientation dimension to assign a balanced number of stimuli to different dat\n",
    "CONDS = np.unique(G);\n",
    "nConds = CONDS.size\n",
    "nfold = 2\n",
    "FoldsIdx = dt.CreateFolds(G, Y, nfold)"
   ]
  },
  {
   "cell_type": "code",
   "execution_count": 188,
   "id": "1b8b8db6-be2e-4510-a5ed-d114627cfa1d",
   "metadata": {},
   "outputs": [],
   "source": [
    "dat = dict()\n",
    "dat['X_train'] = G[ FoldsIdx[0]['train_index']]\n",
    "dat['Y_train'] = np.squeeze(Y[:,sel_t, FoldsIdx[0]['train_index']])\n",
    "dat['phi_train'] = phi[ FoldsIdx[0]['train_index']]\n",
    "\n",
    "dat['X_test'] = G[ FoldsIdx[0]['test_index']]\n",
    "dat['Y_test'] = np.squeeze(Y[:,sel_t, FoldsIdx[0]['test_index']])\n",
    "dat['phi_test'] = phi[ FoldsIdx[0]['test_index']]"
   ]
  },
  {
   "cell_type": "code",
   "execution_count": 189,
   "id": "9dd8b1b1-2a86-4ccd-8215-8bd6493aa4bd",
   "metadata": {},
   "outputs": [],
   "source": [
    "DSM = np.zeros([numC, numC])\n",
    "\n",
    "for ic0 in range(numC):\n",
    "    Tr = dat['Y_train'][:,dat['X_train'] == ic0+1]\n",
    "    Tr_mean = np.mean(Tr, axis = 1)\n",
    "    for ic1 in range(numC):\n",
    "        Ts = dat['Y_test'][:,dat['X_test'] == ic1+1]\n",
    "        Ts_mean = np.mean(Ts, axis = 1)\n",
    "        r = np.corrcoef( Tr_mean, Ts_mean)\n",
    "        DSM[ic0, ic1] = r[1,0]\n",
    "      "
   ]
  },
  {
   "cell_type": "code",
   "execution_count": 190,
   "id": "200adeb7-8635-4248-8596-56f108500224",
   "metadata": {},
   "outputs": [
    {
     "data": {
      "text/plain": [
       "<matplotlib.colorbar.Colorbar at 0x7fc3142fb6d0>"
      ]
     },
     "execution_count": 190,
     "metadata": {},
     "output_type": "execute_result"
    }
   ],
   "source": [
    "fig, ax = plt.subplots(1,1,figsize=(3,3))\n",
    "meanMAT = np.mean([np.tril(DSM), np.triu(DSM).T],axis = 0)\n",
    "plt.imshow(meanMAT, vmin = 0, vmax = 1)\n",
    "plt.colorbar()"
   ]
  },
  {
   "cell_type": "code",
   "execution_count": 92,
   "id": "9f3f74e7-9b41-4a8b-a009-1ae74cc6bc11",
   "metadata": {},
   "outputs": [],
   "source": [
    "a = np.concatenate([np.tril(DSM), np.triu(DSM).T], axis = 1)"
   ]
  },
  {
   "cell_type": "code",
   "execution_count": 88,
   "id": "7fc708c3-25d8-47f7-a4f3-cd92c2fd25e2",
   "metadata": {},
   "outputs": [
    {
     "data": {
      "text/plain": [
       "<matplotlib.colorbar.Colorbar at 0x7fc3139b8490>"
      ]
     },
     "execution_count": 88,
     "metadata": {},
     "output_type": "execute_result"
    }
   ],
   "source": [
    "fig, ax = plt.subplots(1,1,figsize=(3,3))\n",
    "plt.imshow(np.tril(DSM), vmin = 0, vmax = 1)\n"
   ]
  },
  {
   "cell_type": "code",
   "execution_count": 87,
   "id": "13abe7f4-1bfb-45f2-80bd-a3347c1e1e9e",
   "metadata": {},
   "outputs": [
    {
     "data": {
      "text/plain": [
       "<matplotlib.colorbar.Colorbar at 0x7fc31399f950>"
      ]
     },
     "execution_count": 87,
     "metadata": {},
     "output_type": "execute_result"
    }
   ],
   "source": [
    "fig, ax = plt.subplots(1,1,figsize=(3,3))\n",
    "plt.imshow(np.triu(DSM).T, vmin = 0, vmax = 1)\n",
    "plt.colorbar()"
   ]
  },
  {
   "cell_type": "code",
   "execution_count": 86,
   "id": "7f9012ed-3e99-4e14-970f-18422dc630ee",
   "metadata": {},
   "outputs": [
    {
     "data": {
      "text/plain": [
       "<matplotlib.colorbar.Colorbar at 0x7fc2f0ab5f50>"
      ]
     },
     "execution_count": 86,
     "metadata": {},
     "output_type": "execute_result"
    }
   ],
   "source": [
    "fig, ax = plt.subplots(1,1,figsize=(3,3))\n",
    "plt.imshow(DSM, vmin = 0, vmax = 1)\n",
    "plt.colorbar()"
   ]
  },
  {
   "cell_type": "code",
   "execution_count": 65,
   "id": "52c22d3a-1f70-423d-b6c1-bf0bbed2297f",
   "metadata": {},
   "outputs": [
    {
     "data": {
      "text/plain": [
       "<matplotlib.image.AxesImage at 0x7fc2e02050d0>"
      ]
     },
     "execution_count": 65,
     "metadata": {},
     "output_type": "execute_result"
    }
   ],
   "source": [
    "fig, ax = plt.subplots(1,1,figsize=(3,3))\n",
    "plt.imshow(np.mean([np.rot90(np.tril(DSM)),np.triu(DSM)],axis = 2))"
   ]
  },
  {
   "cell_type": "code",
   "execution_count": 54,
   "id": "882ae834-3e1d-4381-96e3-b8fd07ee6822",
   "metadata": {},
   "outputs": [
    {
     "data": {
      "text/plain": [
       "<matplotlib.colorbar.Colorbar at 0x7fc2c01968d0>"
      ]
     },
     "execution_count": 54,
     "metadata": {},
     "output_type": "execute_result"
    }
   ],
   "source": [
    "fig, ax = plt.subplots(1,1,figsize=(3,3))\n",
    "im = plt.imshow(1-DSM)\n",
    "plt.colorbar(im)"
   ]
  }
 ],
 "metadata": {
  "kernelspec": {
   "display_name": "Python 3 (ipykernel)",
   "language": "python",
   "name": "python3"
  },
  "language_info": {
   "codemirror_mode": {
    "name": "ipython",
    "version": 3
   },
   "file_extension": ".py",
   "mimetype": "text/x-python",
   "name": "python",
   "nbconvert_exporter": "python",
   "pygments_lexer": "ipython3",
   "version": "3.7.13"
  }
 },
 "nbformat": 4,
 "nbformat_minor": 5
}
