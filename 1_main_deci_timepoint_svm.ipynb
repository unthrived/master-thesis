{
 "cells": [
  {
   "attachments": {},
   "cell_type": "markdown",
   "metadata": {},
   "source": [
    "# Working experiment"
   ]
  },
  {
   "cell_type": "code",
   "execution_count": 1,
   "metadata": {},
   "outputs": [],
   "source": [
    "import os, glob, platform\n",
    "import numpy as np\n",
    "import numpy.matlib\n",
    "import pickle\n",
    "import pandas as pd\n",
    "import pathlib\n",
    "import matplotlib\n",
    "import matplotlib.pyplot as plt\n",
    "import mne\n",
    "mne.__version__\n",
    "from mne.viz import plot_alignment, snapshot_brain_montage\n",
    "import shutil\n",
    "from mne.datasets import eegbci\n",
    "from sklearn.model_selection import train_test_split\n",
    "\n",
    "# from mne_bids import write_raw_bids, BIDSPath, print_dir_tree, make_dataset_description\n",
    "# from mne_bids.stats import count_events\n",
    "import sys"
   ]
  },
  {
   "cell_type": "code",
   "execution_count": 2,
   "metadata": {},
   "outputs": [],
   "source": [
    "''' VARIABLES '''\n",
    "\n",
    "dataset = 'eeg'\n",
    "\n",
    "amount_of_subjects = 27 # Change the range so the process is faster\n",
    "\n",
    "numC = 8\n",
    "\n",
    "angles = [i * 180./numC for i in range(numC)]\n",
    "\n",
    "x_labels = np.array(angles)\n",
    "\n",
    "resample = True # speeds up the procees but showing slighly worse results\n",
    "resample_frequency = 50 # in Hz, original freq is 500Hz"
   ]
  },
  {
   "cell_type": "code",
   "execution_count": 3,
   "metadata": {},
   "outputs": [
    {
     "name": "stdout",
     "output_type": "stream",
     "text": [
      "Frequency before: 500.0\n",
      "Frequency after: 50.0\n",
      "Frequency before: 500.0\n",
      "Frequency after: 50.0\n",
      "Frequency before: 500.0\n",
      "Frequency after: 50.0\n",
      "Frequency before: 500.0\n",
      "Frequency after: 50.0\n",
      "Frequency before: 500.0\n",
      "Frequency after: 50.0\n",
      "Frequency before: 500.0\n",
      "Frequency after: 50.0\n",
      "Frequency before: 500.0\n",
      "Frequency after: 50.0\n",
      "Frequency before: 500.0\n",
      "Frequency after: 50.0\n",
      "Frequency before: 500.0\n",
      "Frequency after: 50.0\n",
      "Frequency before: 500.0\n",
      "Frequency after: 50.0\n",
      "Frequency before: 500.0\n",
      "Frequency after: 50.0\n",
      "Frequency before: 500.0\n",
      "Frequency after: 50.0\n",
      "Frequency before: 500.0\n",
      "Frequency after: 50.0\n",
      "Frequency before: 500.0\n",
      "Frequency after: 50.0\n",
      "Frequency before: 500.0\n",
      "Frequency after: 50.0\n",
      "Frequency before: 500.0\n",
      "Frequency after: 50.0\n",
      "Frequency before: 500.0\n",
      "Frequency after: 50.0\n",
      "Frequency before: 500.0\n",
      "Frequency after: 50.0\n",
      "Frequency before: 500.0\n",
      "Frequency after: 50.0\n",
      "Frequency before: 500.0\n",
      "Frequency after: 50.0\n",
      "Frequency before: 500.0\n",
      "Frequency after: 50.0\n",
      "Frequency before: 500.0\n",
      "Frequency after: 50.0\n",
      "Frequency before: 500.0\n",
      "Frequency after: 50.0\n",
      "Frequency before: 500.0\n",
      "Frequency after: 50.0\n",
      "Frequency before: 500.0\n",
      "Frequency after: 50.0\n",
      "Frequency before: 500.0\n",
      "Frequency after: 50.0\n"
     ]
    }
   ],
   "source": [
    "from toolbox.methods import read_data\n",
    "all_epochs, all_rawdata = read_data (task = 'main', resample=resample, amount_of_subjects=amount_of_subjects, resample_frequency=resample_frequency)"
   ]
  },
  {
   "attachments": {},
   "cell_type": "markdown",
   "metadata": {},
   "source": [
    "# Mean acc for all subjects"
   ]
  },
  {
   "cell_type": "code",
   "execution_count": 4,
   "metadata": {},
   "outputs": [],
   "source": [
    "# '''30s per subject, 13min for 26 subjects '''\n",
    "# \n",
    "# import random\n",
    "# from toolbox.methods import train_timepoints\n",
    "# \n",
    "# subject_acc = [None]*amount_of_subjects\n",
    "# timepoint_accuracy = [None]*amount_of_subjects\n",
    "# \n",
    "# bool_shuffled = False\n",
    "# \n",
    "# for subj in range(amount_of_subjects-1):\n",
    "#     \n",
    "#     print('Working on subj: ', subj)\n",
    "#     X = all_rawdata[subj]['epoch_dat']\n",
    "#     y = np.where(all_rawdata[subj]['metadata']['r_map'] == 45, 1, 0)\n",
    "#     y2 = all_rawdata[subj]['metadata']['deci']\n",
    "#     y3 = [a ^ b for a, b in zip(y, y2)]\n",
    "#     if bool_shuffled: random.shuffle(y3)\n",
    "#     numT = X.shape[2]\n",
    "#     timepoint_accuracy[subj] = [None]*numT\n",
    "#     for timepoint in range(numT):\n",
    "#         # print(timepoint)\n",
    "#         X_training = X[:,:,timepoint]\n",
    "#         timepoint_accuracy[subj][timepoint] = train_timepoints(X_training, y3, verbose=False, acc_only=True)\n",
    "# \n",
    "# numpy_timepoint_accuracy = np.array(timepoint_accuracy)"
   ]
  },
  {
   "cell_type": "code",
   "execution_count": 5,
   "metadata": {},
   "outputs": [
    {
     "name": "stdout",
     "output_type": "stream",
     "text": [
      "Experiment:  10\n"
     ]
    },
    {
     "name": "stderr",
     "output_type": "stream",
     "text": [
      "/var/folders/x2/l6kq7w2s48bbjcgczm1ll_fm0000gn/T/ipykernel_72159/2384134196.py:32: VisibleDeprecationWarning: Creating an ndarray from ragged nested sequences (which is a list-or-tuple of lists-or-tuples-or ndarrays with different lengths or shapes) is deprecated. If you meant to do this, you must specify 'dtype=object' when creating the ndarray.\n",
      "  numpy_timepoint_accuracy = np.array(timepoint_accuracy)\n"
     ]
    },
    {
     "name": "stdout",
     "output_type": "stream",
     "text": [
      "Experiment:  11\n"
     ]
    },
    {
     "name": "stderr",
     "output_type": "stream",
     "text": [
      "/var/folders/x2/l6kq7w2s48bbjcgczm1ll_fm0000gn/T/ipykernel_72159/2384134196.py:32: VisibleDeprecationWarning: Creating an ndarray from ragged nested sequences (which is a list-or-tuple of lists-or-tuples-or ndarrays with different lengths or shapes) is deprecated. If you meant to do this, you must specify 'dtype=object' when creating the ndarray.\n",
      "  numpy_timepoint_accuracy = np.array(timepoint_accuracy)\n"
     ]
    },
    {
     "name": "stdout",
     "output_type": "stream",
     "text": [
      "Experiment:  12\n"
     ]
    },
    {
     "name": "stderr",
     "output_type": "stream",
     "text": [
      "/var/folders/x2/l6kq7w2s48bbjcgczm1ll_fm0000gn/T/ipykernel_72159/2384134196.py:32: VisibleDeprecationWarning: Creating an ndarray from ragged nested sequences (which is a list-or-tuple of lists-or-tuples-or ndarrays with different lengths or shapes) is deprecated. If you meant to do this, you must specify 'dtype=object' when creating the ndarray.\n",
      "  numpy_timepoint_accuracy = np.array(timepoint_accuracy)\n"
     ]
    },
    {
     "name": "stdout",
     "output_type": "stream",
     "text": [
      "Experiment:  13\n"
     ]
    },
    {
     "name": "stderr",
     "output_type": "stream",
     "text": [
      "/var/folders/x2/l6kq7w2s48bbjcgczm1ll_fm0000gn/T/ipykernel_72159/2384134196.py:32: VisibleDeprecationWarning: Creating an ndarray from ragged nested sequences (which is a list-or-tuple of lists-or-tuples-or ndarrays with different lengths or shapes) is deprecated. If you meant to do this, you must specify 'dtype=object' when creating the ndarray.\n",
      "  numpy_timepoint_accuracy = np.array(timepoint_accuracy)\n"
     ]
    },
    {
     "name": "stdout",
     "output_type": "stream",
     "text": [
      "Experiment:  14\n"
     ]
    },
    {
     "name": "stderr",
     "output_type": "stream",
     "text": [
      "/var/folders/x2/l6kq7w2s48bbjcgczm1ll_fm0000gn/T/ipykernel_72159/2384134196.py:32: VisibleDeprecationWarning: Creating an ndarray from ragged nested sequences (which is a list-or-tuple of lists-or-tuples-or ndarrays with different lengths or shapes) is deprecated. If you meant to do this, you must specify 'dtype=object' when creating the ndarray.\n",
      "  numpy_timepoint_accuracy = np.array(timepoint_accuracy)\n"
     ]
    },
    {
     "name": "stdout",
     "output_type": "stream",
     "text": [
      "Experiment:  15\n"
     ]
    },
    {
     "name": "stderr",
     "output_type": "stream",
     "text": [
      "/var/folders/x2/l6kq7w2s48bbjcgczm1ll_fm0000gn/T/ipykernel_72159/2384134196.py:32: VisibleDeprecationWarning: Creating an ndarray from ragged nested sequences (which is a list-or-tuple of lists-or-tuples-or ndarrays with different lengths or shapes) is deprecated. If you meant to do this, you must specify 'dtype=object' when creating the ndarray.\n",
      "  numpy_timepoint_accuracy = np.array(timepoint_accuracy)\n"
     ]
    },
    {
     "name": "stdout",
     "output_type": "stream",
     "text": [
      "Experiment:  16\n"
     ]
    },
    {
     "name": "stderr",
     "output_type": "stream",
     "text": [
      "/var/folders/x2/l6kq7w2s48bbjcgczm1ll_fm0000gn/T/ipykernel_72159/2384134196.py:32: VisibleDeprecationWarning: Creating an ndarray from ragged nested sequences (which is a list-or-tuple of lists-or-tuples-or ndarrays with different lengths or shapes) is deprecated. If you meant to do this, you must specify 'dtype=object' when creating the ndarray.\n",
      "  numpy_timepoint_accuracy = np.array(timepoint_accuracy)\n"
     ]
    },
    {
     "name": "stdout",
     "output_type": "stream",
     "text": [
      "Experiment:  17\n"
     ]
    },
    {
     "name": "stderr",
     "output_type": "stream",
     "text": [
      "/var/folders/x2/l6kq7w2s48bbjcgczm1ll_fm0000gn/T/ipykernel_72159/2384134196.py:32: VisibleDeprecationWarning: Creating an ndarray from ragged nested sequences (which is a list-or-tuple of lists-or-tuples-or ndarrays with different lengths or shapes) is deprecated. If you meant to do this, you must specify 'dtype=object' when creating the ndarray.\n",
      "  numpy_timepoint_accuracy = np.array(timepoint_accuracy)\n"
     ]
    },
    {
     "name": "stdout",
     "output_type": "stream",
     "text": [
      "Experiment:  18\n"
     ]
    },
    {
     "name": "stderr",
     "output_type": "stream",
     "text": [
      "/var/folders/x2/l6kq7w2s48bbjcgczm1ll_fm0000gn/T/ipykernel_72159/2384134196.py:32: VisibleDeprecationWarning: Creating an ndarray from ragged nested sequences (which is a list-or-tuple of lists-or-tuples-or ndarrays with different lengths or shapes) is deprecated. If you meant to do this, you must specify 'dtype=object' when creating the ndarray.\n",
      "  numpy_timepoint_accuracy = np.array(timepoint_accuracy)\n"
     ]
    },
    {
     "name": "stdout",
     "output_type": "stream",
     "text": [
      "Experiment:  19\n"
     ]
    },
    {
     "name": "stderr",
     "output_type": "stream",
     "text": [
      "/var/folders/x2/l6kq7w2s48bbjcgczm1ll_fm0000gn/T/ipykernel_72159/2384134196.py:32: VisibleDeprecationWarning: Creating an ndarray from ragged nested sequences (which is a list-or-tuple of lists-or-tuples-or ndarrays with different lengths or shapes) is deprecated. If you meant to do this, you must specify 'dtype=object' when creating the ndarray.\n",
      "  numpy_timepoint_accuracy = np.array(timepoint_accuracy)\n"
     ]
    }
   ],
   "source": [
    "'''mean 158 min 50 sec execution mac m1'''\n",
    "\n",
    "import random\n",
    "from toolbox.methods import train_timepoints_svc\n",
    "\n",
    "number_of_experiments = 10\n",
    "bool_shuffled = True\n",
    "for experiment in range(10, 10+number_of_experiments):\n",
    "    print('Experiment: ', experiment)\n",
    "    subject_acc = [None]*amount_of_subjects\n",
    "    timepoint_accuracy = [None]*amount_of_subjects\n",
    "    for subj in range(amount_of_subjects-1):\n",
    "        X = all_rawdata[subj]['epoch_dat']\n",
    "        y = all_rawdata[subj]['metadata']['deci']\n",
    "        y = np.array(y)\n",
    "\n",
    "        # remove weights\n",
    "        ymin_index = min(np.unique(y, return_counts=True)[1])\n",
    "        y_index = np.where(y == 0)[0][:ymin_index]\n",
    "        y_index2 = np.where(y == 1)[0][:ymin_index]\n",
    "        y_index = np.concatenate((y_index, y_index2))\n",
    "        X = X[y_index,:,:]\n",
    "        y = y[y_index]\n",
    "\n",
    "        if bool_shuffled: random.shuffle(y)\n",
    "        numT = X.shape[2]\n",
    "        timepoint_accuracy[subj] = [None]*numT\n",
    "        for timepoint in range(numT):\n",
    "            # print(timepoint)\n",
    "            X_training = X[:,:,timepoint]\n",
    "            timepoint_accuracy[subj][timepoint] = train_timepoints_svc(X_training, y, verbose=False, acc_only=True)\n",
    "    numpy_timepoint_accuracy = np.array(timepoint_accuracy)\n",
    "    np.save('results_deci_svc/timepoint_decision_shuffled_'+str(experiment)+'.npy', numpy_timepoint_accuracy)"
   ]
  },
  {
   "cell_type": "code",
   "execution_count": null,
   "metadata": {},
   "outputs": [],
   "source": []
  }
 ],
 "metadata": {
  "kernelspec": {
   "display_name": "mne",
   "language": "python",
   "name": "python3"
  },
  "language_info": {
   "codemirror_mode": {
    "name": "ipython",
    "version": 3
   },
   "file_extension": ".py",
   "mimetype": "text/x-python",
   "name": "python",
   "nbconvert_exporter": "python",
   "pygments_lexer": "ipython3",
   "version": "3.10.11"
  },
  "orig_nbformat": 4
 },
 "nbformat": 4,
 "nbformat_minor": 2
}
