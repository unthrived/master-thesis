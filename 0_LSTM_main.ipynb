{
 "cells": [
  {
   "cell_type": "code",
   "execution_count": 1,
   "metadata": {},
   "outputs": [],
   "source": [
    "# installs after TF setup https://www.tensorflow.org/install/pip \n",
    "\n",
    "# !pip install pandas\n",
    "# !pip install mne\n",
    "# !pip install scikit-learn"
   ]
  },
  {
   "cell_type": "code",
   "execution_count": 2,
   "metadata": {},
   "outputs": [],
   "source": [
    "import os, glob, platform\n",
    "import numpy as np\n",
    "import numpy.matlib\n",
    "import pickle\n",
    "import pandas as pd\n",
    "import pathlib\n",
    "import matplotlib\n",
    "import matplotlib.pyplot as plt\n",
    "import mne\n",
    "mne.__version__\n",
    "from mne.viz import plot_alignment, snapshot_brain_montage\n",
    "import shutil\n",
    "from mne.datasets import eegbci\n",
    "from sklearn.model_selection import train_test_split\n",
    "\n",
    "# from mne_bids import write_raw_bids, BIDSPath, print_dir_tree, make_dataset_description\n",
    "# from mne_bids.stats import count_events\n",
    "import sys\n"
   ]
  },
  {
   "cell_type": "code",
   "execution_count": 3,
   "metadata": {},
   "outputs": [],
   "source": [
    "path_utils = '/decoding_toolbox_py/helper_funcs' \n",
    "sys.path.append(path_utils)"
   ]
  },
  {
   "cell_type": "code",
   "execution_count": 4,
   "metadata": {},
   "outputs": [
    {
     "name": "stdout",
     "output_type": "stream",
     "text": [
      "['s01']\n"
     ]
    }
   ],
   "source": [
    "''' VARIABLES '''\n",
    "\n",
    "dataset = 'eeg'\n",
    "\n",
    "amount_of_subjects = 1 # Change the range so the process is faster\n",
    "if amount_of_subjects > 26: amount_of_subjects = 26\n",
    "subjs_list = ['s{:02d}'.format(i) for i in range(1, amount_of_subjects+1) if i != 6 ] \n",
    "print(subjs_list)\n",
    "nSubj = len(subjs_list)\n",
    "\n",
    "numC = 8\n",
    "\n",
    "angles = [i * 180./numC for i in range(numC)]\n",
    "\n",
    "x_labels = np.array(angles)\n",
    "\n",
    "resample = True # speeds up the procees but showing worse results overall\n",
    "if resample: resample_frequency = 20 # in Hz, original freq is 500Hz\n",
    "\n",
    "cfg_stim = dict()\n",
    "cfg_stim['kappa'] = 4\n",
    "cfg_stim['NumC'] = numC\n",
    "cfg_stim['Tuning'] = 'vonmises'\n",
    "# cfg_stim['Tuning'] = 'halfRectCos'\n",
    "cfg_stim['offset'] = 0\n",
    "\n",
    "cfg_train = dict()\n",
    "cfg_train['gamma'] = 0.1\n",
    "cfg_train['demean'] = True\n",
    "cfg_train['returnPattern'] = True\n",
    "\n",
    "cfg_test = dict()\n",
    "cfg_test['demean'] = 'traindata'"
   ]
  },
  {
   "cell_type": "code",
   "execution_count": 5,
   "metadata": {},
   "outputs": [],
   "source": [
    "'''EEG Dataset'''\n",
    "def read_data(\n",
    "        number_of_repetition=3,\n",
    "        resample=False,\n",
    "        resample_frequency = 20,\n",
    "        subjs_list = subjs_list,\n",
    "        task = 'main'\n",
    "        \n",
    "        ):\n",
    "    path = 'Cond_CJ_EEG'\n",
    "\n",
    "    epochs = []\n",
    "    all_epochs = []\n",
    "    all_rawdata = []\n",
    "    all_st_epochs = []\n",
    "    all_st_rawdata = []\n",
    "    for subject_id in subjs_list:\n",
    "        preproc_path = os.path.join(path, subject_id)\n",
    "\n",
    "        if task == 'main':\n",
    "            epoch = mne.read_epochs(os.path.join(preproc_path, 'main_epo.fif'), verbose=False)\n",
    "            \n",
    "            if resample: \n",
    "                print('Frequency before:', epoch.info['sfreq'])\n",
    "                epoch = epoch.resample(resample_frequency)\n",
    "                print('Frequency after:' ,epoch.info['sfreq'])\n",
    "\n",
    "            epochs.append(epoch.average())\n",
    "            all_epochs.append(epoch)\n",
    "            all_rawdata.append({'epoch_dat': epoch.get_data(), 'metadata': epoch.metadata})\n",
    "            \n",
    "        if task == 'stim':\n",
    "        \n",
    "            st_epoch = mne.read_epochs(os.path.join(preproc_path, 'mainstim_epo.fif'), verbose=False)\n",
    "            # print(st_epoch.info['sfreq'])\n",
    "            if resample: \n",
    "                print('Frequency before:', st_epoch.info['sfreq'])\n",
    "                st_epoch = st_epoch.resample(resample_frequency)\n",
    "                print('Frequency after:' ,st_epoch.info['sfreq'])\n",
    "                \n",
    "            all_st_epochs.append(st_epoch)\n",
    "            all_st_rawdata.append(\n",
    "                {\n",
    "                'epoch_dat': st_epoch.get_data()[st_epoch.metadata['nrep'] == number_of_repetition,:,:] ,\n",
    "                'metadata': st_epoch.metadata[st_epoch.metadata['nrep'] == number_of_repetition]\n",
    "                }\n",
    "                )\n",
    "    if task == 'main':\n",
    "        return all_rawdata\n",
    "    else:\n",
    "        return all_st_rawdata\n"
   ]
  },
  {
   "cell_type": "code",
   "execution_count": 6,
   "metadata": {},
   "outputs": [
    {
     "name": "stdout",
     "output_type": "stream",
     "text": [
      "NOTE: pick_channels() is a legacy function. New code should use inst.pick(...).\n"
     ]
    }
   ],
   "source": [
    "all_rawdata = read_data (task = 'main', resample=False, resample_frequency=20)"
   ]
  },
  {
   "cell_type": "code",
   "execution_count": 7,
   "metadata": {},
   "outputs": [
    {
     "data": {
      "text/plain": [
       "Index(['index', 'subj', 'nblock', 'ntrial', 'nrep', 'trial_type', 'cond-1',\n",
       "       'cond', 'rDV', 'DV', 'resp', 'deci-2', 'deci-1', 'deci', 'corr-1',\n",
       "       'r_map', 'correct', 'confi', 'RT', 'd1', 'conf_lvl', 'correct-1', 'd2',\n",
       "       'd3', 'd4', 'd5', 'd6', 'o1', 'o2', 'o3', 'o4', 'o5', 'o6', 'confi-1',\n",
       "       'conf_lvl-1'],\n",
       "      dtype='object')"
      ]
     },
     "execution_count": 7,
     "metadata": {},
     "output_type": "execute_result"
    }
   ],
   "source": [
    "all_rawdata[0]['metadata'].columns"
   ]
  },
  {
   "cell_type": "code",
   "execution_count": 8,
   "metadata": {},
   "outputs": [
    {
     "name": "stdout",
     "output_type": "stream",
     "text": [
      "[[[0.11679759 0.33998648 0.90650849 0.99838966 0.94697136]\n",
      "  [0.8596475  0.9835257  0.96759688 0.21262496 0.23633638]]\n",
      "\n",
      " [[0.87280443 0.14283345 0.6272415  0.66526213 0.81408578]\n",
      "  [0.87545364 0.98953588 0.09691274 0.66385269 0.10250404]]\n",
      "\n",
      " [[0.66690015 0.74896717 0.90500394 0.22545847 0.97563277]\n",
      "  [0.72590262 0.4881958  0.46313171 0.32136119 0.57699   ]]]\n",
      "(6, 5)\n"
     ]
    },
    {
     "data": {
      "text/plain": [
       "array([[0.11679759, 0.33998648, 0.90650849, 0.99838966, 0.94697136],\n",
       "       [0.8596475 , 0.9835257 , 0.96759688, 0.21262496, 0.23633638],\n",
       "       [0.87280443, 0.14283345, 0.6272415 , 0.66526213, 0.81408578],\n",
       "       [0.87545364, 0.98953588, 0.09691274, 0.66385269, 0.10250404],\n",
       "       [0.66690015, 0.74896717, 0.90500394, 0.22545847, 0.97563277],\n",
       "       [0.72590262, 0.4881958 , 0.46313171, 0.32136119, 0.57699   ]])"
      ]
     },
     "execution_count": 8,
     "metadata": {},
     "output_type": "execute_result"
    }
   ],
   "source": [
    "A = np.random.random((3,2,5))\n",
    "print(A)\n",
    "A = A.reshape((6,5))\n",
    "print(A.shape)\n",
    "A"
   ]
  },
  {
   "cell_type": "code",
   "execution_count": 9,
   "metadata": {},
   "outputs": [
    {
     "data": {
      "text/plain": [
       "array([0.40911344, 0.81880415, 0.38111926, 0.94383717, 0.15539809,\n",
       "       0.40911344, 0.81880415, 0.38111926, 0.94383717, 0.15539809,\n",
       "       0.40911344, 0.81880415, 0.38111926, 0.94383717, 0.15539809])"
      ]
     },
     "execution_count": 9,
     "metadata": {},
     "output_type": "execute_result"
    }
   ],
   "source": [
    "b = np.random.random((5))\n",
    "b = np.tile(b,3)\n",
    "b"
   ]
  },
  {
   "cell_type": "code",
   "execution_count": 10,
   "metadata": {},
   "outputs": [
    {
     "name": "stdout",
     "output_type": "stream",
     "text": [
      "(250, 32, 2876) (250,)\n",
      "(250, 32, 2876) (250,)\n"
     ]
    }
   ],
   "source": [
    "neural_network = True\n",
    "transpose = False\n",
    "if neural_network:\n",
    "    X = all_rawdata[0]['epoch_dat']\n",
    "    y = all_rawdata[0]['metadata']['deci']\n",
    "    for i in range(1, nSubj):\n",
    "        X = np.concatenate((X, all_rawdata[i]['epoch_dat']), axis=0)\n",
    "        y = np.concatenate((y, all_rawdata[i]['metadata']['deci']))\n",
    "    print(X.shape, y.shape)\n",
    "    if transpose: \n",
    "        X = np.einsum('ijk->ikj', X)\n",
    "\n",
    "    print(X.shape, y.shape)\n",
    "    numF, numC, numT = X.shape\n"
   ]
  },
  {
   "cell_type": "code",
   "execution_count": 15,
   "metadata": {},
   "outputs": [
    {
     "name": "stdout",
     "output_type": "stream",
     "text": [
      "Epoch 1/50\n"
     ]
    },
    {
     "name": "stderr",
     "output_type": "stream",
     "text": [
      "2023-06-08 13:26:05.719209: I tensorflow/core/common_runtime/executor.cc:1197] [/device:CPU:0] (DEBUG INFO) Executor start aborting (this does not indicate an error and you can ignore this message): INVALID_ARGUMENT: You must feed a value for placeholder tensor 'gradients/split_2_grad/concat/split_2/split_dim' with dtype int32\n",
      "\t [[{{node gradients/split_2_grad/concat/split_2/split_dim}}]]\n",
      "2023-06-08 13:26:05.720139: I tensorflow/core/common_runtime/executor.cc:1197] [/device:CPU:0] (DEBUG INFO) Executor start aborting (this does not indicate an error and you can ignore this message): INVALID_ARGUMENT: You must feed a value for placeholder tensor 'gradients/split_grad/concat/split/split_dim' with dtype int32\n",
      "\t [[{{node gradients/split_grad/concat/split/split_dim}}]]\n",
      "2023-06-08 13:26:05.720648: I tensorflow/core/common_runtime/executor.cc:1197] [/device:CPU:0] (DEBUG INFO) Executor start aborting (this does not indicate an error and you can ignore this message): INVALID_ARGUMENT: You must feed a value for placeholder tensor 'gradients/split_1_grad/concat/split_1/split_dim' with dtype int32\n",
      "\t [[{{node gradients/split_1_grad/concat/split_1/split_dim}}]]\n",
      "2023-06-08 13:26:05.801521: I tensorflow/core/common_runtime/executor.cc:1197] [/device:CPU:0] (DEBUG INFO) Executor start aborting (this does not indicate an error and you can ignore this message): INVALID_ARGUMENT: You must feed a value for placeholder tensor 'gradients/split_2_grad/concat/split_2/split_dim' with dtype int32\n",
      "\t [[{{node gradients/split_2_grad/concat/split_2/split_dim}}]]\n",
      "2023-06-08 13:26:05.802148: I tensorflow/core/common_runtime/executor.cc:1197] [/device:CPU:0] (DEBUG INFO) Executor start aborting (this does not indicate an error and you can ignore this message): INVALID_ARGUMENT: You must feed a value for placeholder tensor 'gradients/split_grad/concat/split/split_dim' with dtype int32\n",
      "\t [[{{node gradients/split_grad/concat/split/split_dim}}]]\n",
      "2023-06-08 13:26:05.802665: I tensorflow/core/common_runtime/executor.cc:1197] [/device:CPU:0] (DEBUG INFO) Executor start aborting (this does not indicate an error and you can ignore this message): INVALID_ARGUMENT: You must feed a value for placeholder tensor 'gradients/split_1_grad/concat/split_1/split_dim' with dtype int32\n",
      "\t [[{{node gradients/split_1_grad/concat/split_1/split_dim}}]]\n",
      "2023-06-08 13:26:05.940802: I tensorflow/core/common_runtime/executor.cc:1197] [/device:CPU:0] (DEBUG INFO) Executor start aborting (this does not indicate an error and you can ignore this message): INVALID_ARGUMENT: You must feed a value for placeholder tensor 'gradients/split_2_grad/concat/split_2/split_dim' with dtype int32\n",
      "\t [[{{node gradients/split_2_grad/concat/split_2/split_dim}}]]\n",
      "2023-06-08 13:26:05.941844: I tensorflow/core/common_runtime/executor.cc:1197] [/device:CPU:0] (DEBUG INFO) Executor start aborting (this does not indicate an error and you can ignore this message): INVALID_ARGUMENT: You must feed a value for placeholder tensor 'gradients/split_grad/concat/split/split_dim' with dtype int32\n",
      "\t [[{{node gradients/split_grad/concat/split/split_dim}}]]\n",
      "2023-06-08 13:26:05.942500: I tensorflow/core/common_runtime/executor.cc:1197] [/device:CPU:0] (DEBUG INFO) Executor start aborting (this does not indicate an error and you can ignore this message): INVALID_ARGUMENT: You must feed a value for placeholder tensor 'gradients/split_1_grad/concat/split_1/split_dim' with dtype int32\n",
      "\t [[{{node gradients/split_1_grad/concat/split_1/split_dim}}]]\n",
      "2023-06-08 13:26:06.026131: I tensorflow/core/common_runtime/executor.cc:1197] [/device:CPU:0] (DEBUG INFO) Executor start aborting (this does not indicate an error and you can ignore this message): INVALID_ARGUMENT: You must feed a value for placeholder tensor 'gradients/split_2_grad/concat/split_2/split_dim' with dtype int32\n",
      "\t [[{{node gradients/split_2_grad/concat/split_2/split_dim}}]]\n",
      "2023-06-08 13:26:06.026741: I tensorflow/core/common_runtime/executor.cc:1197] [/device:CPU:0] (DEBUG INFO) Executor start aborting (this does not indicate an error and you can ignore this message): INVALID_ARGUMENT: You must feed a value for placeholder tensor 'gradients/split_grad/concat/split/split_dim' with dtype int32\n",
      "\t [[{{node gradients/split_grad/concat/split/split_dim}}]]\n",
      "2023-06-08 13:26:06.027313: I tensorflow/core/common_runtime/executor.cc:1197] [/device:CPU:0] (DEBUG INFO) Executor start aborting (this does not indicate an error and you can ignore this message): INVALID_ARGUMENT: You must feed a value for placeholder tensor 'gradients/split_1_grad/concat/split_1/split_dim' with dtype int32\n",
      "\t [[{{node gradients/split_1_grad/concat/split_1/split_dim}}]]\n",
      "2023-06-08 13:26:06.394544: I tensorflow/core/common_runtime/executor.cc:1197] [/device:CPU:0] (DEBUG INFO) Executor start aborting (this does not indicate an error and you can ignore this message): INVALID_ARGUMENT: You must feed a value for placeholder tensor 'gradients/split_2_grad/concat/split_2/split_dim' with dtype int32\n",
      "\t [[{{node gradients/split_2_grad/concat/split_2/split_dim}}]]\n",
      "2023-06-08 13:26:06.395196: I tensorflow/core/common_runtime/executor.cc:1197] [/device:CPU:0] (DEBUG INFO) Executor start aborting (this does not indicate an error and you can ignore this message): INVALID_ARGUMENT: You must feed a value for placeholder tensor 'gradients/split_grad/concat/split/split_dim' with dtype int32\n",
      "\t [[{{node gradients/split_grad/concat/split/split_dim}}]]\n",
      "2023-06-08 13:26:06.395872: I tensorflow/core/common_runtime/executor.cc:1197] [/device:CPU:0] (DEBUG INFO) Executor start aborting (this does not indicate an error and you can ignore this message): INVALID_ARGUMENT: You must feed a value for placeholder tensor 'gradients/split_1_grad/concat/split_1/split_dim' with dtype int32\n",
      "\t [[{{node gradients/split_1_grad/concat/split_1/split_dim}}]]\n",
      "2023-06-08 13:26:06.476798: I tensorflow/core/common_runtime/executor.cc:1197] [/device:CPU:0] (DEBUG INFO) Executor start aborting (this does not indicate an error and you can ignore this message): INVALID_ARGUMENT: You must feed a value for placeholder tensor 'gradients/split_2_grad/concat/split_2/split_dim' with dtype int32\n",
      "\t [[{{node gradients/split_2_grad/concat/split_2/split_dim}}]]\n",
      "2023-06-08 13:26:06.477431: I tensorflow/core/common_runtime/executor.cc:1197] [/device:CPU:0] (DEBUG INFO) Executor start aborting (this does not indicate an error and you can ignore this message): INVALID_ARGUMENT: You must feed a value for placeholder tensor 'gradients/split_grad/concat/split/split_dim' with dtype int32\n",
      "\t [[{{node gradients/split_grad/concat/split/split_dim}}]]\n",
      "2023-06-08 13:26:06.477982: I tensorflow/core/common_runtime/executor.cc:1197] [/device:CPU:0] (DEBUG INFO) Executor start aborting (this does not indicate an error and you can ignore this message): INVALID_ARGUMENT: You must feed a value for placeholder tensor 'gradients/split_1_grad/concat/split_1/split_dim' with dtype int32\n",
      "\t [[{{node gradients/split_1_grad/concat/split_1/split_dim}}]]\n"
     ]
    },
    {
     "name": "stdout",
     "output_type": "stream",
     "text": [
      "13/13 [==============================] - ETA: 0s - loss: 0.6679 - accuracy: 0.6700"
     ]
    },
    {
     "name": "stderr",
     "output_type": "stream",
     "text": [
      "2023-06-08 13:26:07.818383: I tensorflow/core/common_runtime/executor.cc:1197] [/device:CPU:0] (DEBUG INFO) Executor start aborting (this does not indicate an error and you can ignore this message): INVALID_ARGUMENT: You must feed a value for placeholder tensor 'gradients/split_2_grad/concat/split_2/split_dim' with dtype int32\n",
      "\t [[{{node gradients/split_2_grad/concat/split_2/split_dim}}]]\n",
      "2023-06-08 13:26:07.819022: I tensorflow/core/common_runtime/executor.cc:1197] [/device:CPU:0] (DEBUG INFO) Executor start aborting (this does not indicate an error and you can ignore this message): INVALID_ARGUMENT: You must feed a value for placeholder tensor 'gradients/split_grad/concat/split/split_dim' with dtype int32\n",
      "\t [[{{node gradients/split_grad/concat/split/split_dim}}]]\n",
      "2023-06-08 13:26:07.819619: I tensorflow/core/common_runtime/executor.cc:1197] [/device:CPU:0] (DEBUG INFO) Executor start aborting (this does not indicate an error and you can ignore this message): INVALID_ARGUMENT: You must feed a value for placeholder tensor 'gradients/split_1_grad/concat/split_1/split_dim' with dtype int32\n",
      "\t [[{{node gradients/split_1_grad/concat/split_1/split_dim}}]]\n",
      "2023-06-08 13:26:07.895446: I tensorflow/core/common_runtime/executor.cc:1197] [/device:CPU:0] (DEBUG INFO) Executor start aborting (this does not indicate an error and you can ignore this message): INVALID_ARGUMENT: You must feed a value for placeholder tensor 'gradients/split_2_grad/concat/split_2/split_dim' with dtype int32\n",
      "\t [[{{node gradients/split_2_grad/concat/split_2/split_dim}}]]\n",
      "2023-06-08 13:26:07.896126: I tensorflow/core/common_runtime/executor.cc:1197] [/device:CPU:0] (DEBUG INFO) Executor start aborting (this does not indicate an error and you can ignore this message): INVALID_ARGUMENT: You must feed a value for placeholder tensor 'gradients/split_grad/concat/split/split_dim' with dtype int32\n",
      "\t [[{{node gradients/split_grad/concat/split/split_dim}}]]\n",
      "2023-06-08 13:26:07.897108: I tensorflow/core/common_runtime/executor.cc:1197] [/device:CPU:0] (DEBUG INFO) Executor start aborting (this does not indicate an error and you can ignore this message): INVALID_ARGUMENT: You must feed a value for placeholder tensor 'gradients/split_1_grad/concat/split_1/split_dim' with dtype int32\n",
      "\t [[{{node gradients/split_1_grad/concat/split_1/split_dim}}]]\n"
     ]
    },
    {
     "name": "stdout",
     "output_type": "stream",
     "text": [
      "13/13 [==============================] - 2s 66ms/step - loss: 0.6679 - accuracy: 0.6700 - val_loss: 0.6391 - val_accuracy: 0.6600\n",
      "Epoch 2/50\n",
      "13/13 [==============================] - 1s 39ms/step - loss: 0.6258 - accuracy: 0.6800 - val_loss: 0.6409 - val_accuracy: 0.6600\n",
      "Epoch 3/50\n",
      "13/13 [==============================] - 1s 40ms/step - loss: 0.6323 - accuracy: 0.6800 - val_loss: 0.6375 - val_accuracy: 0.6600\n",
      "Epoch 4/50\n",
      "13/13 [==============================] - 1s 44ms/step - loss: 0.6312 - accuracy: 0.6800 - val_loss: 0.6405 - val_accuracy: 0.6600\n",
      "Epoch 5/50\n",
      "13/13 [==============================] - 1s 43ms/step - loss: 0.6270 - accuracy: 0.6800 - val_loss: 0.6381 - val_accuracy: 0.6600\n",
      "Epoch 6/50\n",
      "13/13 [==============================] - 1s 43ms/step - loss: 0.6300 - accuracy: 0.6800 - val_loss: 0.6373 - val_accuracy: 0.6600\n",
      "Epoch 7/50\n",
      "13/13 [==============================] - 1s 44ms/step - loss: 0.6280 - accuracy: 0.6800 - val_loss: 0.6387 - val_accuracy: 0.6600\n",
      "Epoch 8/50\n",
      "13/13 [==============================] - 1s 44ms/step - loss: 0.6297 - accuracy: 0.6800 - val_loss: 0.6383 - val_accuracy: 0.6600\n",
      "Epoch 9/50\n",
      "13/13 [==============================] - 1s 43ms/step - loss: 0.6296 - accuracy: 0.6800 - val_loss: 0.6378 - val_accuracy: 0.6600\n",
      "Epoch 10/50\n",
      "13/13 [==============================] - 1s 39ms/step - loss: 0.6268 - accuracy: 0.6800 - val_loss: 0.6371 - val_accuracy: 0.6600\n",
      "Epoch 11/50\n",
      "13/13 [==============================] - 1s 39ms/step - loss: 0.6283 - accuracy: 0.6800 - val_loss: 0.6375 - val_accuracy: 0.6600\n",
      "Epoch 12/50\n",
      "13/13 [==============================] - 1s 39ms/step - loss: 0.6275 - accuracy: 0.6800 - val_loss: 0.6370 - val_accuracy: 0.6600\n",
      "Epoch 13/50\n",
      "13/13 [==============================] - 1s 39ms/step - loss: 0.6286 - accuracy: 0.6800 - val_loss: 0.6381 - val_accuracy: 0.6600\n",
      "Epoch 14/50\n",
      "13/13 [==============================] - 1s 40ms/step - loss: 0.6336 - accuracy: 0.6800 - val_loss: 0.6407 - val_accuracy: 0.6600\n",
      "Epoch 15/50\n",
      "13/13 [==============================] - 1s 39ms/step - loss: 0.6272 - accuracy: 0.6800 - val_loss: 0.6381 - val_accuracy: 0.6600\n",
      "Epoch 16/50\n",
      "13/13 [==============================] - 1s 39ms/step - loss: 0.6321 - accuracy: 0.6800 - val_loss: 0.6377 - val_accuracy: 0.6600\n",
      "Epoch 17/50\n",
      "13/13 [==============================] - 1s 43ms/step - loss: 0.6267 - accuracy: 0.6800 - val_loss: 0.6372 - val_accuracy: 0.6600\n",
      "Epoch 17: early stopping\n",
      "2/2 [==============================] - 0s 12ms/step - loss: 0.6372 - accuracy: 0.6600\n",
      "Test Loss: 0.6372378468513489\n",
      "Test Accuracy: 0.6600000262260437\n"
     ]
    }
   ],
   "source": [
    "from sklearn.model_selection import train_test_split\n",
    "from tensorflow import keras\n",
    "from tensorflow.keras import layers\n",
    "\n",
    "X_train, X_test, y_train, y_test = train_test_split(X, y, test_size=0.2, random_state=42)\n",
    "\n",
    "model = keras.Sequential()\n",
    "model.add(layers.LSTM(units=128, return_sequences=True, input_shape=(numC, numT))) \n",
    "model.add(layers.Dropout(0.2))\n",
    "model.add(layers.LSTM(units=64))\n",
    "# model.add(layers.Dropout(0.2))\n",
    "model.add(layers.Dense(units=1, activation='sigmoid'))  # Change units to 1 for binary classification and use sigmoid activation\n",
    "\n",
    "model.compile(loss='binary_crossentropy', optimizer='adam', metrics=['accuracy'])\n",
    "\n",
    "# model.compile(loss='categorical_crossentropy', optimizer='adam', metrics=['accuracy'])\n",
    "\n",
    "# Define the EarlyStopping callback\n",
    "early_stopping = keras.callbacks.EarlyStopping(monitor='val_loss', patience=5, mode='min', verbose=1)\n",
    "\n",
    "# Train the model with the EarlyStopping callback\n",
    "model.fit(X_train, y_train, epochs=50, batch_size=16, validation_data=(X_test, y_test), callbacks=[early_stopping])\n",
    "\n",
    "# Evaluate the model\n",
    "loss, accuracy = model.evaluate(X_test, y_test)\n",
    "print('Test Loss:', loss)\n",
    "print('Test Accuracy:', accuracy)\n"
   ]
  },
  {
   "attachments": {},
   "cell_type": "markdown",
   "metadata": {},
   "source": [
    "RF all subjects 80-20 = 0.556809024979855\n",
    "\n",
    "RF, Logistic, SVC = 1 sub 0.66\n",
    "\n",
    "XGB 1 sub 0.62\n",
    "\n",
    "XGB 26 0.5495568090249798\n",
    "\n",
    "Ada 0.6\n",
    "\n",
    "GB 0.62\n",
    "\n",
    "0.66\n"
   ]
  },
  {
   "attachments": {},
   "cell_type": "markdown",
   "metadata": {},
   "source": [
    "catboost and RF both on more data with stacked are perfoming the same\n",
    "\n",
    "next im gonna add labels for the subjects\n"
   ]
  },
  {
   "cell_type": "code",
   "execution_count": 12,
   "metadata": {},
   "outputs": [],
   "source": [
    "# X = all_rawdata[0]['epoch_dat']\n",
    "# print(X.shape)\n",
    "# # X = X.reshape(X.shape[0],-1)\n",
    "# y = all_rawdata[0]['metadata']['deci']\n",
    "# \n",
    "# X2 = all_rawdata[2]['epoch_dat' ]\n",
    "# y2 = all_rawdata[2]['metadata']['deci']\n",
    "# \n",
    "# X = np.concatenate((X,X2), axis = 0)\n",
    "# y = np.concatenate((y,y2))\n",
    "# \n",
    "# print(X.shape, y.shape)\n",
    "# for i in range(1, nSubj):\n",
    "# \n",
    "#     X_temp = all_rawdata[i]['epoch_dat']\n",
    "#     X_temp = X_temp.reshape((X_temp.shape[0]*X_temp.shape[1], X_temp.shape[2]))\n",
    "#     shapes[i+1] = shapes[i] + X_temp.shape[0]\n",
    "#     y_temp = all_rawdata[i]['metadata']['deci']\n",
    "#     y_temp = np.tile(y_temp, numC)\n",
    "# \n",
    "#     X = np.vstack((X, X_temp))\n",
    "#     y = np.concatenate((y, y_temp))\n",
    "# \n",
    "# print(shapes)\n",
    "# \n",
    "# print(X.shape, y.shape)\n",
    "# if add_labels:\n",
    "#     labels = np.zeros((nSubj, X.shape[0]))\n",
    "#     for i in range (nSubj):\n",
    "#         for j in range(shapes[i], shapes[i+1]):\n",
    "#             labels[i,j] = 1\n",
    "#     print(labels.shape)\n",
    "#     \n",
    "#     labels = np.transpose(labels)\n",
    "#     X = np.hstack((X, labels))\n",
    "#     print(X.shape, labels.shape)"
   ]
  }
 ],
 "metadata": {
  "kernelspec": {
   "display_name": "mne",
   "language": "python",
   "name": "python3"
  },
  "language_info": {
   "codemirror_mode": {
    "name": "ipython",
    "version": 3
   },
   "file_extension": ".py",
   "mimetype": "text/x-python",
   "name": "python",
   "nbconvert_exporter": "python",
   "pygments_lexer": "ipython3",
   "version": "3.10.11"
  },
  "orig_nbformat": 4
 },
 "nbformat": 4,
 "nbformat_minor": 2
}
