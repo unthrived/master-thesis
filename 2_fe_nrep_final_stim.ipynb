{
 "cells": [
  {
   "attachments": {},
   "cell_type": "markdown",
   "id": "c19c0239",
   "metadata": {},
   "source": [
    "# Forward encoding model based on Pim Mostert Decoding toolbox\n",
    "\n"
   ]
  },
  {
   "cell_type": "code",
   "execution_count": 1,
   "id": "66196b97",
   "metadata": {},
   "outputs": [
    {
     "name": "stdout",
     "output_type": "stream",
     "text": [
      "/Users/junjieji/Documents/GitHub/master-thesis\n"
     ]
    }
   ],
   "source": [
    "!pwd"
   ]
  },
  {
   "cell_type": "code",
   "execution_count": 2,
   "id": "caf2024a-a3d1-4443-bd51-316a254d607f",
   "metadata": {},
   "outputs": [],
   "source": [
    "import sys\n",
    "import time as tic\n",
    "# %matplotlib qt\n",
    "from scipy.io import loadmat\n",
    "import numpy as np\n",
    "import pandas as pd\n",
    "import mat73\n",
    "\n",
    "import inspect #path_fun = inspect.getfile(StratifiedKFold)\n",
    "import matplotlib.pyplot as plt\n",
    "import mne\n",
    "import os\n",
    "import random\n",
    "\n",
    "from statsmodels.tsa.stattools import coint\n"
   ]
  },
  {
   "attachments": {},
   "cell_type": "markdown",
   "id": "801a0115",
   "metadata": {},
   "source": [
    "# Variables"
   ]
  },
  {
   "cell_type": "code",
   "execution_count": 7,
   "id": "ba297065",
   "metadata": {},
   "outputs": [],
   "source": [
    "''' VARIABLES '''\n",
    "\n",
    "dataset = 'eeg'\n",
    "\n",
    "amount_of_subjects = 1 # Change the range so the process is faster\n",
    "if amount_of_subjects > 26: amount_of_subjects = 26\n",
    "subjs_list = ['s{:02d}'.format(i) for i in range(1, amount_of_subjects+1) if i != 6 ] \n",
    "nSubj = len(subjs_list)\n",
    "\n",
    "numC = 8\n",
    "\n",
    "angles = [i * 180./numC for i in range(numC)]\n",
    "\n",
    "x_labels = np.array(angles)\n",
    "\n",
    "resample = True # speeds up the procees but showing worse results overall\n",
    "if resample: resample_frequency = 20 # in Hz, original freq is 500Hz\n",
    "\n",
    "cfg_stim = dict()\n",
    "cfg_stim['kappa'] = 4\n",
    "cfg_stim['NumC'] = numC\n",
    "cfg_stim['Tuning'] = 'vonmises'\n",
    "# cfg_stim['Tuning'] = 'halfRectCos'\n",
    "cfg_stim['offset'] = 0\n",
    "\n",
    "cfg_train = dict()\n",
    "cfg_train['gamma'] = 0.1\n",
    "cfg_train['demean'] = True\n",
    "cfg_train['returnPattern'] = True\n",
    "\n",
    "cfg_test = dict()\n",
    "cfg_test['demean'] = 'traindata'"
   ]
  },
  {
   "attachments": {},
   "cell_type": "markdown",
   "id": "9f0f5209-8015-49bd-b6df-ecf3a1247651",
   "metadata": {},
   "source": [
    "# Loading & preparing orientation data"
   ]
  },
  {
   "cell_type": "code",
   "execution_count": 10,
   "id": "c9c035db-ba98-4c6a-a62e-e963ce32e8d0",
   "metadata": {},
   "outputs": [],
   "source": [
    "'''EEG Dataset'''\n",
    "def read_data(number_of_repetition,\n",
    "              resample,\n",
    "              resample_frequency,\n",
    "              subjs_list = subjs_list\n",
    "              ):\n",
    "    path = 'Cond_CJ_EEG'\n",
    "\n",
    "    all_st_epochs = []\n",
    "    all_st_rawdata = []\n",
    "    for subject_id in subjs_list:\n",
    "        preproc_path = os.path.join(path, subject_id)\n",
    "        \n",
    "        st_epoch = mne.read_epochs(os.path.join(preproc_path, 'mainstim_epo.fif'), verbose=False)\n",
    "        # print(st_epoch.info['sfreq'])\n",
    "        if resample: \n",
    "            print('Frequency before:', st_epoch.info['sfreq'])\n",
    "            st_epoch = st_epoch.resample(resample_frequency)\n",
    "            print('Frequency after:' ,st_epoch.info['sfreq'])\n",
    "            \n",
    "        all_st_epochs.append(st_epoch)\n",
    "        all_st_rawdata.append(\n",
    "            {\n",
    "            'epoch_dat': st_epoch.get_data()[st_epoch.metadata['nrep'] == number_of_repetition,:,:] ,\n",
    "            'metadata': st_epoch.metadata[st_epoch.metadata['nrep'] == number_of_repetition]\n",
    "            }\n",
    "            )\n",
    "    return all_st_rawdata\n"
   ]
  },
  {
   "attachments": {},
   "cell_type": "markdown",
   "id": "6b5408c8",
   "metadata": {},
   "source": [
    "# Procedure for multisubject"
   ]
  },
  {
   "cell_type": "code",
   "execution_count": 13,
   "id": "0a1e4476",
   "metadata": {},
   "outputs": [],
   "source": [
    "from decoding_toolbox_py.Helper_funcs.DecToolbox import CreateFolds, CV_encoder\n",
    "from decoding_toolbox_py.Helper_funcs import DecToolbox as dt\n",
    "def train(all_st_rawdata, raw_predicts = False):\n",
    "    nSubj = len(all_st_rawdata)\n",
    "    preds = [None] * nSubj\n",
    "    G = [None] * nSubj\n",
    "\n",
    "    for subj in range(nSubj):\n",
    "        Y = all_st_rawdata[subj]['epoch_dat']\n",
    "        Y = np.einsum('kji->jik', Y)\n",
    "        print(Y.shape)\n",
    "        Y = np.delete(Y, 25, axis=0)\n",
    "\n",
    "        X = np.array(all_st_rawdata[subj]['metadata'].orient)\n",
    "        X = np.digitize(X, bins = np.array(angles))-1.\n",
    "        phi = X * (180./numC)\n",
    "        numF, numT, numN = Y.shape\n",
    "\n",
    "        G[subj] = X.copy() \n",
    "        \n",
    "        CONDS = np.unique(G[subj])\n",
    "        nConds = CONDS.size\n",
    "        nfold = 5\n",
    "        FoldsIdx = CreateFolds(G[subj], Y, nfold)\n",
    "        \n",
    "        design, sortedesign = dt.stim_features(phi, cfg_stim)\n",
    "        \n",
    "        Xhat = np.zeros([numC,numN, numT])\n",
    "        for it in range(numT):\n",
    "            cfg = dict()\n",
    "            cfg['cfgE'] = {'gamma': 0.01, 'demean' : True, 'returnPattern' : True}\n",
    "            cfg['cfgD'] = {'demean' : 'traindata'}\n",
    "            Xhat[:,:,it] = CV_encoder(design, Y, it, cfg, FoldsIdx)\n",
    "        preds[subj] = Xhat\n",
    "        print('preds', np.shape(preds[0]))\n",
    "    if raw_predicts:\n",
    "        return preds\n",
    "        \n",
    "    else:\n",
    "        m_centered = np.zeros((numC,numC, numT, nSubj))\n",
    "        for ival, isubj in enumerate(subjs_list):\n",
    "            Xhat = preds[ival]\n",
    "            Xhat_centered = 0*Xhat.copy()\n",
    "            \n",
    "            for ic in range(numC): # here trials that match similar label orientation are shifted together x positions (np.roll)\n",
    "                Xhat_centered[:, G[ival] == ic,:] = np.roll(Xhat[:,G[ival] == ic,:], -ic, axis = 0)\n",
    "                m_centered[:,ic, :, ival] =  np.mean( Xhat_centered[:,  G[ival] == ic, :], axis = 1)\n",
    "\n",
    "        Xhat_centeredmean = np.mean( m_centered, axis = 1)\n",
    "        Xhat_centeredmean = np.mean( Xhat_centeredmean, axis = 2)\n",
    "        print('Xhat_centeredmean', np.shape(Xhat_centeredmean))\n",
    "        return Xhat_centeredmean"
   ]
  },
  {
   "cell_type": "code",
   "execution_count": 14,
   "id": "2b14053c",
   "metadata": {},
   "outputs": [
    {
     "name": "stdout",
     "output_type": "stream",
     "text": [
      "0\n",
      "(32, 201, 518)\n",
      "preds (8, 518, 201)\n",
      "Xhat_centeredmean (8, 201)\n",
      "1\n",
      "(32, 201, 524)\n",
      "preds (8, 524, 201)\n",
      "Xhat_centeredmean (8, 201)\n",
      "2\n",
      "(32, 201, 521)\n",
      "preds (8, 521, 201)\n",
      "Xhat_centeredmean (8, 201)\n"
     ]
    }
   ],
   "source": [
    "'''5 min 20hz'''\n",
    "\n",
    "all_st_rawdata_rep = [None]*3\n",
    "Xhat_centeredmean_rep = [None]*3\n",
    "\n",
    "for i in range(3):\n",
    "    print(i)\n",
    "    all_st_rawdata_rep[i] = read_data(number_of_repetition=i, resample=False, resample_frequency=20)\n",
    "    Xhat_centeredmean_rep[i] = train(all_st_rawdata_rep[i])"
   ]
  },
  {
   "cell_type": "code",
   "execution_count": null,
   "id": "b80dd759",
   "metadata": {},
   "outputs": [
    {
     "data": {
      "image/png": "[encoded data removed]",
      "text/plain": [
       "<Figure size 1800x600 with 4 Axes>"
      ]
     },
     "metadata": {},
     "output_type": "display_data"
    }
   ],
   "source": [
    "from mpl_toolkits.axes_grid1 import make_axes_locatable\n",
    "\n",
    "max_abs = np.max(np.abs(Xhat_centeredmean_rep))\n",
    "\n",
    "fig, axes = plt.subplots(1, 3, figsize=(18, 6))\n",
    "\n",
    "im0 = axes[0].imshow(Xhat_centeredmean_rep[0], aspect='auto', vmin=-max_abs, vmax=max_abs)\n",
    "axes[0].set_title('Repetition 0')\n",
    "\n",
    "im1 = axes[1].imshow(Xhat_centeredmean_rep[1], aspect='auto', vmin=-max_abs, vmax=max_abs)\n",
    "axes[1].set_title('Repetition 1')\n",
    "\n",
    "im2 = axes[2].imshow(Xhat_centeredmean_rep[2], aspect='auto', vmin=-max_abs, vmax=max_abs)\n",
    "axes[2].set_title('Repetition 2')\n",
    "\n",
    "divider = make_axes_locatable(axes[2])\n",
    "cax = divider.append_axes(\"right\", size=\"5%\", pad=0.05)\n",
    "plt.colorbar(im2, cax=cax)\n",
    "\n",
    "plt.tight_layout()\n",
    "plt.show()\n",
    "\n"
   ]
  },
  {
   "cell_type": "code",
   "execution_count": null,
   "id": "5124c676",
   "metadata": {},
   "outputs": [
    {
     "data": {
      "image/png": "[encoded data removed]",
      "text/plain": [
       "<Figure size 1800x600 with 4 Axes>"
      ]
     },
     "metadata": {},
     "output_type": "display_data"
    }
   ],
   "source": [
    "fig, axes = plt.subplots(1, 3, figsize=(18, 6))\n",
    "\n",
    "im0 = axes[0].imshow(Xhat_centeredmean_rep[2] - Xhat_centeredmean_rep[0], aspect='auto', vmin=-max_abs, vmax=max_abs)\n",
    "axes[0].set_title('Repetition 2-0')\n",
    "\n",
    "im1 = axes[1].imshow(Xhat_centeredmean_rep[2] - Xhat_centeredmean_rep[1], aspect='auto', vmin=-max_abs, vmax=max_abs)\n",
    "axes[1].set_title('Repetition 2-1')\n",
    "\n",
    "im2 = axes[2].imshow(Xhat_centeredmean_rep[1] - Xhat_centeredmean_rep[0], aspect='auto', vmin=-max_abs, vmax=max_abs)\n",
    "axes[2].set_title('Repetition 1-0')\n",
    "\n",
    "divider = make_axes_locatable(axes[2])\n",
    "cax = divider.append_axes(\"right\", size=\"5%\", pad=0.05)\n",
    "plt.colorbar(im2, cax=cax)\n",
    "\n",
    "plt.tight_layout()\n",
    "plt.show()\n"
   ]
  },
  {
   "cell_type": "code",
   "execution_count": null,
   "id": "806399d7",
   "metadata": {},
   "outputs": [
    {
     "ename": "NameError",
     "evalue": "name 'stophere' is not defined",
     "output_type": "error",
     "traceback": [
      "\u001b[0;31m---------------------------------------------------------------------------\u001b[0m",
      "\u001b[0;31mNameError\u001b[0m                                 Traceback (most recent call last)",
      "Cell \u001b[0;32mIn[11], line 1\u001b[0m\n\u001b[0;32m----> 1\u001b[0m stophere\n",
      "\u001b[0;31mNameError\u001b[0m: name 'stophere' is not defined"
     ]
    }
   ],
   "source": [
    "stophere"
   ]
  },
  {
   "attachments": {},
   "cell_type": "markdown",
   "id": "4b2c871c",
   "metadata": {},
   "source": [
    "\n",
    "\n",
    "'''\n",
    "\n",
    "Cluster based simulation, buscarlo en mne\n",
    "\n",
    "'''\n",
    "\n",
    "\n",
    "https://en.wikipedia.org/wiki/Pearson_correlation_coefficient\n"
   ]
  }
 ],
 "metadata": {
  "kernelspec": {
   "display_name": "Python 3 (ipykernel)",
   "language": "python",
   "name": "python3"
  },
  "language_info": {
   "codemirror_mode": {
    "name": "ipython",
    "version": 3
   },
   "file_extension": ".py",
   "mimetype": "text/x-python",
   "name": "python",
   "nbconvert_exporter": "python",
   "pygments_lexer": "ipython3",
   "version": "3.10.11"
  },
  "vscode": {
   "interpreter": {
    "hash": "78277f196899d30b09f8eb84b1d60d6cc910a2e198812045736ce186b763ced0"
   }
  }
 },
 "nbformat": 4,
 "nbformat_minor": 5
}
