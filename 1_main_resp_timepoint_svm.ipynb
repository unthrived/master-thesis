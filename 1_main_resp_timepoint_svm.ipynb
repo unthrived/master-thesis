{
 "cells": [
  {
   "attachments": {},
   "cell_type": "markdown",
   "metadata": {},
   "source": [
    "# Working experiment"
   ]
  },
  {
   "cell_type": "code",
   "execution_count": 1,
   "metadata": {},
   "outputs": [],
   "source": [
    "import os, glob, platform\n",
    "import numpy as np\n",
    "import numpy.matlib\n",
    "import pickle\n",
    "import pandas as pd\n",
    "import pathlib\n",
    "import matplotlib\n",
    "import matplotlib.pyplot as plt\n",
    "import mne\n",
    "mne.__version__\n",
    "from mne.viz import plot_alignment, snapshot_brain_montage\n",
    "import shutil\n",
    "from mne.datasets import eegbci\n",
    "from sklearn.model_selection import train_test_split\n",
    "\n",
    "# from mne_bids import write_raw_bids, BIDSPath, print_dir_tree, make_dataset_description\n",
    "# from mne_bids.stats import count_events\n",
    "import sys"
   ]
  },
  {
   "cell_type": "code",
   "execution_count": 2,
   "metadata": {},
   "outputs": [],
   "source": [
    "''' VARIABLES '''\n",
    "\n",
    "dataset = 'eeg'\n",
    "\n",
    "amount_of_subjects = 27 # Change the range so the process is faster\n",
    "\n",
    "numC = 8\n",
    "\n",
    "angles = [i * 180./numC for i in range(numC)]\n",
    "\n",
    "x_labels = np.array(angles)\n",
    "\n",
    "resample = True # speeds up the procees but showing slighly worse results\n",
    "resample_frequency = 50 # in Hz, original freq is 500Hz"
   ]
  },
  {
   "cell_type": "code",
   "execution_count": 3,
   "metadata": {},
   "outputs": [
    {
     "name": "stdout",
     "output_type": "stream",
     "text": [
      "Frequency before: 500.0\n",
      "Frequency after: 50.0\n",
      "Frequency before: 500.0\n",
      "Frequency after: 50.0\n",
      "Frequency before: 500.0\n",
      "Frequency after: 50.0\n",
      "Frequency before: 500.0\n",
      "Frequency after: 50.0\n",
      "Frequency before: 500.0\n",
      "Frequency after: 50.0\n",
      "Frequency before: 500.0\n",
      "Frequency after: 50.0\n",
      "Frequency before: 500.0\n",
      "Frequency after: 50.0\n",
      "Frequency before: 500.0\n",
      "Frequency after: 50.0\n",
      "Frequency before: 500.0\n",
      "Frequency after: 50.0\n",
      "Frequency before: 500.0\n",
      "Frequency after: 50.0\n",
      "Frequency before: 500.0\n",
      "Frequency after: 50.0\n",
      "Frequency before: 500.0\n",
      "Frequency after: 50.0\n",
      "Frequency before: 500.0\n",
      "Frequency after: 50.0\n",
      "Frequency before: 500.0\n",
      "Frequency after: 50.0\n",
      "Frequency before: 500.0\n",
      "Frequency after: 50.0\n",
      "Frequency before: 500.0\n",
      "Frequency after: 50.0\n",
      "Frequency before: 500.0\n",
      "Frequency after: 50.0\n",
      "Frequency before: 500.0\n",
      "Frequency after: 50.0\n",
      "Frequency before: 500.0\n",
      "Frequency after: 50.0\n",
      "Frequency before: 500.0\n",
      "Frequency after: 50.0\n",
      "Frequency before: 500.0\n",
      "Frequency after: 50.0\n",
      "Frequency before: 500.0\n",
      "Frequency after: 50.0\n",
      "Frequency before: 500.0\n",
      "Frequency after: 50.0\n",
      "Frequency before: 500.0\n",
      "Frequency after: 50.0\n",
      "Frequency before: 500.0\n",
      "Frequency after: 50.0\n",
      "Frequency before: 500.0\n",
      "Frequency after: 50.0\n"
     ]
    }
   ],
   "source": [
    "from toolbox.methods import read_data\n",
    "all_epochs, all_rawdata = read_data (task = 'main', resample=resample, amount_of_subjects=amount_of_subjects, resample_frequency=resample_frequency)"
   ]
  },
  {
   "attachments": {},
   "cell_type": "markdown",
   "metadata": {},
   "source": [
    "# Mean acc for all subjects"
   ]
  },
  {
   "cell_type": "code",
   "execution_count": 4,
   "metadata": {},
   "outputs": [],
   "source": [
    "# '''30s per subject, 13min for 26 subjects '''\n",
    "# \n",
    "# import random\n",
    "# from toolbox.methods import train_timepoints\n",
    "# \n",
    "# subject_acc = [None]*amount_of_subjects\n",
    "# timepoint_accuracy = [None]*amount_of_subjects\n",
    "# \n",
    "# bool_shuffled = False\n",
    "# \n",
    "# for subj in range(amount_of_subjects-1):\n",
    "#     \n",
    "#     print('Working on subj: ', subj)\n",
    "#     X = all_rawdata[subj]['epoch_dat']\n",
    "#     y = np.where(all_rawdata[subj]['metadata']['r_map'] == 45, 1, 0)\n",
    "#     y2 = all_rawdata[subj]['metadata']['deci']\n",
    "#     y3 = [a ^ b for a, b in zip(y, y2)]\n",
    "#     if bool_shuffled: random.shuffle(y3)\n",
    "#     numT = X.shape[2]\n",
    "#     timepoint_accuracy[subj] = [None]*numT\n",
    "#     for timepoint in range(numT):\n",
    "#         # print(timepoint)\n",
    "#         X_training = X[:,:,timepoint]\n",
    "#         timepoint_accuracy[subj][timepoint] = train_timepoints(X_training, y3, verbose=False, acc_only=True)\n",
    "# \n",
    "# numpy_timepoint_accuracy = np.array(timepoint_accuracy)"
   ]
  },
  {
   "cell_type": "code",
   "execution_count": 6,
   "metadata": {},
   "outputs": [
    {
     "name": "stdout",
     "output_type": "stream",
     "text": [
      "Experiment:  10\n"
     ]
    },
    {
     "name": "stderr",
     "output_type": "stream",
     "text": [
      "/var/folders/x2/l6kq7w2s48bbjcgczm1ll_fm0000gn/T/ipykernel_46318/3538365398.py:24: VisibleDeprecationWarning: Creating an ndarray from ragged nested sequences (which is a list-or-tuple of lists-or-tuples-or ndarrays with different lengths or shapes) is deprecated. If you meant to do this, you must specify 'dtype=object' when creating the ndarray.\n",
      "  numpy_timepoint_accuracy = np.array(timepoint_accuracy)\n"
     ]
    },
    {
     "name": "stdout",
     "output_type": "stream",
     "text": [
      "Experiment:  11\n"
     ]
    },
    {
     "ename": "KeyboardInterrupt",
     "evalue": "",
     "output_type": "error",
     "traceback": [
      "\u001b[0;31m---------------------------------------------------------------------------\u001b[0m",
      "\u001b[0;31mKeyboardInterrupt\u001b[0m                         Traceback (most recent call last)",
      "Cell \u001b[0;32mIn[6], line 23\u001b[0m\n\u001b[1;32m     20\u001b[0m     \u001b[39mfor\u001b[39;00m timepoint \u001b[39min\u001b[39;00m \u001b[39mrange\u001b[39m(numT):\n\u001b[1;32m     21\u001b[0m         \u001b[39m# print(timepoint)\u001b[39;00m\n\u001b[1;32m     22\u001b[0m         X_training \u001b[39m=\u001b[39m X[:,:,timepoint]\n\u001b[0;32m---> 23\u001b[0m         timepoint_accuracy[subj][timepoint] \u001b[39m=\u001b[39m train_timepoints_svc(X_training, y3, verbose\u001b[39m=\u001b[39;49m\u001b[39mFalse\u001b[39;49;00m, acc_only\u001b[39m=\u001b[39;49m\u001b[39mTrue\u001b[39;49;00m)\n\u001b[1;32m     24\u001b[0m numpy_timepoint_accuracy \u001b[39m=\u001b[39m np\u001b[39m.\u001b[39marray(timepoint_accuracy)\n\u001b[1;32m     25\u001b[0m np\u001b[39m.\u001b[39msave(\u001b[39m'\u001b[39m\u001b[39mresults_resp_svc/timepoint_response_\u001b[39m\u001b[39m'\u001b[39m\u001b[39m+\u001b[39m\u001b[39mstr\u001b[39m(experiment)\u001b[39m+\u001b[39m\u001b[39m'\u001b[39m\u001b[39m.npy\u001b[39m\u001b[39m'\u001b[39m, numpy_timepoint_accuracy)\n",
      "File \u001b[0;32m~/Documents/GitHub/master-thesis/toolbox/methods.py:550\u001b[0m, in \u001b[0;36mtrain_timepoints_svc\u001b[0;34m(X, y, verbose, display_roc, acc_only)\u001b[0m\n\u001b[1;32m    548\u001b[0m clf \u001b[39m=\u001b[39m SVC(kernel\u001b[39m=\u001b[39m\u001b[39m'\u001b[39m\u001b[39mlinear\u001b[39m\u001b[39m'\u001b[39m)\n\u001b[1;32m    549\u001b[0m \u001b[39m# clf = LinearSVC(random_state=0, loss=\"hinge\") # Faster than Random Forest\u001b[39;00m\n\u001b[0;32m--> 550\u001b[0m clf\u001b[39m.\u001b[39mfit(X_train, y_train\n\u001b[1;32m    551\u001b[0m         ,sample_weight\u001b[39m=\u001b[39msample_weights\n\u001b[1;32m    552\u001b[0m         )\n\u001b[1;32m    554\u001b[0m y_pred \u001b[39m=\u001b[39m clf\u001b[39m.\u001b[39mpredict(X_test)    \n\u001b[1;32m    555\u001b[0m \u001b[39mif\u001b[39;00m verbose:\n",
      "File \u001b[0;32m~/opt/anaconda3/envs/mne/lib/python3.10/site-packages/sklearn/svm/_base.py:252\u001b[0m, in \u001b[0;36mBaseLibSVM.fit\u001b[0;34m(self, X, y, sample_weight)\u001b[0m\n\u001b[1;32m    249\u001b[0m     \u001b[39mprint\u001b[39m(\u001b[39m\"\u001b[39m\u001b[39m[LibSVM]\u001b[39m\u001b[39m\"\u001b[39m, end\u001b[39m=\u001b[39m\u001b[39m\"\u001b[39m\u001b[39m\"\u001b[39m)\n\u001b[1;32m    251\u001b[0m seed \u001b[39m=\u001b[39m rnd\u001b[39m.\u001b[39mrandint(np\u001b[39m.\u001b[39miinfo(\u001b[39m\"\u001b[39m\u001b[39mi\u001b[39m\u001b[39m\"\u001b[39m)\u001b[39m.\u001b[39mmax)\n\u001b[0;32m--> 252\u001b[0m fit(X, y, sample_weight, solver_type, kernel, random_seed\u001b[39m=\u001b[39;49mseed)\n\u001b[1;32m    253\u001b[0m \u001b[39m# see comment on the other call to np.iinfo in this file\u001b[39;00m\n\u001b[1;32m    255\u001b[0m \u001b[39mself\u001b[39m\u001b[39m.\u001b[39mshape_fit_ \u001b[39m=\u001b[39m X\u001b[39m.\u001b[39mshape \u001b[39mif\u001b[39;00m \u001b[39mhasattr\u001b[39m(X, \u001b[39m\"\u001b[39m\u001b[39mshape\u001b[39m\u001b[39m\"\u001b[39m) \u001b[39melse\u001b[39;00m (n_samples,)\n",
      "File \u001b[0;32m~/opt/anaconda3/envs/mne/lib/python3.10/site-packages/sklearn/svm/_base.py:331\u001b[0m, in \u001b[0;36mBaseLibSVM._dense_fit\u001b[0;34m(self, X, y, sample_weight, solver_type, kernel, random_seed)\u001b[0m\n\u001b[1;32m    317\u001b[0m libsvm\u001b[39m.\u001b[39mset_verbosity_wrap(\u001b[39mself\u001b[39m\u001b[39m.\u001b[39mverbose)\n\u001b[1;32m    319\u001b[0m \u001b[39m# we don't pass **self.get_params() to allow subclasses to\u001b[39;00m\n\u001b[1;32m    320\u001b[0m \u001b[39m# add other parameters to __init__\u001b[39;00m\n\u001b[1;32m    321\u001b[0m (\n\u001b[1;32m    322\u001b[0m     \u001b[39mself\u001b[39m\u001b[39m.\u001b[39msupport_,\n\u001b[1;32m    323\u001b[0m     \u001b[39mself\u001b[39m\u001b[39m.\u001b[39msupport_vectors_,\n\u001b[1;32m    324\u001b[0m     \u001b[39mself\u001b[39m\u001b[39m.\u001b[39m_n_support,\n\u001b[1;32m    325\u001b[0m     \u001b[39mself\u001b[39m\u001b[39m.\u001b[39mdual_coef_,\n\u001b[1;32m    326\u001b[0m     \u001b[39mself\u001b[39m\u001b[39m.\u001b[39mintercept_,\n\u001b[1;32m    327\u001b[0m     \u001b[39mself\u001b[39m\u001b[39m.\u001b[39m_probA,\n\u001b[1;32m    328\u001b[0m     \u001b[39mself\u001b[39m\u001b[39m.\u001b[39m_probB,\n\u001b[1;32m    329\u001b[0m     \u001b[39mself\u001b[39m\u001b[39m.\u001b[39mfit_status_,\n\u001b[1;32m    330\u001b[0m     \u001b[39mself\u001b[39m\u001b[39m.\u001b[39m_num_iter,\n\u001b[0;32m--> 331\u001b[0m ) \u001b[39m=\u001b[39m libsvm\u001b[39m.\u001b[39;49mfit(\n\u001b[1;32m    332\u001b[0m     X,\n\u001b[1;32m    333\u001b[0m     y,\n\u001b[1;32m    334\u001b[0m     svm_type\u001b[39m=\u001b[39;49msolver_type,\n\u001b[1;32m    335\u001b[0m     sample_weight\u001b[39m=\u001b[39;49msample_weight,\n\u001b[1;32m    336\u001b[0m     \u001b[39m# TODO(1.4): Replace \"_class_weight\" with \"class_weight_\"\u001b[39;49;00m\n\u001b[1;32m    337\u001b[0m     class_weight\u001b[39m=\u001b[39;49m\u001b[39mgetattr\u001b[39;49m(\u001b[39mself\u001b[39;49m, \u001b[39m\"\u001b[39;49m\u001b[39m_class_weight\u001b[39;49m\u001b[39m\"\u001b[39;49m, np\u001b[39m.\u001b[39;49mempty(\u001b[39m0\u001b[39;49m)),\n\u001b[1;32m    338\u001b[0m     kernel\u001b[39m=\u001b[39;49mkernel,\n\u001b[1;32m    339\u001b[0m     C\u001b[39m=\u001b[39;49m\u001b[39mself\u001b[39;49m\u001b[39m.\u001b[39;49mC,\n\u001b[1;32m    340\u001b[0m     nu\u001b[39m=\u001b[39;49m\u001b[39mself\u001b[39;49m\u001b[39m.\u001b[39;49mnu,\n\u001b[1;32m    341\u001b[0m     probability\u001b[39m=\u001b[39;49m\u001b[39mself\u001b[39;49m\u001b[39m.\u001b[39;49mprobability,\n\u001b[1;32m    342\u001b[0m     degree\u001b[39m=\u001b[39;49m\u001b[39mself\u001b[39;49m\u001b[39m.\u001b[39;49mdegree,\n\u001b[1;32m    343\u001b[0m     shrinking\u001b[39m=\u001b[39;49m\u001b[39mself\u001b[39;49m\u001b[39m.\u001b[39;49mshrinking,\n\u001b[1;32m    344\u001b[0m     tol\u001b[39m=\u001b[39;49m\u001b[39mself\u001b[39;49m\u001b[39m.\u001b[39;49mtol,\n\u001b[1;32m    345\u001b[0m     cache_size\u001b[39m=\u001b[39;49m\u001b[39mself\u001b[39;49m\u001b[39m.\u001b[39;49mcache_size,\n\u001b[1;32m    346\u001b[0m     coef0\u001b[39m=\u001b[39;49m\u001b[39mself\u001b[39;49m\u001b[39m.\u001b[39;49mcoef0,\n\u001b[1;32m    347\u001b[0m     gamma\u001b[39m=\u001b[39;49m\u001b[39mself\u001b[39;49m\u001b[39m.\u001b[39;49m_gamma,\n\u001b[1;32m    348\u001b[0m     epsilon\u001b[39m=\u001b[39;49m\u001b[39mself\u001b[39;49m\u001b[39m.\u001b[39;49mepsilon,\n\u001b[1;32m    349\u001b[0m     max_iter\u001b[39m=\u001b[39;49m\u001b[39mself\u001b[39;49m\u001b[39m.\u001b[39;49mmax_iter,\n\u001b[1;32m    350\u001b[0m     random_seed\u001b[39m=\u001b[39;49mrandom_seed,\n\u001b[1;32m    351\u001b[0m )\n\u001b[1;32m    353\u001b[0m \u001b[39mself\u001b[39m\u001b[39m.\u001b[39m_warn_from_fit_status()\n",
      "\u001b[0;31mKeyboardInterrupt\u001b[0m: "
     ]
    }
   ],
   "source": [
    "'''158 min execution mac m1'''\n",
    "\n",
    "import random\n",
    "from toolbox.methods import train_timepoints_svc\n",
    "\n",
    "number_of_experiments = 10\n",
    "bool_shuffled = False\n",
    "for experiment in range(10, 10+number_of_experiments): \n",
    "    print('Experiment: ', experiment)\n",
    "    subject_acc = [None]*amount_of_subjects\n",
    "    timepoint_accuracy = [None]*amount_of_subjects\n",
    "    for subj in range(amount_of_subjects-1):\n",
    "        X = all_rawdata[subj]['epoch_dat']\n",
    "        y = np.where(all_rawdata[subj]['metadata']['r_map'] == 45, 1, 0)\n",
    "        y2 = all_rawdata[subj]['metadata']['deci']\n",
    "        y3 = [a ^ b for a, b in zip(y, y2)]\n",
    "        if bool_shuffled: random.shuffle(y3)\n",
    "        numT = X.shape[2]\n",
    "        timepoint_accuracy[subj] = [None]*numT\n",
    "        for timepoint in range(numT):\n",
    "            # print(timepoint)\n",
    "            X_training = X[:,:,timepoint]\n",
    "            timepoint_accuracy[subj][timepoint] = train_timepoints_svc(X_training, y3, verbose=False, acc_only=True)\n",
    "    numpy_timepoint_accuracy = np.array(timepoint_accuracy)\n",
    "    np.save('results_resp_svc/timepoint_response_'+str(experiment)+'.npy', numpy_timepoint_accuracy)"
   ]
  },
  {
   "cell_type": "code",
   "execution_count": null,
   "metadata": {},
   "outputs": [],
   "source": []
  }
 ],
 "metadata": {
  "kernelspec": {
   "display_name": "mne",
   "language": "python",
   "name": "python3"
  },
  "language_info": {
   "codemirror_mode": {
    "name": "ipython",
    "version": 3
   },
   "file_extension": ".py",
   "mimetype": "text/x-python",
   "name": "python",
   "nbconvert_exporter": "python",
   "pygments_lexer": "ipython3",
   "version": "3.10.11"
  },
  "orig_nbformat": 4
 },
 "nbformat": 4,
 "nbformat_minor": 2
}
