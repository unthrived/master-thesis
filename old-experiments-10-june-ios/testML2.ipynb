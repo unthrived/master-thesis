{
 "cells": [
  {
   "cell_type": "code",
   "execution_count": null,
   "metadata": {},
   "outputs": [],
   "source": [
    "from sklearn.discriminant_analysis import StandardScaler\n",
    "from sklearn.linear_model import LogisticRegression\n",
    "from sklearn.model_selection import StratifiedKFold\n",
    "from sklearn.pipeline import make_pipeline\n",
    "\n",
    "# Classify using the average signal in the window 50ms to 300ms\n",
    "# to focus the classifier on the time interval with best SNR.\n",
    "clf = make_pipeline(StandardScaler(),\n",
    "                    LogisticRegression(C=1, solver='liblinear',\n",
    "                                       multi_class='auto'))\n",
    "time = all_st_epochs[ival].times\n",
    "label = all_st_epochs[ival].ch_names\n",
    "X = all_st_rawdata[ival]['epoch_dat'].mean(axis = 2)\n",
    "#X = np.einsum('kji->jik', X)\n",
    "Y = np.array(all_st_rawdata[ival]['metadata'].orient)\n",
    "\n",
    "#binned_phi = np.digitize(Y, bins = np.array([  0, 22.5, 45, 67.5, 90, 112.5, 135, 157.5 ]) ) # bins collapsing degrees by similarity\n",
    "binned_phi = np.digitize(Y, bins = np.array([  0, 45, 90, 135 ]) ) # bins collapsing degrees by similarity\n",
    "G[ival] = binned_phi.copy()\n",
    "Y = (G[ival]-1)*(180/4)\n",
    "Y = Y.astype('str')\n",
    "classes = set(Y)\n",
    "cv = StratifiedKFold(n_splits=5, random_state=0, shuffle=True)\n",
    "\n",
    "# Compute confusion matrix for each cross-validation fold\n",
    "y_pred = np.zeros((len(Y), len(classes)))\n",
    "for train, test in cv.split(X, Y):\n",
    "    # Fit\n",
    "    clf.fit(X[train], Y[train])\n",
    "    # Probabilistic prediction (necessary for ROC-AUC scoring metric)\n",
    "    y_pred[test] = clf.predict_proba(X[test])\n"
   ]
  },
  {
   "cell_type": "code",
   "execution_count": null,
   "metadata": {},
   "outputs": [],
   "source": [
    "from sklearn.metrics import roc_auc_score\n",
    "\n",
    "confusion = np.zeros((len(classes), len(classes)))\n",
    "for ii, train_class in enumerate(classes):\n",
    "    for jj in range(ii, len(classes)):\n",
    "        confusion[ii, jj] = roc_auc_score(Y == train_class, y_pred[:, jj])\n",
    "        confusion[jj, ii] = confusion[ii, jj]\n",
    "#labels = [''] * 5 + ['face'] + [''] * 11 + ['bodypart'] + [''] * 6\n",
    "fig, ax = plt.subplots(1)\n",
    "im = ax.matshow(confusion, cmap='RdBu_r', clim=[0.3, 0.7])\n",
    "ax.set_yticks(range(len(classes)))\n",
    "#ax.set_yticklabels(labels)\n",
    "ax.set_xticks(range(len(classes)))\n",
    "#ax.set_xticklabels(labels, rotation=40, ha='left')\n",
    "#ax.axhline(11.5, color='k')\n",
    "#ax.axvline(11.5, color='k')\n",
    "plt.colorbar(im)\n",
    "plt.tight_layout()\n",
    "plt.show()"
   ]
  }
 ],
 "metadata": {
  "language_info": {
   "name": "python"
  },
  "orig_nbformat": 4
 },
 "nbformat": 4,
 "nbformat_minor": 2
}
