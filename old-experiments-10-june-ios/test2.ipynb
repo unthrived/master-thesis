{
 "cells": [
  {
   "cell_type": "code",
   "execution_count": 1,
   "metadata": {},
   "outputs": [],
   "source": [
    "# !pip install ipywidgets"
   ]
  },
  {
   "cell_type": "code",
   "execution_count": null,
   "metadata": {},
   "outputs": [],
   "source": []
  },
  {
   "cell_type": "code",
   "execution_count": null,
   "metadata": {},
   "outputs": [],
   "source": [
    "import matplotlib.pyplot as plt\n",
    "import numpy as np\n",
    "import ipywidgets as widgets\n",
    "from IPython.display import display\n",
    "\n",
    "# Create slider widget\n",
    "slider = widgets.IntSlider(min=1, max=10, value=1, description='x')\n",
    "\n",
    "# Function to update plot\n",
    "def update_plot(x):\n",
    "    y = 10 * x\n",
    "    plt.plot(x, y, 'ro')\n",
    "    plt.xlabel('x')\n",
    "    plt.ylabel('y')\n",
    "    plt.title('Plot of y = 10*x')\n",
    "    plt.grid(True)\n",
    "    plt.show()\n",
    "\n",
    "# Register the update_plot function with the slider\n",
    "widgets.interact(update_plot, x=slider)\n",
    "\n",
    "# Initialize the plot\n",
    "x_init = 1\n",
    "y_init = 10 * x_init\n",
    "plt.plot(x_init, y_init, 'ro')\n",
    "plt.xlabel('x')\n",
    "plt.ylabel('y')\n",
    "plt.title('Plot of y = 10*x')\n",
    "plt.grid(True)\n",
    "plt.show()\n"
   ]
  },
  {
   "cell_type": "code",
   "execution_count": null,
   "metadata": {},
   "outputs": [],
   "source": []
  }
 ],
 "metadata": {
  "kernelspec": {
   "display_name": "mne",
   "language": "python",
   "name": "python3"
  },
  "language_info": {
   "codemirror_mode": {
    "name": "ipython",
    "version": 3
   },
   "file_extension": ".py",
   "mimetype": "text/x-python",
   "name": "python",
   "nbconvert_exporter": "python",
   "pygments_lexer": "ipython3",
   "version": "3.10.11"
  },
  "orig_nbformat": 4
 },
 "nbformat": 4,
 "nbformat_minor": 2
}
