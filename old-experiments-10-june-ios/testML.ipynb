{
 "cells": [
  {
   "cell_type": "code",
   "execution_count": 1,
   "metadata": {},
   "outputs": [],
   "source": [
    "# %matplotlib qt\n",
    "from scipy.io import loadmat\n",
    "import numpy as np\n",
    "import pandas as pd\n",
    "import mat73\n",
    "import mne\n",
    "import os\n",
    "\n",
    "import inspect #path_fun = inspect.getfile(StratifiedKFold)\n",
    "import matplotlib.pyplot as plt\n",
    "import DecToolbox as dt\n",
    "#print(sys.path)\n",
    "\n",
    "import sys\n",
    "path_utils = '/decoding_toolbox_py/helper_funcs' \n",
    "sys.path.append(path_utils)\n",
    "# !pip install mat73"
   ]
  },
  {
   "cell_type": "code",
   "execution_count": 2,
   "metadata": {},
   "outputs": [],
   "source": [
    "''' VARIABLES '''\n",
    "\n",
    "kappa = 4\n",
    "\n",
    "# No time dimension (We only select one point as example)\n",
    "sel_t = 120"
   ]
  },
  {
   "cell_type": "code",
   "execution_count": 3,
   "metadata": {},
   "outputs": [
    {
     "name": "stdout",
     "output_type": "stream",
     "text": [
      "/decoding-toolbox_matlab/data/testdata_orientation.mat\n"
     ]
    }
   ],
   "source": [
    "path = '/decoding-toolbox_matlab/data/'\n",
    "path_ori_data = path + 'testdata_orientation.mat'\n",
    "\n",
    "print(path_ori_data)\n",
    "\n",
    "path = 'decoding-toolbox_matlab/data/testdata_orientation.mat' "
   ]
  },
  {
   "cell_type": "code",
   "execution_count": 4,
   "metadata": {},
   "outputs": [],
   "source": [
    "ori_data = mat73.loadmat(path)\n",
    "X = ori_data['Y']\n",
    "y = ori_data['X']\n",
    "time = ori_data['time']\n",
    "label = ori_data['label'] # Label of the features"
   ]
  },
  {
   "cell_type": "code",
   "execution_count": 7,
   "metadata": {},
   "outputs": [],
   "source": [
    "X_reshaped = np.reshape(X, (X.shape[0] * X.shape[1], X.shape[2]))\n"
   ]
  },
  {
   "cell_type": "code",
   "execution_count": 12,
   "metadata": {},
   "outputs": [
    {
     "name": "stdout",
     "output_type": "stream",
     "text": [
      "Collecting pyrcn\n",
      "  Downloading PyRCN-0.0.17.post1-py3-none-any.whl (82 kB)\n",
      "\u001b[2K     \u001b[90m━━━━━━━━━━━━━━━━━━━━━━━━━━━━━━━━━━━━━━━━\u001b[0m \u001b[32m82.5/82.5 kB\u001b[0m \u001b[31m3.1 MB/s\u001b[0m eta \u001b[36m0:00:00\u001b[0m\n",
      "\u001b[?25hInstalling collected packages: pyrcn\n",
      "Successfully installed pyrcn-0.0.17.post1\n"
     ]
    }
   ],
   "source": [
    "!pip install pyrcn"
   ]
  },
  {
   "cell_type": "code",
   "execution_count": 13,
   "metadata": {},
   "outputs": [
    {
     "name": "stdout",
     "output_type": "stream",
     "text": [
      "Accuracy: 0.08552631578947369\n"
     ]
    }
   ],
   "source": [
    "import numpy as np\n",
    "from sklearn.model_selection import train_test_split\n",
    "from sklearn.svm import SVC\n",
    "from sklearn.metrics import accuracy_score\n",
    "from catboost import CatBoostClassifier\n",
    "from sklearn.ensemble import RandomForestClassifier\n",
    "from pyrcn.echo_state_network import ESNClassifier\n",
    "\n",
    "\n",
    "# Step 1: Prepare the data\n",
    "\n",
    "# Reshape the input data X to (a*b, c)\n",
    "X_reshaped = np.reshape(X, (X.shape[0] * X.shape[1], X.shape[2]))\n",
    "\n",
    "# Transpose the target data y to match the reshaped X\n",
    "X_reshaped = np.transpose(X_reshaped)\n",
    "\n",
    "# Step 2: Split the data into train and test sets\n",
    "X_train, X_test, y_train, y_test = train_test_split(X_reshaped, y, test_size=0.2, random_state=42)\n",
    "\n",
    "# Step 3: Initialize the SVM classifier\n",
    "# clf = RandomForestClassifier()\n",
    "svm = SVC()\n",
    "clf = ESNClassifier()\n",
    "\n",
    "\n",
    "# Step 4: Train the SVM classifier\n",
    "clf.fit(X_train, y_train)\n",
    "\n",
    "# Step 5: Make predictions on the test set\n",
    "y_pred = clf.predict(X_test)\n",
    "\n",
    "# Step 6: Evaluate the model\n",
    "accuracy = accuracy_score(y_test, y_pred)\n",
    "print(\"Accuracy:\", accuracy)\n"
   ]
  },
  {
   "cell_type": "code",
   "execution_count": null,
   "metadata": {},
   "outputs": [
    {
     "name": "stdout",
     "output_type": "stream",
     "text": [
      "Accuracy: 0.18421052631578946\n"
     ]
    }
   ],
   "source": [
    "import numpy as np\n",
    "from sklearn.model_selection import train_test_split\n",
    "from sklearn.svm import SVC\n",
    "from sklearn.metrics import accuracy_score\n",
    "from sklearn.preprocessing import StandardScaler\n",
    "\n",
    "# Step 1: Prepare the data\n",
    "\n",
    "# Reshape the input data X to (a*b, c)\n",
    "X_reshaped = np.reshape(X, (X.shape[0] * X.shape[1], X.shape[2]))\n",
    "\n",
    "# Transpose the target data y to match the reshaped X\n",
    "X_reshaped = np.transpose(X_reshaped)\n",
    "\n",
    "# Step 2: Split the data into train and test sets\n",
    "X_train, X_test, y_train, y_test = train_test_split(X_reshaped, y, test_size=0.2, random_state=42)\n",
    "\n",
    "# Step 3: Apply feature scaling\n",
    "scaler = StandardScaler()\n",
    "X_train_scaled = scaler.fit_transform(X_train)\n",
    "X_test_scaled = scaler.transform(X_test)\n",
    "\n",
    "# Step 4: Initialize the SVM classifier\n",
    "svm = SVC()\n",
    "\n",
    "# Step 5: Train the SVM classifier\n",
    "svm.fit(X_train_scaled, y_train)\n",
    "\n",
    "# Step 6: Make predictions on the test set\n",
    "y_pred = svm.predict(X_test_scaled)\n",
    "\n",
    "# Step 7: Evaluate the model\n",
    "accuracy = accuracy_score(y_test, y_pred)\n",
    "print(\"Accuracy:\", accuracy)\n"
   ]
  }
 ],
 "metadata": {
  "kernelspec": {
   "display_name": "mne",
   "language": "python",
   "name": "python3"
  },
  "language_info": {
   "codemirror_mode": {
    "name": "ipython",
    "version": 3
   },
   "file_extension": ".py",
   "mimetype": "text/x-python",
   "name": "python",
   "nbconvert_exporter": "python",
   "pygments_lexer": "ipython3",
   "version": "3.10.11"
  },
  "orig_nbformat": 4
 },
 "nbformat": 4,
 "nbformat_minor": 2
}
