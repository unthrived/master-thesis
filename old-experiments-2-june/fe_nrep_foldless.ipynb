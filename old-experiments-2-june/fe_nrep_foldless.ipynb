{
 "cells": [
  {
   "attachments": {},
   "cell_type": "markdown",
   "id": "c19c0239",
   "metadata": {},
   "source": [
    "# Forward encoding model based on Pim Mostert Decoding toolbox\n",
    "\n"
   ]
  },
  {
   "cell_type": "code",
   "execution_count": 1,
   "id": "66196b97",
   "metadata": {},
   "outputs": [
    {
     "name": "stdout",
     "output_type": "stream",
     "text": [
      "/Users/junjieji/Desktop/master-thesis\n"
     ]
    }
   ],
   "source": [
    "!pwd"
   ]
  },
  {
   "cell_type": "code",
   "execution_count": 2,
   "id": "caf2024a-a3d1-4443-bd51-316a254d607f",
   "metadata": {},
   "outputs": [],
   "source": [
    "import sys\n",
    "import time as tic\n",
    "# %matplotlib qt\n",
    "from scipy.io import loadmat\n",
    "import numpy as np\n",
    "import pandas as pd\n",
    "import mat73\n",
    "\n",
    "import inspect #path_fun = inspect.getfile(StratifiedKFold)\n",
    "import matplotlib.pyplot as plt\n",
    "import DecToolbox as dt\n",
    "import mne\n",
    "import os\n",
    "import random\n",
    "\n",
    "from statsmodels.tsa.stattools import coint\n"
   ]
  },
  {
   "cell_type": "code",
   "execution_count": 3,
   "id": "42704760",
   "metadata": {},
   "outputs": [],
   "source": [
    "path_utils = '/decoding_toolbox_py/helper_funcs' \n",
    "sys.path.append(path_utils)"
   ]
  },
  {
   "attachments": {},
   "cell_type": "markdown",
   "id": "801a0115",
   "metadata": {},
   "source": [
    "# Variables"
   ]
  },
  {
   "cell_type": "code",
   "execution_count": 4,
   "id": "64a70757",
   "metadata": {},
   "outputs": [],
   "source": [
    "start = tic.time()"
   ]
  },
  {
   "cell_type": "code",
   "execution_count": 5,
   "id": "ba297065",
   "metadata": {},
   "outputs": [],
   "source": [
    "''' VARIABLES '''\n",
    "\n",
    "dataset = 'eeg'\n",
    "\n",
    "amount_of_subjects = 2 # Change the range so the process is faster\n",
    "\n",
    "number_of_repetition = 0\n",
    "\n",
    "numC = 8\n",
    "angles = [i * 180./numC for i in range(numC)]\n",
    "x_labels = np.array(angles)\n",
    "\n",
    "resample = False # speeds up the procees but showing worse results overall\n",
    "if resample: resample_frequency = 20 # in Hz, original freq is 500Hz\n",
    "\n",
    "cfg_stim = dict()\n",
    "cfg_stim['kappa'] = 4\n",
    "cfg_stim['NumC'] = numC\n",
    "cfg_stim['Tuning'] = 'vonmises'\n",
    "# cfg_stim['Tuning'] = 'halfRectCos'\n",
    "cfg_stim['offset'] = 0\n",
    "\n",
    "cfg_train = dict()\n",
    "cfg_train['gamma'] = 0.1\n",
    "cfg_train['demean'] = True\n",
    "cfg_train['returnPattern'] = True\n",
    "\n",
    "cfg_test = dict()\n",
    "cfg_test['demean'] = 'traindata'"
   ]
  },
  {
   "attachments": {},
   "cell_type": "markdown",
   "id": "9f0f5209-8015-49bd-b6df-ecf3a1247651",
   "metadata": {},
   "source": [
    "# Loading & preparing orientation data"
   ]
  },
  {
   "cell_type": "code",
   "execution_count": 6,
   "id": "c9c035db-ba98-4c6a-a62e-e963ce32e8d0",
   "metadata": {},
   "outputs": [
    {
     "name": "stdout",
     "output_type": "stream",
     "text": [
      "NOTE: pick_channels() is a legacy function. New code should use inst.pick(...).\n",
      "NOTE: pick_channels() is a legacy function. New code should use inst.pick(...).\n",
      "Identifying common channels ...\n"
     ]
    }
   ],
   "source": [
    "'''EEG Dataset'''\n",
    "if amount_of_subjects > 26: amount_of_subjects = 26\n",
    "subjs_list = ['s{:02d}'.format(i) for i in range(1, amount_of_subjects+1) if i != 6 ] \n",
    "path = 'Cond_CJ_EEG'\n",
    "\n",
    "epochs = []\n",
    "all_epochs = []\n",
    "all_rawdata = []\n",
    "all_st_epochs = []\n",
    "all_st_rawdata = []\n",
    "for subject_id in subjs_list:\n",
    "    preproc_path = os.path.join(path, subject_id)\n",
    "    \n",
    "    epoch = mne.read_epochs(os.path.join(preproc_path, 'main_epo.fif'), verbose=False)\n",
    "    epochs.append(epoch.average())\n",
    "    all_epochs.append(epoch)\n",
    "    all_rawdata.append({'epoch_dat': epoch.get_data(), 'metadata': epoch.metadata})\n",
    "    \n",
    "    st_epoch = mne.read_epochs(os.path.join(preproc_path, 'mainstim_epo.fif'), verbose=False)\n",
    "    # print(st_epoch.info['sfreq'])\n",
    "    if resample: \n",
    "        print('Frequency before:', st_epoch.info['sfreq'])\n",
    "        st_epoch = st_epoch.resample(resample_frequency)\n",
    "        print('Frequency after:' ,st_epoch.info['sfreq'])\n",
    "        \n",
    "    all_st_epochs.append(st_epoch)\n",
    "    all_st_rawdata.append(\n",
    "        {\n",
    "        'epoch_dat': st_epoch.get_data()[st_epoch.metadata['nrep'] == number_of_repetition,:,:] ,\n",
    "        'metadata': st_epoch.metadata[st_epoch.metadata['nrep'] == number_of_repetition]\n",
    "        }\n",
    "        )\n",
    "gvaverage = mne.grand_average(epochs[:])\n",
    "\n",
    "# Y = all_st_rawdata[subj]['epoch_dat']"
   ]
  },
  {
   "cell_type": "code",
   "execution_count": 7,
   "id": "1c170f4c",
   "metadata": {},
   "outputs": [],
   "source": [
    "# st_epoch.get_data()[st_epoch.metadata['nrep'] == 0,:,:]"
   ]
  },
  {
   "cell_type": "code",
   "execution_count": 8,
   "id": "9831bd50",
   "metadata": {},
   "outputs": [
    {
     "data": {
      "text/plain": [
       "(518, 32, 201)"
      ]
     },
     "execution_count": 8,
     "metadata": {},
     "output_type": "execute_result"
    }
   ],
   "source": [
    "all_st_rawdata[0]['epoch_dat'].shape\n",
    "# display(st_epoch.metadata[st_epoch.metadata['nrep'] == 0])"
   ]
  },
  {
   "cell_type": "code",
   "execution_count": 9,
   "id": "e55792ac",
   "metadata": {},
   "outputs": [
    {
     "name": "stdout",
     "output_type": "stream",
     "text": [
      "(261, 35)\n"
     ]
    },
    {
     "data": {
      "text/html": [
       "<div>\n",
       "<style scoped>\n",
       "    .dataframe tbody tr th:only-of-type {\n",
       "        vertical-align: middle;\n",
       "    }\n",
       "\n",
       "    .dataframe tbody tr th {\n",
       "        vertical-align: top;\n",
       "    }\n",
       "\n",
       "    .dataframe thead th {\n",
       "        text-align: right;\n",
       "    }\n",
       "</style>\n",
       "<table border=\"1\" class=\"dataframe\">\n",
       "  <thead>\n",
       "    <tr style=\"text-align: right;\">\n",
       "      <th></th>\n",
       "      <th>index</th>\n",
       "      <th>subj</th>\n",
       "      <th>nblock</th>\n",
       "      <th>ntrial</th>\n",
       "      <th>nrep</th>\n",
       "      <th>trial_type</th>\n",
       "      <th>cond-1</th>\n",
       "      <th>cond</th>\n",
       "      <th>rDV</th>\n",
       "      <th>DV</th>\n",
       "      <th>...</th>\n",
       "      <th>d5</th>\n",
       "      <th>d6</th>\n",
       "      <th>o1</th>\n",
       "      <th>o2</th>\n",
       "      <th>o3</th>\n",
       "      <th>o4</th>\n",
       "      <th>o5</th>\n",
       "      <th>o6</th>\n",
       "      <th>confi-1</th>\n",
       "      <th>conf_lvl-1</th>\n",
       "    </tr>\n",
       "  </thead>\n",
       "  <tbody>\n",
       "    <tr>\n",
       "      <th>883</th>\n",
       "      <td>0</td>\n",
       "      <td>s02</td>\n",
       "      <td>0</td>\n",
       "      <td>0</td>\n",
       "      <td>0</td>\n",
       "      <td>repeat</td>\n",
       "      <td>0</td>\n",
       "      <td>1</td>\n",
       "      <td>0.362383</td>\n",
       "      <td>0.06</td>\n",
       "      <td>...</td>\n",
       "      <td>-0.207526</td>\n",
       "      <td>-0.992879</td>\n",
       "      <td>2.176</td>\n",
       "      <td>0.612</td>\n",
       "      <td>2.715</td>\n",
       "      <td>2.160</td>\n",
       "      <td>1.882</td>\n",
       "      <td>1.568</td>\n",
       "      <td>0.00</td>\n",
       "      <td>L</td>\n",
       "    </tr>\n",
       "    <tr>\n",
       "      <th>896</th>\n",
       "      <td>1</td>\n",
       "      <td>s02</td>\n",
       "      <td>0</td>\n",
       "      <td>0</td>\n",
       "      <td>1</td>\n",
       "      <td>repeat</td>\n",
       "      <td>1</td>\n",
       "      <td>1</td>\n",
       "      <td>0.362383</td>\n",
       "      <td>0.06</td>\n",
       "      <td>...</td>\n",
       "      <td>-0.207526</td>\n",
       "      <td>-0.992879</td>\n",
       "      <td>2.176</td>\n",
       "      <td>0.612</td>\n",
       "      <td>2.715</td>\n",
       "      <td>2.160</td>\n",
       "      <td>1.882</td>\n",
       "      <td>1.568</td>\n",
       "      <td>0.85</td>\n",
       "      <td>H</td>\n",
       "    </tr>\n",
       "    <tr>\n",
       "      <th>909</th>\n",
       "      <td>2</td>\n",
       "      <td>s02</td>\n",
       "      <td>0</td>\n",
       "      <td>0</td>\n",
       "      <td>2</td>\n",
       "      <td>repeat</td>\n",
       "      <td>1</td>\n",
       "      <td>1</td>\n",
       "      <td>0.362383</td>\n",
       "      <td>0.06</td>\n",
       "      <td>...</td>\n",
       "      <td>-0.207526</td>\n",
       "      <td>-0.992879</td>\n",
       "      <td>2.176</td>\n",
       "      <td>0.612</td>\n",
       "      <td>2.715</td>\n",
       "      <td>2.160</td>\n",
       "      <td>1.882</td>\n",
       "      <td>1.568</td>\n",
       "      <td>1.00</td>\n",
       "      <td>H</td>\n",
       "    </tr>\n",
       "    <tr>\n",
       "      <th>922</th>\n",
       "      <td>3</td>\n",
       "      <td>s02</td>\n",
       "      <td>0</td>\n",
       "      <td>1</td>\n",
       "      <td>0</td>\n",
       "      <td>nonrepeat</td>\n",
       "      <td>1</td>\n",
       "      <td>0</td>\n",
       "      <td>0.671881</td>\n",
       "      <td>-0.01</td>\n",
       "      <td>...</td>\n",
       "      <td>0.532462</td>\n",
       "      <td>0.575752</td>\n",
       "      <td>3.010</td>\n",
       "      <td>0.375</td>\n",
       "      <td>0.353</td>\n",
       "      <td>0.251</td>\n",
       "      <td>0.969</td>\n",
       "      <td>0.952</td>\n",
       "      <td>0.95</td>\n",
       "      <td>H</td>\n",
       "    </tr>\n",
       "    <tr>\n",
       "      <th>935</th>\n",
       "      <td>4</td>\n",
       "      <td>s02</td>\n",
       "      <td>0</td>\n",
       "      <td>1</td>\n",
       "      <td>1</td>\n",
       "      <td>nonrepeat</td>\n",
       "      <td>0</td>\n",
       "      <td>0</td>\n",
       "      <td>0.671881</td>\n",
       "      <td>-0.01</td>\n",
       "      <td>...</td>\n",
       "      <td>0.532462</td>\n",
       "      <td>0.575752</td>\n",
       "      <td>3.010</td>\n",
       "      <td>0.375</td>\n",
       "      <td>0.353</td>\n",
       "      <td>0.251</td>\n",
       "      <td>0.969</td>\n",
       "      <td>0.952</td>\n",
       "      <td>-1.00</td>\n",
       "      <td>L</td>\n",
       "    </tr>\n",
       "  </tbody>\n",
       "</table>\n",
       "<p>5 rows × 35 columns</p>\n",
       "</div>"
      ],
      "text/plain": [
       "     index subj  nblock  ntrial  nrep trial_type  cond-1  cond       rDV   \n",
       "883      0  s02       0       0     0     repeat       0     1  0.362383  \\\n",
       "896      1  s02       0       0     1     repeat       1     1  0.362383   \n",
       "909      2  s02       0       0     2     repeat       1     1  0.362383   \n",
       "922      3  s02       0       1     0  nonrepeat       1     0  0.671881   \n",
       "935      4  s02       0       1     1  nonrepeat       0     0  0.671881   \n",
       "\n",
       "       DV  ...        d5        d6     o1     o2     o3     o4     o5     o6   \n",
       "883  0.06  ... -0.207526 -0.992879  2.176  0.612  2.715  2.160  1.882  1.568  \\\n",
       "896  0.06  ... -0.207526 -0.992879  2.176  0.612  2.715  2.160  1.882  1.568   \n",
       "909  0.06  ... -0.207526 -0.992879  2.176  0.612  2.715  2.160  1.882  1.568   \n",
       "922 -0.01  ...  0.532462  0.575752  3.010  0.375  0.353  0.251  0.969  0.952   \n",
       "935 -0.01  ...  0.532462  0.575752  3.010  0.375  0.353  0.251  0.969  0.952   \n",
       "\n",
       "     confi-1  conf_lvl-1  \n",
       "883     0.00           L  \n",
       "896     0.85           H  \n",
       "909     1.00           H  \n",
       "922     0.95           H  \n",
       "935    -1.00           L  \n",
       "\n",
       "[5 rows x 35 columns]"
      ]
     },
     "metadata": {},
     "output_type": "display_data"
    }
   ],
   "source": [
    "if dataset == 'eeg':\n",
    "    print(epoch.metadata.shape)\n",
    "    display(epoch.metadata.head())"
   ]
  },
  {
   "cell_type": "code",
   "execution_count": 10,
   "id": "ca39a44b",
   "metadata": {},
   "outputs": [
    {
     "name": "stdout",
     "output_type": "stream",
     "text": [
      "(1396, 23)\n"
     ]
    },
    {
     "data": {
      "text/html": [
       "<div>\n",
       "<style scoped>\n",
       "    .dataframe tbody tr th:only-of-type {\n",
       "        vertical-align: middle;\n",
       "    }\n",
       "\n",
       "    .dataframe tbody tr th {\n",
       "        vertical-align: top;\n",
       "    }\n",
       "\n",
       "    .dataframe thead th {\n",
       "        text-align: right;\n",
       "    }\n",
       "</style>\n",
       "<table border=\"1\" class=\"dataframe\">\n",
       "  <thead>\n",
       "    <tr style=\"text-align: right;\">\n",
       "      <th></th>\n",
       "      <th>subj</th>\n",
       "      <th>trial_type</th>\n",
       "      <th>nblock</th>\n",
       "      <th>ntrial</th>\n",
       "      <th>nrep</th>\n",
       "      <th>stim_cond</th>\n",
       "      <th>cond-1</th>\n",
       "      <th>cong_deci</th>\n",
       "      <th>cong_stim</th>\n",
       "      <th>cond</th>\n",
       "      <th>...</th>\n",
       "      <th>corr-1</th>\n",
       "      <th>correct</th>\n",
       "      <th>confi</th>\n",
       "      <th>conf_lvl</th>\n",
       "      <th>correct-1</th>\n",
       "      <th>RT</th>\n",
       "      <th>stim</th>\n",
       "      <th>dv</th>\n",
       "      <th>orient</th>\n",
       "      <th>ov</th>\n",
       "    </tr>\n",
       "  </thead>\n",
       "  <tbody>\n",
       "    <tr>\n",
       "      <th>885</th>\n",
       "      <td>s02</td>\n",
       "      <td>repeat</td>\n",
       "      <td>0</td>\n",
       "      <td>0</td>\n",
       "      <td>0</td>\n",
       "      <td>D</td>\n",
       "      <td>0</td>\n",
       "      <td>I</td>\n",
       "      <td>I</td>\n",
       "      <td>1</td>\n",
       "      <td>...</td>\n",
       "      <td>0</td>\n",
       "      <td>1</td>\n",
       "      <td>0.85</td>\n",
       "      <td>H</td>\n",
       "      <td>0</td>\n",
       "      <td>2.172867</td>\n",
       "      <td>d1</td>\n",
       "      <td>0.541138</td>\n",
       "      <td>124.675616</td>\n",
       "      <td>0.229431</td>\n",
       "    </tr>\n",
       "    <tr>\n",
       "      <th>886</th>\n",
       "      <td>s02</td>\n",
       "      <td>repeat</td>\n",
       "      <td>0</td>\n",
       "      <td>0</td>\n",
       "      <td>0</td>\n",
       "      <td>D</td>\n",
       "      <td>0</td>\n",
       "      <td>I</td>\n",
       "      <td>I</td>\n",
       "      <td>1</td>\n",
       "      <td>...</td>\n",
       "      <td>0</td>\n",
       "      <td>1</td>\n",
       "      <td>0.85</td>\n",
       "      <td>H</td>\n",
       "      <td>0</td>\n",
       "      <td>2.172867</td>\n",
       "      <td>d2</td>\n",
       "      <td>0.558445</td>\n",
       "      <td>35.065017</td>\n",
       "      <td>-0.220777</td>\n",
       "    </tr>\n",
       "    <tr>\n",
       "      <th>887</th>\n",
       "      <td>s02</td>\n",
       "      <td>repeat</td>\n",
       "      <td>0</td>\n",
       "      <td>0</td>\n",
       "      <td>0</td>\n",
       "      <td>D</td>\n",
       "      <td>0</td>\n",
       "      <td>I</td>\n",
       "      <td>I</td>\n",
       "      <td>1</td>\n",
       "      <td>...</td>\n",
       "      <td>0</td>\n",
       "      <td>1</td>\n",
       "      <td>0.85</td>\n",
       "      <td>H</td>\n",
       "      <td>0</td>\n",
       "      <td>2.172867</td>\n",
       "      <td>d3</td>\n",
       "      <td>0.086309</td>\n",
       "      <td>155.558041</td>\n",
       "      <td>-0.456845</td>\n",
       "    </tr>\n",
       "    <tr>\n",
       "      <th>888</th>\n",
       "      <td>s02</td>\n",
       "      <td>repeat</td>\n",
       "      <td>0</td>\n",
       "      <td>0</td>\n",
       "      <td>0</td>\n",
       "      <td>D</td>\n",
       "      <td>0</td>\n",
       "      <td>I</td>\n",
       "      <td>I</td>\n",
       "      <td>1</td>\n",
       "      <td>...</td>\n",
       "      <td>0</td>\n",
       "      <td>1</td>\n",
       "      <td>0.85</td>\n",
       "      <td>H</td>\n",
       "      <td>0</td>\n",
       "      <td>2.172867</td>\n",
       "      <td>d4</td>\n",
       "      <td>0.500395</td>\n",
       "      <td>123.758884</td>\n",
       "      <td>0.249803</td>\n",
       "    </tr>\n",
       "    <tr>\n",
       "      <th>889</th>\n",
       "      <td>s02</td>\n",
       "      <td>repeat</td>\n",
       "      <td>0</td>\n",
       "      <td>0</td>\n",
       "      <td>0</td>\n",
       "      <td>C</td>\n",
       "      <td>0</td>\n",
       "      <td>C</td>\n",
       "      <td>C</td>\n",
       "      <td>1</td>\n",
       "      <td>...</td>\n",
       "      <td>0</td>\n",
       "      <td>1</td>\n",
       "      <td>0.85</td>\n",
       "      <td>H</td>\n",
       "      <td>0</td>\n",
       "      <td>2.172867</td>\n",
       "      <td>d5</td>\n",
       "      <td>-0.207526</td>\n",
       "      <td>107.830657</td>\n",
       "      <td>0.603763</td>\n",
       "    </tr>\n",
       "  </tbody>\n",
       "</table>\n",
       "<p>5 rows × 23 columns</p>\n",
       "</div>"
      ],
      "text/plain": [
       "    subj trial_type  nblock  ntrial  nrep stim_cond  cond-1 cong_deci   \n",
       "885  s02     repeat       0       0     0         D       0         I  \\\n",
       "886  s02     repeat       0       0     0         D       0         I   \n",
       "887  s02     repeat       0       0     0         D       0         I   \n",
       "888  s02     repeat       0       0     0         D       0         I   \n",
       "889  s02     repeat       0       0     0         C       0         C   \n",
       "\n",
       "    cong_stim  cond  ...  corr-1  correct  confi  conf_lvl  correct-1   \n",
       "885         I     1  ...       0        1   0.85         H          0  \\\n",
       "886         I     1  ...       0        1   0.85         H          0   \n",
       "887         I     1  ...       0        1   0.85         H          0   \n",
       "888         I     1  ...       0        1   0.85         H          0   \n",
       "889         C     1  ...       0        1   0.85         H          0   \n",
       "\n",
       "           RT stim        dv      orient        ov  \n",
       "885  2.172867   d1  0.541138  124.675616  0.229431  \n",
       "886  2.172867   d2  0.558445   35.065017 -0.220777  \n",
       "887  2.172867   d3  0.086309  155.558041 -0.456845  \n",
       "888  2.172867   d4  0.500395  123.758884  0.249803  \n",
       "889  2.172867   d5 -0.207526  107.830657  0.603763  \n",
       "\n",
       "[5 rows x 23 columns]"
      ]
     },
     "metadata": {},
     "output_type": "display_data"
    }
   ],
   "source": [
    "if dataset == 'eeg':\n",
    "    print(st_epoch.metadata.shape)\n",
    "    display(st_epoch.metadata.head())\n",
    "\n",
    "# shape for 20 subj: (1543, 23)\n"
   ]
  },
  {
   "cell_type": "code",
   "execution_count": 11,
   "id": "1b5292f7",
   "metadata": {},
   "outputs": [],
   "source": [
    "# stophere"
   ]
  },
  {
   "attachments": {},
   "cell_type": "markdown",
   "id": "6b5408c8",
   "metadata": {},
   "source": [
    "# Procedure for multisubject"
   ]
  },
  {
   "cell_type": "code",
   "execution_count": 12,
   "id": "c8ed4a31-37bf-41e0-9c11-81fda649ca6c",
   "metadata": {},
   "outputs": [
    {
     "name": "stdout",
     "output_type": "stream",
     "text": [
      "0\n",
      "(31, 201, 518) (518,)\n",
      "1\n",
      "(31, 201, 450) (450,)\n"
     ]
    }
   ],
   "source": [
    "from DecToolbox import CV_encoder, CreateFolds\n",
    "\n",
    "nSubj = len(subjs_list)\n",
    "preds = [None] * nSubj\n",
    "G = [None] * nSubj\n",
    "\n",
    "for subj in range(nSubj):\n",
    "    print(subj)\n",
    "    time = all_st_epochs[subj].times\n",
    "    label = all_st_epochs[subj].ch_names\n",
    "    Y = all_st_rawdata[subj]['epoch_dat']\n",
    "    Y = np.einsum('kji->jik', Y)\n",
    "    Y = np.delete(Y, 25, axis=0)\n",
    "\n",
    "    X = np.array(all_st_rawdata[subj]['metadata'].orient)\n",
    "    X = np.digitize(X, bins = np.array(angles))-1.\n",
    "    print(Y.shape, X.shape)\n",
    "    phi = X * (180./numC)\n",
    "    numF, numT, numN = Y.shape\n",
    "\n",
    "    G[subj] = X.copy() \n",
    "    \n",
    "    CONDS = np.unique(G[subj])\n",
    "    nConds = CONDS.size\n",
    "    \n",
    "    design, sortedesign = dt.stim_features(phi, cfg_stim)\n",
    "    \n",
    "    Xhat = np.zeros([numC,numN, numT])\n",
    "    for it in range(numT):\n",
    "\n",
    "        Xhat[:,:,it] \n",
    "    \n",
    "    preds[subj] = Xhat   "
   ]
  },
  {
   "cell_type": "code",
   "execution_count": 13,
   "id": "b3932267-b1bc-415d-95ef-f7e26b88c269",
   "metadata": {},
   "outputs": [
    {
     "name": "stdout",
     "output_type": "stream",
     "text": [
      "(8, 450, 201)\n"
     ]
    }
   ],
   "source": [
    "m_centered = np.zeros((numC,numC, numT, nSubj))\n",
    "for ival, isubj in enumerate(subjs_list):\n",
    "    Xhat = preds[ival]\n",
    "    Xhat_centered = 0*Xhat.copy()\n",
    "    \n",
    "    for ic in range(numC): # here trials that match similar label orientation are shifted together x positions (np.roll)\n",
    "        Xhat_centered[:, G[ival] == ic,:] = np.roll(Xhat[:,G[ival] == ic,:], -ic, axis = 0)\n",
    "        m_centered[:,ic, :, ival] =  np.mean( Xhat_centered[:,  G[ival] == ic, :], axis = 1)\n",
    "\n",
    "print(Xhat.shape)"
   ]
  },
  {
   "cell_type": "code",
   "execution_count": 14,
   "id": "22f8b61c",
   "metadata": {},
   "outputs": [
    {
     "name": "stdout",
     "output_type": "stream",
     "text": [
      "(8, 8, 201, 2)\n"
     ]
    }
   ],
   "source": [
    "print(m_centered.shape)"
   ]
  },
  {
   "cell_type": "code",
   "execution_count": 15,
   "id": "5f73b092",
   "metadata": {},
   "outputs": [
    {
     "name": "stdout",
     "output_type": "stream",
     "text": [
      "(8, 201, 2)\n",
      "(8, 201)\n"
     ]
    }
   ],
   "source": [
    "Xhat_centeredmean = np.mean( m_centered, axis = 1)\n",
    "print(Xhat_centeredmean.shape)\n",
    "Xhat_centeredmean = np.mean( Xhat_centeredmean, axis = 2)\n",
    "print(Xhat_centeredmean.shape)"
   ]
  },
  {
   "cell_type": "code",
   "execution_count": null,
   "id": "2cccf798",
   "metadata": {},
   "outputs": [],
   "source": []
  },
  {
   "cell_type": "code",
   "execution_count": 16,
   "id": "c6c4c47d",
   "metadata": {},
   "outputs": [
    {
     "data": {
      "text/plain": [
       "<matplotlib.colorbar.Colorbar at 0x7fb471ca3640>"
      ]
     },
     "execution_count": 16,
     "metadata": {},
     "output_type": "execute_result"
    },
    {
     "data": {
      "image/png": "[encoded data removed]",
      "text/plain": [
       "<Figure size 600x300 with 2 Axes>"
      ]
     },
     "metadata": {},
     "output_type": "display_data"
    }
   ],
   "source": [
    "max_abs = np.max(np.abs(Xhat_centeredmean))\n",
    "fig, ax = plt.subplots(1, 1, figsize=(6, 3))\n",
    "plt.imshow(Xhat_centeredmean,aspect='auto',  vmin=-max_abs, vmax=max_abs )\n",
    "plt.colorbar()\n"
   ]
  },
  {
   "cell_type": "code",
   "execution_count": 17,
   "id": "806399d7",
   "metadata": {},
   "outputs": [
    {
     "ename": "NameError",
     "evalue": "name 'stophere' is not defined",
     "output_type": "error",
     "traceback": [
      "\u001b[0;31m---------------------------------------------------------------------------\u001b[0m",
      "\u001b[0;31mNameError\u001b[0m                                 Traceback (most recent call last)",
      "Cell \u001b[0;32mIn[17], line 1\u001b[0m\n\u001b[0;32m----> 1\u001b[0m stophere\n",
      "\u001b[0;31mNameError\u001b[0m: name 'stophere' is not defined"
     ]
    }
   ],
   "source": [
    "stophere"
   ]
  },
  {
   "cell_type": "code",
   "execution_count": null,
   "id": "ef993aff",
   "metadata": {},
   "outputs": [],
   "source": [
    "'''\n",
    "plot uncentered one\n",
    "'''"
   ]
  },
  {
   "attachments": {},
   "cell_type": "markdown",
   "id": "9a49a85b",
   "metadata": {},
   "source": [
    "# crossmodal"
   ]
  },
  {
   "cell_type": "code",
   "execution_count": null,
   "id": "0912ec9f",
   "metadata": {},
   "outputs": [],
   "source": [
    "from DecToolbox import CV_TG_encoder\n",
    "\n",
    "nSubj = len(subjs_list)\n",
    "Zpreds = [None] * nSubj\n",
    "G = [None] * nSubj\n",
    "\n",
    "for subj in range(nSubj):\n",
    "    print(subj)\n",
    "    time = all_st_epochs[subj].times\n",
    "    label = all_st_epochs[subj].ch_names\n",
    "    Y = all_st_rawdata[subj]['epoch_dat']\n",
    "    Y = np.einsum('kji->jik', Y)\n",
    "    Y = np.delete(Y, 25, axis=0)\n",
    "\n",
    "    X = np.array(all_st_rawdata[subj]['metadata'].orient)\n",
    "    X = np.digitize(X, bins = np.array(angles))-1.\n",
    "    phi = X * (180./numC)\n",
    "    numF, numT, numN = Y.shape\n",
    "\n",
    "    G[subj] = X.copy() \n",
    "    \n",
    "    CONDS = np.unique(G[subj])\n",
    "    nConds = CONDS.size\n",
    "    nfold = 5\n",
    "    FoldsIdx = dt.CreateFolds(G[subj], Y, nfold)\n",
    "    \n",
    "    design, sortedesign = dt.stim_features(phi, cfg_stim)\n",
    "    \n",
    "    Xhat = np.zeros([numC,numN, numT, numT])\n",
    "    for it in range(numT):\n",
    "        cfg = dict()\n",
    "        cfg['cfgE'] = {'gamma': 0.01, 'demean' : True, 'returnPattern' : True}\n",
    "        cfg['cfgD'] = {'demean' : 'traindata'}\n",
    "        Xhat[:,:,it,:] = CV_TG_encoder(design, Y, it, cfg, FoldsIdx)\n",
    "    \n",
    "    Zpreds[subj] = Xhat   "
   ]
  },
  {
   "cell_type": "code",
   "execution_count": null,
   "id": "e922ec5f",
   "metadata": {},
   "outputs": [],
   "source": [
    "m_centered = np.zeros((numC,numC, numT,numT, nSubj))\n",
    "for ival, isubj in enumerate(subjs_list):\n",
    "    Zhat = Zpreds[ival]\n",
    "    Zhat_centered = 0*Zhat.copy()\n",
    "    \n",
    "    for ic in range(numC): # here trials that match similar label orientation are shifted together x positions (np.roll)\n",
    "        Zhat_centered[:, G[ival] == ic,:] = np.roll(Zhat[:,G[ival] == ic,:], -ic, axis = 0)\n",
    "        m_centered[:,ic, :, :, ival] =  np.mean( Zhat_centered[:,  G[ival] == ic, :], axis = 1)"
   ]
  },
  {
   "cell_type": "code",
   "execution_count": null,
   "id": "fd55572e",
   "metadata": {},
   "outputs": [],
   "source": [
    "print(Zhat.shape, m_centered.shape)"
   ]
  },
  {
   "cell_type": "code",
   "execution_count": null,
   "id": "1022bb23",
   "metadata": {},
   "outputs": [],
   "source": [
    "Zhat_centered_subjmean = np.mean(m_centered,axis=1)\n",
    "print(Zhat_centered_subjmean.shape)\n",
    "Zhat_timecentered = np.mean(Zhat_centered_subjmean, axis = 3)\n",
    "Zhat_timecentered = np.mean(Zhat_timecentered, axis = 2)\n",
    "\n",
    "\n",
    "fig, ax = plt.subplots(1, 1, figsize=(6, 3))\n",
    "plt.imshow(Zhat_timecentered,aspect='auto')\n",
    "plt.colorbar()\n"
   ]
  },
  {
   "cell_type": "code",
   "execution_count": null,
   "id": "ebcc8125",
   "metadata": {},
   "outputs": [],
   "source": [
    "r = np.zeros((numT, numT))\n",
    "\n",
    "for it1 in range(numT):\n",
    "    for it2 in range(numT):\n",
    "        # Kernel to back project channel outputs to orientation space\n",
    "        kernel = np.exp(1j * (np.linspace(0, numC-1,numC)*(2*np.pi/numC)))\n",
    "        Z = kernel @ Xhat[:,:, it1, it2]\n",
    "\n",
    "        theta = np.mod(np.angle(Z), 2*np.pi) * (180/np.pi) / 2    # Decoded orientation (retain the module of the complex number)\n",
    "\n",
    "        rs = np.mean(np.exp(1j * (theta - phi) * (np.pi/180)*2)) # correlation between decoded and presented orientation\n",
    "        r[it1, it2] = np.abs(rs) * np.cos(np.angle(rs))\n",
    "'''1 min mac'''"
   ]
  },
  {
   "cell_type": "code",
   "execution_count": null,
   "id": "fcfcba5a",
   "metadata": {},
   "outputs": [],
   "source": [
    "print(r)"
   ]
  },
  {
   "cell_type": "code",
   "execution_count": null,
   "id": "f82ab309",
   "metadata": {},
   "outputs": [],
   "source": [
    "time_labels = [0, 0.2, 0.4, 0.6]\n",
    "fig, ax = plt.subplots(1, 1, figsize=(4, 4))\n",
    "plt.imshow(r, aspect= 1, interpolation = None, vmin = -0.25, vmax = 0.25, origin = 'lower',extent=[time[0],time[-1],time[0],time[-1]])\n",
    "plt.colorbar()"
   ]
  },
  {
   "cell_type": "code",
   "execution_count": null,
   "id": "10931ce9",
   "metadata": {},
   "outputs": [],
   "source": [
    "end = tic.time()\n",
    "print(end-start)"
   ]
  },
  {
   "cell_type": "code",
   "execution_count": null,
   "id": "bd2479b0",
   "metadata": {},
   "outputs": [],
   "source": []
  }
 ],
 "metadata": {
  "kernelspec": {
   "display_name": "Python 3 (ipykernel)",
   "language": "python",
   "name": "python3"
  },
  "language_info": {
   "codemirror_mode": {
    "name": "ipython",
    "version": 3
   },
   "file_extension": ".py",
   "mimetype": "text/x-python",
   "name": "python",
   "nbconvert_exporter": "python",
   "pygments_lexer": "ipython3",
   "version": "3.10.11"
  },
  "vscode": {
   "interpreter": {
    "hash": "78277f196899d30b09f8eb84b1d60d6cc910a2e198812045736ce186b763ced0"
   }
  }
 },
 "nbformat": 4,
 "nbformat_minor": 5
}
