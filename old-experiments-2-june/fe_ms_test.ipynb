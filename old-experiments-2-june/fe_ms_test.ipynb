{
 "cells": [
  {
   "attachments": {},
   "cell_type": "markdown",
   "id": "c19c0239",
   "metadata": {},
   "source": [
    "# Forward encoding model based on Pim Mostert Decoding toolbox\n",
    "\n"
   ]
  },
  {
   "cell_type": "code",
   "execution_count": 1,
   "id": "66196b97",
   "metadata": {},
   "outputs": [
    {
     "name": "stdout",
     "output_type": "stream",
     "text": [
      "/Users/junjieji/Desktop/master-thesis\n"
     ]
    }
   ],
   "source": [
    "!pwd"
   ]
  },
  {
   "cell_type": "code",
   "execution_count": 2,
   "id": "caf2024a-a3d1-4443-bd51-316a254d607f",
   "metadata": {},
   "outputs": [],
   "source": [
    "import sys\n",
    "import time as tic\n",
    "# %matplotlib qt\n",
    "from scipy.io import loadmat\n",
    "import numpy as np\n",
    "import pandas as pd\n",
    "import mat73\n",
    "\n",
    "import inspect #path_fun = inspect.getfile(StratifiedKFold)\n",
    "import matplotlib.pyplot as plt\n",
    "import DecToolbox as dt\n",
    "import mne\n",
    "import os\n",
    "import random\n",
    "\n",
    "from statsmodels.tsa.stattools import coint\n"
   ]
  },
  {
   "cell_type": "code",
   "execution_count": 3,
   "id": "42704760",
   "metadata": {},
   "outputs": [],
   "source": [
    "path_utils = '/decoding_toolbox_py/helper_funcs' \n",
    "sys.path.append(path_utils)"
   ]
  },
  {
   "attachments": {},
   "cell_type": "markdown",
   "id": "801a0115",
   "metadata": {},
   "source": [
    "# Variables"
   ]
  },
  {
   "cell_type": "code",
   "execution_count": 4,
   "id": "64a70757",
   "metadata": {},
   "outputs": [],
   "source": [
    "start = tic.time()"
   ]
  },
  {
   "cell_type": "code",
   "execution_count": 41,
   "id": "ba297065",
   "metadata": {},
   "outputs": [],
   "source": [
    "''' VARIABLES '''\n",
    "\n",
    "dataset = 'eeg'\n",
    "\n",
    "amount_of_subjects = 2 # Change the range so the process is faster\n",
    "\n",
    "numC = 8\n",
    "angles = [i * 180./numC for i in range(numC)]\n",
    "x_labels = np.array(angles)\n",
    "\n",
    "resample = False # speeds up the procees but showing worse results overall\n",
    "if resample: resample_frequency = 20 # in Hz, original freq is 500Hz\n",
    "\n",
    "cfg_stim = dict()\n",
    "cfg_stim['kappa'] = 4\n",
    "cfg_stim['NumC'] = numC\n",
    "cfg_stim['Tuning'] = 'vonmises'\n",
    "# cfg_stim['Tuning'] = 'halfRectCos'\n",
    "cfg_stim['offset'] = 0\n",
    "\n",
    "cfg_train = dict()\n",
    "cfg_train['gamma'] = 0.01\n",
    "cfg_train['demean'] = True\n",
    "cfg_train['returnPattern'] = True\n",
    "\n",
    "cfg_test = dict()\n",
    "cfg_test['demean'] = 'traindata'"
   ]
  },
  {
   "attachments": {},
   "cell_type": "markdown",
   "id": "9f0f5209-8015-49bd-b6df-ecf3a1247651",
   "metadata": {},
   "source": [
    "# Loading & preparing orientation data"
   ]
  },
  {
   "cell_type": "code",
   "execution_count": 42,
   "id": "c9c035db-ba98-4c6a-a62e-e963ce32e8d0",
   "metadata": {},
   "outputs": [
    {
     "name": "stdout",
     "output_type": "stream",
     "text": [
      "NOTE: pick_channels() is a legacy function. New code should use inst.pick(...).\n",
      "NOTE: pick_channels() is a legacy function. New code should use inst.pick(...).\n",
      "NOTE: pick_channels() is a legacy function. New code should use inst.pick(...).\n",
      "NOTE: pick_channels() is a legacy function. New code should use inst.pick(...).\n",
      "NOTE: pick_channels() is a legacy function. New code should use inst.pick(...).\n",
      "NOTE: pick_channels() is a legacy function. New code should use inst.pick(...).\n",
      "NOTE: pick_channels() is a legacy function. New code should use inst.pick(...).\n",
      "Identifying common channels ...\n",
      "NOTE: pick_channels() is a legacy function. New code should use inst.pick(...).\n",
      "NOTE: pick_channels() is a legacy function. New code should use inst.pick(...).\n",
      "NOTE: pick_channels() is a legacy function. New code should use inst.pick(...).\n",
      "NOTE: pick_channels() is a legacy function. New code should use inst.pick(...).\n",
      "NOTE: pick_channels() is a legacy function. New code should use inst.pick(...).\n",
      "NOTE: pick_channels() is a legacy function. New code should use inst.pick(...).\n",
      "NOTE: pick_channels() is a legacy function. New code should use inst.pick(...).\n",
      "Dropped the following channels:\n",
      "['FCz', 'FT9']\n"
     ]
    }
   ],
   "source": [
    "'''EEG Dataset'''\n",
    "if amount_of_subjects > 26: amount_of_subjects = 26\n",
    "subjs_list = ['s{:02d}'.format(i) for i in range(1, amount_of_subjects+1) if i != 6 ] \n",
    "path = 'Cond_CJ_EEG'\n",
    "\n",
    "epochs = []\n",
    "all_epochs = []\n",
    "all_rawdata = []\n",
    "all_st_epochs = []\n",
    "all_st_rawdata = []\n",
    "for subject_id in subjs_list:\n",
    "    preproc_path = os.path.join(path, subject_id)\n",
    "    \n",
    "    epoch = mne.read_epochs(os.path.join(preproc_path, 'main_epo.fif'), verbose=False)\n",
    "    epochs.append(epoch.average())\n",
    "    all_epochs.append(epoch)\n",
    "    all_rawdata.append({'epoch_dat': epoch.get_data(), 'metadata': epoch.metadata})\n",
    "    st_epoch = mne.read_epochs(os.path.join(preproc_path, 'mainstim_epo.fif'), verbose=False)\n",
    "    # print(st_epoch.info['sfreq'])\n",
    "    if resample: \n",
    "        print('Frequency before:', st_epoch.info['sfreq'])\n",
    "        st_epoch = st_epoch.resample(resample_frequency)\n",
    "        print('Frequency after:' ,st_epoch.info['sfreq'])\n",
    "    all_st_epochs.append(st_epoch)\n",
    "    all_st_rawdata.append({'epoch_dat': st_epoch.get_data(), 'metadata': st_epoch.metadata})\n",
    "gvaverage = mne.grand_average(epochs[:])"
   ]
  },
  {
   "cell_type": "code",
   "execution_count": 43,
   "id": "e55792ac",
   "metadata": {},
   "outputs": [
    {
     "name": "stdout",
     "output_type": "stream",
     "text": [
      "(247, 35)\n"
     ]
    },
    {
     "data": {
      "text/plain": [
       "array([0, 1, 2, 0, 1, 0, 1, 2, 0, 1, 2, 0, 1, 2, 0, 1, 2, 1, 2, 0, 1, 2,\n",
       "       0, 1, 2, 0, 1, 2, 0, 1, 1, 2, 0, 1, 2, 0, 1, 2, 0, 1, 2, 0, 1, 2,\n",
       "       0, 1, 2, 0, 1, 0, 1, 2, 0, 1, 2, 0, 1, 2, 0, 1, 2, 1, 2, 0, 1, 2,\n",
       "       0, 1, 2, 0, 1, 2, 0, 1, 2, 0, 2, 0, 1, 2, 0, 1, 2, 0, 1, 2, 0, 1,\n",
       "       2, 0, 1, 2, 1, 2, 0, 1, 2, 1, 2, 0, 1, 2, 0, 1, 2, 0, 1, 2, 0, 1,\n",
       "       2, 0, 2, 0, 1, 2, 0, 1, 2, 0, 1, 2, 0, 1, 2, 0, 1, 2, 0, 1, 2, 0,\n",
       "       1, 2, 0, 1, 2, 0, 1, 2, 1, 2, 0, 1, 2, 0, 2, 0, 1, 2, 0, 1, 2, 0,\n",
       "       1, 2, 1, 2, 1, 2, 0, 1, 2, 0, 1, 2, 0, 1, 2, 0, 1, 2, 0, 1, 2, 0,\n",
       "       1, 2, 0, 1, 2, 0, 1, 2, 0, 1, 2, 1, 2, 0, 1, 2, 0, 1, 2, 0, 1, 2,\n",
       "       0, 1, 2, 0, 1, 2, 0, 1, 2, 0, 1, 2, 0, 1, 2, 0, 1, 2, 0, 1, 2, 0,\n",
       "       1, 2, 0, 1, 2, 0, 1, 2, 0, 1, 2, 0, 1, 2, 0, 1, 2, 0, 1, 2, 0, 1,\n",
       "       2, 1, 0, 1, 2])"
      ]
     },
     "metadata": {},
     "output_type": "display_data"
    }
   ],
   "source": [
    "if dataset == 'eeg':\n",
    "    print(epoch.metadata.shape)\n",
    "    display(epoch.metadata['nrep'].values)"
   ]
  },
  {
   "cell_type": "code",
   "execution_count": 44,
   "id": "ca39a44b",
   "metadata": {},
   "outputs": [
    {
     "name": "stdout",
     "output_type": "stream",
     "text": [
      "(1528, 23)\n"
     ]
    },
    {
     "data": {
      "text/html": [
       "<div>\n",
       "<style scoped>\n",
       "    .dataframe tbody tr th:only-of-type {\n",
       "        vertical-align: middle;\n",
       "    }\n",
       "\n",
       "    .dataframe tbody tr th {\n",
       "        vertical-align: top;\n",
       "    }\n",
       "\n",
       "    .dataframe thead th {\n",
       "        text-align: right;\n",
       "    }\n",
       "</style>\n",
       "<table border=\"1\" class=\"dataframe\">\n",
       "  <thead>\n",
       "    <tr style=\"text-align: right;\">\n",
       "      <th></th>\n",
       "      <th>subj</th>\n",
       "      <th>trial_type</th>\n",
       "      <th>nblock</th>\n",
       "      <th>ntrial</th>\n",
       "      <th>nrep</th>\n",
       "      <th>stim_cond</th>\n",
       "      <th>cond-1</th>\n",
       "      <th>cong_deci</th>\n",
       "      <th>cong_stim</th>\n",
       "      <th>cond</th>\n",
       "      <th>...</th>\n",
       "      <th>corr-1</th>\n",
       "      <th>correct</th>\n",
       "      <th>confi</th>\n",
       "      <th>conf_lvl</th>\n",
       "      <th>correct-1</th>\n",
       "      <th>RT</th>\n",
       "      <th>stim</th>\n",
       "      <th>dv</th>\n",
       "      <th>orient</th>\n",
       "      <th>ov</th>\n",
       "    </tr>\n",
       "  </thead>\n",
       "  <tbody>\n",
       "    <tr>\n",
       "      <th>885</th>\n",
       "      <td>s08</td>\n",
       "      <td>nonrepeat</td>\n",
       "      <td>0</td>\n",
       "      <td>0</td>\n",
       "      <td>0</td>\n",
       "      <td>C</td>\n",
       "      <td>0</td>\n",
       "      <td>C</td>\n",
       "      <td>C</td>\n",
       "      <td>1</td>\n",
       "      <td>...</td>\n",
       "      <td>0</td>\n",
       "      <td>1</td>\n",
       "      <td>0.2</td>\n",
       "      <td>H</td>\n",
       "      <td>0</td>\n",
       "      <td>2.385152</td>\n",
       "      <td>d1</td>\n",
       "      <td>-0.221296</td>\n",
       "      <td>72.479161</td>\n",
       "      <td>0.610648</td>\n",
       "    </tr>\n",
       "    <tr>\n",
       "      <th>886</th>\n",
       "      <td>s08</td>\n",
       "      <td>nonrepeat</td>\n",
       "      <td>0</td>\n",
       "      <td>0</td>\n",
       "      <td>0</td>\n",
       "      <td>D</td>\n",
       "      <td>0</td>\n",
       "      <td>I</td>\n",
       "      <td>I</td>\n",
       "      <td>1</td>\n",
       "      <td>...</td>\n",
       "      <td>0</td>\n",
       "      <td>1</td>\n",
       "      <td>0.2</td>\n",
       "      <td>H</td>\n",
       "      <td>0</td>\n",
       "      <td>2.385152</td>\n",
       "      <td>d2</td>\n",
       "      <td>0.871662</td>\n",
       "      <td>42.112398</td>\n",
       "      <td>-0.064169</td>\n",
       "    </tr>\n",
       "    <tr>\n",
       "      <th>887</th>\n",
       "      <td>s08</td>\n",
       "      <td>nonrepeat</td>\n",
       "      <td>0</td>\n",
       "      <td>0</td>\n",
       "      <td>0</td>\n",
       "      <td>C</td>\n",
       "      <td>0</td>\n",
       "      <td>C</td>\n",
       "      <td>C</td>\n",
       "      <td>1</td>\n",
       "      <td>...</td>\n",
       "      <td>0</td>\n",
       "      <td>1</td>\n",
       "      <td>0.2</td>\n",
       "      <td>H</td>\n",
       "      <td>0</td>\n",
       "      <td>2.385152</td>\n",
       "      <td>d3</td>\n",
       "      <td>-0.982175</td>\n",
       "      <td>0.401070</td>\n",
       "      <td>-0.991087</td>\n",
       "    </tr>\n",
       "    <tr>\n",
       "      <th>888</th>\n",
       "      <td>s08</td>\n",
       "      <td>nonrepeat</td>\n",
       "      <td>0</td>\n",
       "      <td>0</td>\n",
       "      <td>0</td>\n",
       "      <td>D</td>\n",
       "      <td>0</td>\n",
       "      <td>I</td>\n",
       "      <td>I</td>\n",
       "      <td>1</td>\n",
       "      <td>...</td>\n",
       "      <td>0</td>\n",
       "      <td>1</td>\n",
       "      <td>0.2</td>\n",
       "      <td>H</td>\n",
       "      <td>0</td>\n",
       "      <td>2.385152</td>\n",
       "      <td>d4</td>\n",
       "      <td>0.074614</td>\n",
       "      <td>24.178819</td>\n",
       "      <td>-0.462693</td>\n",
       "    </tr>\n",
       "    <tr>\n",
       "      <th>889</th>\n",
       "      <td>s08</td>\n",
       "      <td>nonrepeat</td>\n",
       "      <td>0</td>\n",
       "      <td>0</td>\n",
       "      <td>0</td>\n",
       "      <td>D</td>\n",
       "      <td>0</td>\n",
       "      <td>I</td>\n",
       "      <td>I</td>\n",
       "      <td>1</td>\n",
       "      <td>...</td>\n",
       "      <td>0</td>\n",
       "      <td>1</td>\n",
       "      <td>0.2</td>\n",
       "      <td>H</td>\n",
       "      <td>0</td>\n",
       "      <td>2.385152</td>\n",
       "      <td>d5</td>\n",
       "      <td>0.911887</td>\n",
       "      <td>46.982539</td>\n",
       "      <td>0.044056</td>\n",
       "    </tr>\n",
       "  </tbody>\n",
       "</table>\n",
       "<p>5 rows × 23 columns</p>\n",
       "</div>"
      ],
      "text/plain": [
       "    subj trial_type  nblock  ntrial  nrep stim_cond  cond-1 cong_deci   \n",
       "885  s08  nonrepeat       0       0     0         C       0         C  \\\n",
       "886  s08  nonrepeat       0       0     0         D       0         I   \n",
       "887  s08  nonrepeat       0       0     0         C       0         C   \n",
       "888  s08  nonrepeat       0       0     0         D       0         I   \n",
       "889  s08  nonrepeat       0       0     0         D       0         I   \n",
       "\n",
       "    cong_stim  cond  ...  corr-1  correct  confi  conf_lvl  correct-1   \n",
       "885         C     1  ...       0        1    0.2         H          0  \\\n",
       "886         I     1  ...       0        1    0.2         H          0   \n",
       "887         C     1  ...       0        1    0.2         H          0   \n",
       "888         I     1  ...       0        1    0.2         H          0   \n",
       "889         I     1  ...       0        1    0.2         H          0   \n",
       "\n",
       "           RT stim        dv     orient        ov  \n",
       "885  2.385152   d1 -0.221296  72.479161  0.610648  \n",
       "886  2.385152   d2  0.871662  42.112398 -0.064169  \n",
       "887  2.385152   d3 -0.982175   0.401070 -0.991087  \n",
       "888  2.385152   d4  0.074614  24.178819 -0.462693  \n",
       "889  2.385152   d5  0.911887  46.982539  0.044056  \n",
       "\n",
       "[5 rows x 23 columns]"
      ]
     },
     "metadata": {},
     "output_type": "display_data"
    }
   ],
   "source": [
    "if dataset == 'eeg':\n",
    "    print(st_epoch.metadata.shape)\n",
    "    display(st_epoch.metadata.head())"
   ]
  },
  {
   "cell_type": "code",
   "execution_count": 45,
   "id": "731f6a0b",
   "metadata": {},
   "outputs": [
    {
     "data": {
      "text/html": [
       "<div>\n",
       "<style scoped>\n",
       "    .dataframe tbody tr th:only-of-type {\n",
       "        vertical-align: middle;\n",
       "    }\n",
       "\n",
       "    .dataframe tbody tr th {\n",
       "        vertical-align: top;\n",
       "    }\n",
       "\n",
       "    .dataframe thead th {\n",
       "        text-align: right;\n",
       "    }\n",
       "</style>\n",
       "<table border=\"1\" class=\"dataframe\">\n",
       "  <thead>\n",
       "    <tr style=\"text-align: right;\">\n",
       "      <th></th>\n",
       "      <th>subj</th>\n",
       "      <th>trial_type</th>\n",
       "      <th>nblock</th>\n",
       "      <th>ntrial</th>\n",
       "      <th>nrep</th>\n",
       "      <th>stim_cond</th>\n",
       "      <th>cond-1</th>\n",
       "      <th>cong_deci</th>\n",
       "      <th>cong_stim</th>\n",
       "      <th>cond</th>\n",
       "      <th>...</th>\n",
       "      <th>corr-1</th>\n",
       "      <th>correct</th>\n",
       "      <th>confi</th>\n",
       "      <th>conf_lvl</th>\n",
       "      <th>correct-1</th>\n",
       "      <th>RT</th>\n",
       "      <th>stim</th>\n",
       "      <th>dv</th>\n",
       "      <th>orient</th>\n",
       "      <th>ov</th>\n",
       "    </tr>\n",
       "  </thead>\n",
       "  <tbody>\n",
       "    <tr>\n",
       "      <th>885</th>\n",
       "      <td>s01</td>\n",
       "      <td>repeat</td>\n",
       "      <td>0</td>\n",
       "      <td>0</td>\n",
       "      <td>0</td>\n",
       "      <td>D</td>\n",
       "      <td>0</td>\n",
       "      <td>I</td>\n",
       "      <td>I</td>\n",
       "      <td>0</td>\n",
       "      <td>...</td>\n",
       "      <td>0</td>\n",
       "      <td>1</td>\n",
       "      <td>-0.10</td>\n",
       "      <td>L</td>\n",
       "      <td>0</td>\n",
       "      <td>1.224911</td>\n",
       "      <td>d1</td>\n",
       "      <td>0.132146</td>\n",
       "      <td>154.526717</td>\n",
       "      <td>-0.433927</td>\n",
       "    </tr>\n",
       "    <tr>\n",
       "      <th>886</th>\n",
       "      <td>s01</td>\n",
       "      <td>repeat</td>\n",
       "      <td>0</td>\n",
       "      <td>0</td>\n",
       "      <td>0</td>\n",
       "      <td>D</td>\n",
       "      <td>0</td>\n",
       "      <td>I</td>\n",
       "      <td>I</td>\n",
       "      <td>0</td>\n",
       "      <td>...</td>\n",
       "      <td>0</td>\n",
       "      <td>1</td>\n",
       "      <td>-0.10</td>\n",
       "      <td>L</td>\n",
       "      <td>0</td>\n",
       "      <td>1.224911</td>\n",
       "      <td>d2</td>\n",
       "      <td>0.820733</td>\n",
       "      <td>40.966482</td>\n",
       "      <td>-0.089634</td>\n",
       "    </tr>\n",
       "    <tr>\n",
       "      <th>887</th>\n",
       "      <td>s01</td>\n",
       "      <td>repeat</td>\n",
       "      <td>0</td>\n",
       "      <td>0</td>\n",
       "      <td>0</td>\n",
       "      <td>C</td>\n",
       "      <td>0</td>\n",
       "      <td>C</td>\n",
       "      <td>C</td>\n",
       "      <td>0</td>\n",
       "      <td>...</td>\n",
       "      <td>0</td>\n",
       "      <td>1</td>\n",
       "      <td>-0.10</td>\n",
       "      <td>L</td>\n",
       "      <td>0</td>\n",
       "      <td>1.224911</td>\n",
       "      <td>d3</td>\n",
       "      <td>-0.154050</td>\n",
       "      <td>109.033868</td>\n",
       "      <td>0.577025</td>\n",
       "    </tr>\n",
       "    <tr>\n",
       "      <th>888</th>\n",
       "      <td>s01</td>\n",
       "      <td>repeat</td>\n",
       "      <td>0</td>\n",
       "      <td>0</td>\n",
       "      <td>0</td>\n",
       "      <td>C</td>\n",
       "      <td>0</td>\n",
       "      <td>C</td>\n",
       "      <td>C</td>\n",
       "      <td>0</td>\n",
       "      <td>...</td>\n",
       "      <td>0</td>\n",
       "      <td>1</td>\n",
       "      <td>-0.10</td>\n",
       "      <td>L</td>\n",
       "      <td>0</td>\n",
       "      <td>1.224911</td>\n",
       "      <td>d4</td>\n",
       "      <td>-0.986749</td>\n",
       "      <td>90.298149</td>\n",
       "      <td>0.993374</td>\n",
       "    </tr>\n",
       "    <tr>\n",
       "      <th>889</th>\n",
       "      <td>s01</td>\n",
       "      <td>repeat</td>\n",
       "      <td>0</td>\n",
       "      <td>0</td>\n",
       "      <td>0</td>\n",
       "      <td>C</td>\n",
       "      <td>0</td>\n",
       "      <td>C</td>\n",
       "      <td>C</td>\n",
       "      <td>0</td>\n",
       "      <td>...</td>\n",
       "      <td>0</td>\n",
       "      <td>1</td>\n",
       "      <td>-0.10</td>\n",
       "      <td>L</td>\n",
       "      <td>0</td>\n",
       "      <td>1.224911</td>\n",
       "      <td>d5</td>\n",
       "      <td>-0.091426</td>\n",
       "      <td>69.557076</td>\n",
       "      <td>0.545713</td>\n",
       "    </tr>\n",
       "    <tr>\n",
       "      <th>...</th>\n",
       "      <td>...</td>\n",
       "      <td>...</td>\n",
       "      <td>...</td>\n",
       "      <td>...</td>\n",
       "      <td>...</td>\n",
       "      <td>...</td>\n",
       "      <td>...</td>\n",
       "      <td>...</td>\n",
       "      <td>...</td>\n",
       "      <td>...</td>\n",
       "      <td>...</td>\n",
       "      <td>...</td>\n",
       "      <td>...</td>\n",
       "      <td>...</td>\n",
       "      <td>...</td>\n",
       "      <td>...</td>\n",
       "      <td>...</td>\n",
       "      <td>...</td>\n",
       "      <td>...</td>\n",
       "      <td>...</td>\n",
       "      <td>...</td>\n",
       "    </tr>\n",
       "    <tr>\n",
       "      <th>4282</th>\n",
       "      <td>s01</td>\n",
       "      <td>nonrepeat</td>\n",
       "      <td>3</td>\n",
       "      <td>21</td>\n",
       "      <td>0</td>\n",
       "      <td>C</td>\n",
       "      <td>0</td>\n",
       "      <td>C</td>\n",
       "      <td>C</td>\n",
       "      <td>1</td>\n",
       "      <td>...</td>\n",
       "      <td>1</td>\n",
       "      <td>1</td>\n",
       "      <td>0.85</td>\n",
       "      <td>H</td>\n",
       "      <td>1</td>\n",
       "      <td>0.974812</td>\n",
       "      <td>d2</td>\n",
       "      <td>-0.073600</td>\n",
       "      <td>69.156006</td>\n",
       "      <td>0.536800</td>\n",
       "    </tr>\n",
       "    <tr>\n",
       "      <th>4283</th>\n",
       "      <td>s01</td>\n",
       "      <td>nonrepeat</td>\n",
       "      <td>3</td>\n",
       "      <td>21</td>\n",
       "      <td>0</td>\n",
       "      <td>D</td>\n",
       "      <td>0</td>\n",
       "      <td>I</td>\n",
       "      <td>I</td>\n",
       "      <td>1</td>\n",
       "      <td>...</td>\n",
       "      <td>1</td>\n",
       "      <td>1</td>\n",
       "      <td>0.85</td>\n",
       "      <td>H</td>\n",
       "      <td>1</td>\n",
       "      <td>0.974812</td>\n",
       "      <td>d3</td>\n",
       "      <td>0.734152</td>\n",
       "      <td>39.018426</td>\n",
       "      <td>-0.132924</td>\n",
       "    </tr>\n",
       "    <tr>\n",
       "      <th>4284</th>\n",
       "      <td>s01</td>\n",
       "      <td>nonrepeat</td>\n",
       "      <td>3</td>\n",
       "      <td>21</td>\n",
       "      <td>0</td>\n",
       "      <td>C</td>\n",
       "      <td>0</td>\n",
       "      <td>C</td>\n",
       "      <td>C</td>\n",
       "      <td>1</td>\n",
       "      <td>...</td>\n",
       "      <td>1</td>\n",
       "      <td>1</td>\n",
       "      <td>0.85</td>\n",
       "      <td>H</td>\n",
       "      <td>1</td>\n",
       "      <td>0.974812</td>\n",
       "      <td>d4</td>\n",
       "      <td>-0.136225</td>\n",
       "      <td>109.434939</td>\n",
       "      <td>0.568112</td>\n",
       "    </tr>\n",
       "    <tr>\n",
       "      <th>4285</th>\n",
       "      <td>s01</td>\n",
       "      <td>nonrepeat</td>\n",
       "      <td>3</td>\n",
       "      <td>21</td>\n",
       "      <td>0</td>\n",
       "      <td>D</td>\n",
       "      <td>0</td>\n",
       "      <td>I</td>\n",
       "      <td>I</td>\n",
       "      <td>1</td>\n",
       "      <td>...</td>\n",
       "      <td>1</td>\n",
       "      <td>1</td>\n",
       "      <td>0.85</td>\n",
       "      <td>H</td>\n",
       "      <td>1</td>\n",
       "      <td>0.974812</td>\n",
       "      <td>d5</td>\n",
       "      <td>0.890997</td>\n",
       "      <td>137.452575</td>\n",
       "      <td>-0.054502</td>\n",
       "    </tr>\n",
       "    <tr>\n",
       "      <th>4286</th>\n",
       "      <td>s01</td>\n",
       "      <td>nonrepeat</td>\n",
       "      <td>3</td>\n",
       "      <td>21</td>\n",
       "      <td>0</td>\n",
       "      <td>C</td>\n",
       "      <td>0</td>\n",
       "      <td>C</td>\n",
       "      <td>C</td>\n",
       "      <td>1</td>\n",
       "      <td>...</td>\n",
       "      <td>1</td>\n",
       "      <td>1</td>\n",
       "      <td>0.85</td>\n",
       "      <td>H</td>\n",
       "      <td>1</td>\n",
       "      <td>0.974812</td>\n",
       "      <td>d6</td>\n",
       "      <td>-0.651651</td>\n",
       "      <td>82.162148</td>\n",
       "      <td>0.825826</td>\n",
       "    </tr>\n",
       "  </tbody>\n",
       "</table>\n",
       "<p>518 rows × 23 columns</p>\n",
       "</div>"
      ],
      "text/plain": [
       "     subj trial_type  nblock  ntrial  nrep stim_cond  cond-1 cong_deci   \n",
       "885   s01     repeat       0       0     0         D       0         I  \\\n",
       "886   s01     repeat       0       0     0         D       0         I   \n",
       "887   s01     repeat       0       0     0         C       0         C   \n",
       "888   s01     repeat       0       0     0         C       0         C   \n",
       "889   s01     repeat       0       0     0         C       0         C   \n",
       "...   ...        ...     ...     ...   ...       ...     ...       ...   \n",
       "4282  s01  nonrepeat       3      21     0         C       0         C   \n",
       "4283  s01  nonrepeat       3      21     0         D       0         I   \n",
       "4284  s01  nonrepeat       3      21     0         C       0         C   \n",
       "4285  s01  nonrepeat       3      21     0         D       0         I   \n",
       "4286  s01  nonrepeat       3      21     0         C       0         C   \n",
       "\n",
       "     cong_stim  cond  ...  corr-1  correct  confi  conf_lvl  correct-1   \n",
       "885          I     0  ...       0        1  -0.10         L          0  \\\n",
       "886          I     0  ...       0        1  -0.10         L          0   \n",
       "887          C     0  ...       0        1  -0.10         L          0   \n",
       "888          C     0  ...       0        1  -0.10         L          0   \n",
       "889          C     0  ...       0        1  -0.10         L          0   \n",
       "...        ...   ...  ...     ...      ...    ...       ...        ...   \n",
       "4282         C     1  ...       1        1   0.85         H          1   \n",
       "4283         I     1  ...       1        1   0.85         H          1   \n",
       "4284         C     1  ...       1        1   0.85         H          1   \n",
       "4285         I     1  ...       1        1   0.85         H          1   \n",
       "4286         C     1  ...       1        1   0.85         H          1   \n",
       "\n",
       "            RT stim        dv      orient        ov  \n",
       "885   1.224911   d1  0.132146  154.526717 -0.433927  \n",
       "886   1.224911   d2  0.820733   40.966482 -0.089634  \n",
       "887   1.224911   d3 -0.154050  109.033868  0.577025  \n",
       "888   1.224911   d4 -0.986749   90.298149  0.993374  \n",
       "889   1.224911   d5 -0.091426   69.557076  0.545713  \n",
       "...        ...  ...       ...         ...       ...  \n",
       "4282  0.974812   d2 -0.073600   69.156006  0.536800  \n",
       "4283  0.974812   d3  0.734152   39.018426 -0.132924  \n",
       "4284  0.974812   d4 -0.136225  109.434939  0.568112  \n",
       "4285  0.974812   d5  0.890997  137.452575 -0.054502  \n",
       "4286  0.974812   d6 -0.651651   82.162148  0.825826  \n",
       "\n",
       "[518 rows x 23 columns]"
      ]
     },
     "execution_count": 45,
     "metadata": {},
     "output_type": "execute_result"
    }
   ],
   "source": [
    "all_st_rawdata[0]['metadata'][all_st_rawdata[0]['metadata']['nrep']==0]"
   ]
  },
  {
   "cell_type": "code",
   "execution_count": 46,
   "id": "b5ad359e",
   "metadata": {},
   "outputs": [
    {
     "data": {
      "text/plain": [
       "(1563, 32, 201)"
      ]
     },
     "execution_count": 46,
     "metadata": {},
     "output_type": "execute_result"
    }
   ],
   "source": [
    "all_st_rawdata[0]['epoch_dat'].shape"
   ]
  },
  {
   "attachments": {},
   "cell_type": "markdown",
   "id": "6b5408c8",
   "metadata": {},
   "source": [
    "# Procedure for multisubject"
   ]
  },
  {
   "cell_type": "code",
   "execution_count": 47,
   "id": "c8ed4a31-37bf-41e0-9c11-81fda649ca6c",
   "metadata": {},
   "outputs": [
    {
     "name": "stdout",
     "output_type": "stream",
     "text": [
      "0\n",
      "1\n",
      "2\n",
      "3\n",
      "4\n",
      "5\n",
      "6\n"
     ]
    }
   ],
   "source": [
    "from DecToolbox import CV_encoder, CreateFolds\n",
    "\n",
    "nSubj = len(subjs_list)\n",
    "preds = [None] * nSubj\n",
    "G = [None] * nSubj\n",
    "nrep = 0\n",
    "\n",
    "for subj in range(nSubj):\n",
    "    print(subj)\n",
    "    time = all_st_epochs[subj].times\n",
    "    label = all_st_epochs[subj].ch_names\n",
    "    Y = all_st_rawdata[subj]['epoch_dat']\n",
    "    # Y = all_st_rawdata[0]['metadata'][all_st_rawdata[0]['metadata']['nrep']==0]\n",
    "\n",
    "    Y = np.einsum('kji->jik', Y)\n",
    "    Y = np.delete(Y, 25, axis=0)\n",
    "\n",
    "    X = np.array(all_st_rawdata[subj]['metadata'].orient)\n",
    "    X = np.digitize(X, bins = np.array(angles))-1.\n",
    "    phi = X * (180./numC)\n",
    "    numF, numT, numN = Y.shape\n",
    "\n",
    "    G[subj] = X.copy() \n",
    "    \n",
    "    CONDS = np.unique(G[subj])\n",
    "    nConds = CONDS.size\n",
    "    nfold = 5\n",
    "    FoldsIdx = dt.CreateFolds(G[subj], Y, nfold)\n",
    "    \n",
    "    design, sortedesign = dt.stim_features(phi, cfg_stim)\n",
    "    \n",
    "    Xhat = np.zeros([numC,numN, numT])\n",
    "    for it in range(numT):\n",
    "        cfg = dict()\n",
    "        cfg['cfgE'] = {'gamma': 0.01, 'demean' : True, 'returnPattern' : True}\n",
    "        cfg['cfgD'] = {'demean' : 'traindata'}\n",
    "        Xhat[:,:,it] = CV_encoder(design, Y, it, cfg, FoldsIdx)\n",
    "    \n",
    "    preds[subj] = Xhat   "
   ]
  },
  {
   "cell_type": "code",
   "execution_count": null,
   "id": "3f5c7cc0",
   "metadata": {},
   "outputs": [],
   "source": []
  },
  {
   "cell_type": "code",
   "execution_count": 48,
   "id": "842e5db5",
   "metadata": {},
   "outputs": [
    {
     "name": "stdout",
     "output_type": "stream",
     "text": [
      "(31, 201, 1528)\n"
     ]
    }
   ],
   "source": [
    "print(Y.shape)"
   ]
  },
  {
   "cell_type": "code",
   "execution_count": 49,
   "id": "416eae52",
   "metadata": {},
   "outputs": [],
   "source": [
    "# plt.plot(Y[0,:,0])"
   ]
  },
  {
   "cell_type": "code",
   "execution_count": 50,
   "id": "03d036b9",
   "metadata": {},
   "outputs": [
    {
     "name": "stdout",
     "output_type": "stream",
     "text": [
      "(8, 1528, 201)\n"
     ]
    }
   ],
   "source": [
    "print(Xhat.shape)"
   ]
  },
  {
   "cell_type": "code",
   "execution_count": 51,
   "id": "8c01d35a",
   "metadata": {},
   "outputs": [],
   "source": [
    "# plt.plot(Xhat [1,0,:])"
   ]
  },
  {
   "cell_type": "code",
   "execution_count": 52,
   "id": "693effc9",
   "metadata": {},
   "outputs": [
    {
     "data": {
      "text/plain": [
       "<matplotlib.image.AxesImage at 0x7fc0d3b98e50>"
      ]
     },
     "execution_count": 52,
     "metadata": {},
     "output_type": "execute_result"
    },
    {
     "data": {
      "image/png": "[encoded data removed]",
      "text/plain": [
       "<Figure size 640x480 with 1 Axes>"
      ]
     },
     "metadata": {},
     "output_type": "display_data"
    }
   ],
   "source": [
    "plt.imshow(Xhat[1,:,:])"
   ]
  },
  {
   "cell_type": "code",
   "execution_count": 53,
   "id": "b3932267-b1bc-415d-95ef-f7e26b88c269",
   "metadata": {},
   "outputs": [
    {
     "name": "stdout",
     "output_type": "stream",
     "text": [
      "(8, 1528, 201)\n"
     ]
    }
   ],
   "source": [
    "m_centered = np.zeros((numC,numC, numT, nSubj))\n",
    "for ival, isubj in enumerate(subjs_list):\n",
    "    Xhat = preds[ival]\n",
    "    Xhat_centered = 0*Xhat.copy()\n",
    "    \n",
    "    for ic in range(numC): # here trials that match similar label orientation are shifted together x positions (np.roll)\n",
    "        Xhat_centered[:, G[ival] == ic,:] = np.roll(Xhat[:,G[ival] == ic,:], -ic, axis = 0)\n",
    "        m_centered[:,ic, :, ival] =  np.mean( Xhat_centered[:,  G[ival] == ic, :], axis = 1)\n",
    "\n",
    "print(Xhat.shape)"
   ]
  },
  {
   "cell_type": "code",
   "execution_count": 54,
   "id": "22f8b61c",
   "metadata": {},
   "outputs": [
    {
     "name": "stdout",
     "output_type": "stream",
     "text": [
      "(8, 8, 201, 7)\n"
     ]
    }
   ],
   "source": [
    "print(m_centered.shape)"
   ]
  },
  {
   "cell_type": "code",
   "execution_count": 55,
   "id": "5f73b092",
   "metadata": {},
   "outputs": [
    {
     "name": "stdout",
     "output_type": "stream",
     "text": [
      "(8, 201, 7)\n",
      "(8, 201)\n"
     ]
    }
   ],
   "source": [
    "Xhat_centeredmean = np.mean( m_centered, axis = 1)\n",
    "print(Xhat_centeredmean.shape)\n",
    "Xhat_centeredmean = np.mean( Xhat_centeredmean, axis = 2)\n",
    "print(Xhat_centeredmean.shape)"
   ]
  },
  {
   "cell_type": "code",
   "execution_count": 56,
   "id": "c6c4c47d",
   "metadata": {},
   "outputs": [
    {
     "data": {
      "text/plain": [
       "<matplotlib.colorbar.Colorbar at 0x7fc0d3bbb730>"
      ]
     },
     "execution_count": 56,
     "metadata": {},
     "output_type": "execute_result"
    },
    {
     "data": {
      "image/png": "[encoded data removed]",
      "text/plain": [
       "<Figure size 600x300 with 2 Axes>"
      ]
     },
     "metadata": {},
     "output_type": "display_data"
    }
   ],
   "source": [
    "fig, ax = plt.subplots(1, 1, figsize=(6, 3))\n",
    "plt.imshow(Xhat_centeredmean,aspect='auto')\n",
    "plt.colorbar()\n"
   ]
  },
  {
   "cell_type": "code",
   "execution_count": 122,
   "id": "9fb007d2",
   "metadata": {},
   "outputs": [],
   "source": [
    "m = np.zeros((numC,numC, numT, nSubj))\n",
    "for ival, isubj in enumerate(subjs_list):\n",
    "    Xhat = preds[ival]\n",
    "    Xhat_centered = 0*Xhat.copy()\n",
    "    \n",
    "    for ic in range(numC): # here trials that match similar label orientation are shifted together x positions (np.roll)\n",
    "        Xhat_centered[:, G[ival] == ic,:] = np.roll(Xhat[:,G[ival] == ic,:], -ic, axis = 0)\n",
    "        m[:,ic, :, ival] =  np.mean( Xhat_centered[:,  G[ival] == ic, :], axis = 1)\n",
    "    "
   ]
  },
  {
   "cell_type": "code",
   "execution_count": 123,
   "id": "f319eb27",
   "metadata": {},
   "outputs": [
    {
     "name": "stdout",
     "output_type": "stream",
     "text": [
      "(8, 1528, 201)\n"
     ]
    },
    {
     "data": {
      "text/plain": [
       "(8, 8, 201, 7)"
      ]
     },
     "execution_count": 123,
     "metadata": {},
     "output_type": "execute_result"
    }
   ],
   "source": [
    "print(Xhat_centered.shape)\n",
    "m.shape"
   ]
  },
  {
   "cell_type": "code",
   "execution_count": 124,
   "id": "aa54b322",
   "metadata": {},
   "outputs": [
    {
     "name": "stdout",
     "output_type": "stream",
     "text": [
      "(8, 8, 201)\n",
      "(8, 201)\n"
     ]
    }
   ],
   "source": [
    "m = np.mean( m, axis = 3)\n",
    "print(m.shape)\n",
    "m = np.mean( m, axis = 1)\n",
    "print(m.shape)"
   ]
  },
  {
   "cell_type": "code",
   "execution_count": 125,
   "id": "80c1c24a",
   "metadata": {},
   "outputs": [
    {
     "data": {
      "text/plain": [
       "<matplotlib.colorbar.Colorbar at 0x7fc0e4176ef0>"
      ]
     },
     "execution_count": 125,
     "metadata": {},
     "output_type": "execute_result"
    },
    {
     "data": {
      "image/png": "[encoded data removed]",
      "text/plain": [
       "<Figure size 600x300 with 2 Axes>"
      ]
     },
     "metadata": {},
     "output_type": "display_data"
    }
   ],
   "source": [
    "fig, ax = plt.subplots(1, 1, figsize=(6, 3))\n",
    "plt.imshow(m,aspect='auto')\n",
    "plt.colorbar()"
   ]
  },
  {
   "cell_type": "code",
   "execution_count": 121,
   "id": "9965b623",
   "metadata": {},
   "outputs": [
    {
     "data": {
      "text/plain": [
       "[<matplotlib.lines.Line2D at 0x7fc0d44acbb0>]"
      ]
     },
     "execution_count": 121,
     "metadata": {},
     "output_type": "execute_result"
    },
    {
     "data": {
      "image/png": "[encoded data removed]",
      "text/plain": [
       "<Figure size 640x480 with 1 Axes>"
      ]
     },
     "metadata": {},
     "output_type": "display_data"
    }
   ],
   "source": [
    "plt.plot(m[:,150])"
   ]
  },
  {
   "cell_type": "code",
   "execution_count": 16,
   "id": "ef993aff",
   "metadata": {},
   "outputs": [
    {
     "data": {
      "text/plain": [
       "'\\nplot uncentered one\\n'"
      ]
     },
     "execution_count": 16,
     "metadata": {},
     "output_type": "execute_result"
    }
   ],
   "source": [
    "'''\n",
    "plot uncentered one\n",
    "'''"
   ]
  },
  {
   "cell_type": "code",
   "execution_count": 17,
   "id": "d04a5a98",
   "metadata": {},
   "outputs": [
    {
     "ename": "SyntaxError",
     "evalue": "invalid syntax (2281603054.py, line 1)",
     "output_type": "error",
     "traceback": [
      "\u001b[0;36m  Cell \u001b[0;32mIn[17], line 1\u001b[0;36m\u001b[0m\n\u001b[0;31m    lets forget about crossmodal for now\u001b[0m\n\u001b[0m         ^\u001b[0m\n\u001b[0;31mSyntaxError\u001b[0m\u001b[0;31m:\u001b[0m invalid syntax\n"
     ]
    }
   ],
   "source": [
    "lets forget about crossmodal for now"
   ]
  },
  {
   "attachments": {},
   "cell_type": "markdown",
   "id": "9a49a85b",
   "metadata": {},
   "source": [
    "# crossmodal"
   ]
  },
  {
   "cell_type": "code",
   "execution_count": null,
   "id": "0912ec9f",
   "metadata": {},
   "outputs": [],
   "source": [
    "from DecToolbox import CV_TG_encoder\n",
    "\n",
    "nSubj = len(subjs_list)\n",
    "Zpreds = [None] * nSubj\n",
    "G = [None] * nSubj\n",
    "\n",
    "for subj in range(nSubj):\n",
    "    print(subj)\n",
    "    time = all_st_epochs[subj].times\n",
    "    label = all_st_epochs[subj].ch_names\n",
    "    Y = all_st_rawdata[subj]['epoch_dat']\n",
    "    Y = np.einsum('kji->jik', Y)\n",
    "    Y = np.delete(Y, 25, axis=0)\n",
    "\n",
    "    X = np.array(all_st_rawdata[subj]['metadata'].orient)\n",
    "    X = np.digitize(X, bins = np.array(angles))-1.\n",
    "    phi = X * (180./numC)\n",
    "    numF, numT, numN = Y.shape\n",
    "\n",
    "    G[subj] = X.copy() \n",
    "    \n",
    "    CONDS = np.unique(G[subj])\n",
    "    nConds = CONDS.size\n",
    "    nfold = 5\n",
    "    FoldsIdx = dt.CreateFolds(G[subj], Y, nfold)\n",
    "    \n",
    "    design, sortedesign = dt.stim_features(phi, cfg_stim)\n",
    "    \n",
    "    Xhat = np.zeros([numC,numN, numT, numT])\n",
    "    for it in range(numT):\n",
    "        cfg = dict()\n",
    "        cfg['cfgE'] = {'gamma': 0.01, 'demean' : True, 'returnPattern' : True}\n",
    "        cfg['cfgD'] = {'demean' : 'traindata'}\n",
    "        Xhat[:,:,it,:] = CV_TG_encoder(design, Y, it, cfg, FoldsIdx)\n",
    "    \n",
    "    Zpreds[subj] = Xhat   "
   ]
  },
  {
   "cell_type": "code",
   "execution_count": null,
   "id": "e922ec5f",
   "metadata": {},
   "outputs": [],
   "source": [
    "m_centered = np.zeros((numC,numC, numT,numT, nSubj))\n",
    "for ival, isubj in enumerate(subjs_list):\n",
    "    Zhat = Zpreds[ival]\n",
    "    Zhat_centered = 0*Zhat.copy()\n",
    "    \n",
    "    for ic in range(numC): # here trials that match similar label orientation are shifted together x positions (np.roll)\n",
    "        Zhat_centered[:, G[ival] == ic,:] = np.roll(Zhat[:,G[ival] == ic,:], -ic, axis = 0)\n",
    "        m_centered[:,ic, :, :, ival] =  np.mean( Zhat_centered[:,  G[ival] == ic, :], axis = 1)"
   ]
  },
  {
   "cell_type": "code",
   "execution_count": null,
   "id": "fd55572e",
   "metadata": {},
   "outputs": [],
   "source": [
    "print(Zhat.shape, m_centered.shape)"
   ]
  },
  {
   "cell_type": "code",
   "execution_count": null,
   "id": "1022bb23",
   "metadata": {},
   "outputs": [],
   "source": [
    "Zhat_centered_subjmean = np.mean(m_centered,axis=1)\n",
    "print(Zhat_centered_subjmean.shape)\n",
    "Zhat_timecentered = np.mean(Zhat_centered_subjmean, axis = 3)\n",
    "Zhat_timecentered = np.mean(Zhat_timecentered, axis = 2)\n",
    "\n",
    "\n",
    "fig, ax = plt.subplots(1, 1, figsize=(6, 3))\n",
    "plt.imshow(Zhat_timecentered,aspect='auto')\n",
    "plt.colorbar()\n"
   ]
  },
  {
   "cell_type": "code",
   "execution_count": null,
   "id": "ebcc8125",
   "metadata": {},
   "outputs": [],
   "source": [
    "r = np.zeros((numT, numT))\n",
    "\n",
    "for it1 in range(numT):\n",
    "    for it2 in range(numT):\n",
    "        # Kernel to back project channel outputs to orientation space\n",
    "        kernel = np.exp(1j * (np.linspace(0, numC-1,numC)*(2*np.pi/numC)))\n",
    "        Z = kernel @ Xhat[:,:, it1, it2]\n",
    "\n",
    "        theta = np.mod(np.angle(Z), 2*np.pi) * (180/np.pi) / 2    # Decoded orientation (retain the module of the complex number)\n",
    "\n",
    "        rs = np.mean(np.exp(1j * (theta - phi) * (np.pi/180)*2)) # correlation between decoded and presented orientation\n",
    "        r[it1, it2] = np.abs(rs) * np.cos(np.angle(rs))\n",
    "'''1 min mac'''"
   ]
  },
  {
   "cell_type": "code",
   "execution_count": null,
   "id": "fcfcba5a",
   "metadata": {},
   "outputs": [],
   "source": [
    "print(r)"
   ]
  },
  {
   "cell_type": "code",
   "execution_count": null,
   "id": "f82ab309",
   "metadata": {},
   "outputs": [],
   "source": [
    "time_labels = [0, 0.2, 0.4, 0.6]\n",
    "fig, ax = plt.subplots(1, 1, figsize=(4, 4))\n",
    "plt.imshow(r, aspect= 1, interpolation = None, vmin = -0.25, vmax = 0.25, origin = 'lower',extent=[time[0],time[-1],time[0],time[-1]])\n",
    "plt.colorbar()"
   ]
  },
  {
   "cell_type": "code",
   "execution_count": null,
   "id": "10931ce9",
   "metadata": {},
   "outputs": [],
   "source": [
    "end = tic.time()\n",
    "print(end-start)"
   ]
  },
  {
   "cell_type": "code",
   "execution_count": null,
   "id": "bd2479b0",
   "metadata": {},
   "outputs": [],
   "source": []
  }
 ],
 "metadata": {
  "kernelspec": {
   "display_name": "Python 3 (ipykernel)",
   "language": "python",
   "name": "python3"
  },
  "language_info": {
   "codemirror_mode": {
    "name": "ipython",
    "version": 3
   },
   "file_extension": ".py",
   "mimetype": "text/x-python",
   "name": "python",
   "nbconvert_exporter": "python",
   "pygments_lexer": "ipython3",
   "version": "3.10.11"
  },
  "vscode": {
   "interpreter": {
    "hash": "78277f196899d30b09f8eb84b1d60d6cc910a2e198812045736ce186b763ced0"
   }
  }
 },
 "nbformat": 4,
 "nbformat_minor": 5
}
